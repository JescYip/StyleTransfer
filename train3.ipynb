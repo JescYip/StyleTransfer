{
  "cells": [
    {
      "cell_type": "markdown",
      "metadata": {
        "id": "view-in-github",
        "colab_type": "text"
      },
      "source": [
        "<a href=\"https://colab.research.google.com/github/JescYip/StyleTransfer/blob/main/train3.ipynb\" target=\"_parent\"><img src=\"https://colab.research.google.com/assets/colab-badge.svg\" alt=\"Open In Colab\"/></a>"
      ]
    },
    {
      "cell_type": "code",
      "execution_count": null,
      "metadata": {
        "collapsed": true,
        "id": "i8XHGcbc0A6s"
      },
      "outputs": [],
      "source": [
        "from google.colab import drive\n",
        "drive.mount('/content/drive')\n",
        "!bash init_style_transfer_v2.sh\n",
        "!pip uninstall -y tensorboard tensorflow jax jaxlib\n",
        "!pip install tensorboardX\n",
        "!pip install lpips\n",
        "%cd /content/StyleTransfer"
      ]
    },
    {
      "cell_type": "code",
      "execution_count": null,
      "metadata": {
        "colab": {
          "base_uri": "https://localhost:8080/"
        },
        "id": "lrvhWMM50kia",
        "outputId": "dd30e4c9-f107-4979-b3bc-cc6ae03f2e27"
      },
      "outputs": [
        {
          "output_type": "stream",
          "name": "stdout",
          "text": [
            "Namespace(config='configs/llff.txt', expname='orchids_base', basedir='./log', add_timestamp=0, datadir='/content/drive/MyDrive/data/nerf_llff_data/orchids', wikiartdir='./data/WikiArt', progress_refresh_rate=10, with_depth=False, downsample_train=4.0, downsample_test=1.0, model_name='TensorVMSplit', batch_size=4096, n_iters=25000, dataset_name='llff', patch_size=256, chunk_size=4096, lr_init=0.02, lr_basis=0.0001, lr_finetune=1e-05, lr_decay_iters=-1, lr_decay_target_ratio=0.1, lr_upsample_reset=1, L1_weight_inital=0.0, L1_weight_rest=0, Ortho_weight=0.0, TV_weight_density=1.0, TV_weight_app=1.0, TV_weight_feature=0.0, style_weight=0, content_weight=0, image_tv_weight=0, featuremap_tv_weight=0, n_lamb_sigma=[16, 4, 4], n_lamb_sh=[48, 12, 12], data_dim_color=27, rm_weight_mask_thre=0.0001, alpha_mask_thre=0.0001, distance_scale=25, density_shift=-10, shadingMode='MLP_Fea', pos_pe=6, view_pe=0, fea_pe=0, featureC=128, ckpt=None, render_only=0, render_test=1, render_train=0, render_path=1, export_mesh=0, style_img=None, lindisp=False, perturb=1.0, accumulate_decay=0.998, fea2denseAct='relu', ndc_ray=1, nSamples=1000000.0, step_ratio=0.5, white_bkgd=False, N_voxel_init=2097156, N_voxel_final=262144000, upsamp_list=[2000, 3000, 4000, 5500], update_AlphaMask_list=[2500], idx_view=0, N_vis=-1, vis_every=10000)\n",
            "aabb tensor([-1.5000, -1.6700, -1.0000,  1.5000,  1.6700,  1.0000], device='cuda:0')\n",
            "grid size [141, 157, 94]\n",
            "sampling step size:  tensor(0.0107, device='cuda:0')\n",
            "sampling number:  459\n",
            "pos_pe 6 view_pe 0 fea_pe 0\n",
            "lr decay 0.1 25000\n",
            "initial Ortho_reg_weight 0.0\n",
            "initial L1_reg_weight 0.0\n",
            "initial TV_weight density: 1.0 appearance: 1.0\n",
            "Iteration 02000: train_psnr = 19.48 test_psnr = 0.00 mse = 0.011042:   8% 2000/25000 [03:03<29:04, 13.19it/s]aabb tensor([-1.5000, -1.6700, -1.0000,  1.5000,  1.6700,  1.0000], device='cuda:0')\n",
            "grid size [211, 235, 140]\n",
            "sampling step size:  tensor(0.0072, device='cuda:0')\n",
            "sampling number:  687\n",
            "upsamping to [211, 235, 140]\n",
            "reset lr to initial\n",
            "Iteration 02500: train_psnr = 20.10 test_psnr = 0.00 mse = 0.010331:  10% 2500/25000 [03:54<38:05,  9.84it/s]/usr/local/lib/python3.11/dist-packages/torch/functional.py:504: UserWarning: torch.meshgrid: in an upcoming release, it will be required to pass the indexing argument. (Triggered internally at ../aten/src/ATen/native/TensorShape.cpp:3483.)\n",
            "  return _VF.meshgrid(tensors, **kwargs)  # type: ignore[attr-defined]\n",
            "bbox: (tensor([-1.5000, -1.6700, -1.0000], device='cuda:0'), tensor([1.5000, 1.6700, 1.0000], device='cuda:0')) alpha rest %47.308586\n",
            "====> shrinking ...\n",
            "aabb tensor([-1.5000, -1.6700, -1.0000,  1.5000,  1.6700,  1.0000], device='cuda:0')\n",
            "grid size (tensor(211, device='cuda:0'), tensor(235, device='cuda:0'), tensor(140, device='cuda:0'))\n",
            "sampling step size:  tensor(0.0072, device='cuda:0')\n",
            "sampling number:  687\n",
            "continuing L1_reg_weight 0\n",
            "Iteration 03000: train_psnr = 20.12 test_psnr = 0.00 mse = 0.009985:  12% 3000/25000 [04:35<29:44, 12.33it/s]aabb tensor([-1.5000, -1.6700, -1.0000,  1.5000,  1.6700,  1.0000], device='cuda:0')\n",
            "grid size [316, 351, 210]\n",
            "sampling step size:  tensor(0.0048, device='cuda:0')\n",
            "sampling number:  1030\n",
            "upsamping to [316, 351, 210]\n",
            "reset lr to initial\n",
            "Iteration 04000: train_psnr = 21.06 test_psnr = 0.00 mse = 0.008075:  16% 4000/25000 [06:33<40:41,  8.60it/s]aabb tensor([-1.5000, -1.6700, -1.0000,  1.5000,  1.6700,  1.0000], device='cuda:0')\n",
            "grid size [472, 526, 315]\n",
            "sampling step size:  tensor(0.0032, device='cuda:0')\n",
            "sampling number:  1544\n",
            "upsamping to [472, 526, 315]\n",
            "reset lr to initial\n",
            "Iteration 05500: train_psnr = 21.89 test_psnr = 0.00 mse = 0.005982:  22% 5500/25000 [11:00<57:06,  5.69it/s]aabb tensor([-1.5000, -1.6700, -1.0000,  1.5000,  1.6700,  1.0000], device='cuda:0')\n",
            "grid size [706, 786, 471]\n",
            "sampling step size:  tensor(0.0021, device='cuda:0')\n",
            "sampling number:  2311\n",
            "upsamping to [706, 786, 471]\n",
            "reset lr to initial\n",
            "4it [01:03, 15.76s/it]\n",
            "WARNING:imageio_ffmpeg:IMAGEIO FFMPEG_WRITER WARNING: input image is not divisible by macro_block_size=16, resizing from (1008, 756) to (1008, 768) to ensure video compatibility with most codecs and players. To prevent resizing, make your input image divisible by the macro_block_size or set the macro_block_size to 1 (risking incompatibility).\n",
            "WARNING:imageio_ffmpeg:IMAGEIO FFMPEG_WRITER WARNING: input image is not divisible by macro_block_size=16, resizing from (1008, 756) to (1008, 768) to ensure video compatibility with most codecs and players. To prevent resizing, make your input image divisible by the macro_block_size or set the macro_block_size to 1 (risking incompatibility).\n",
            "4it [01:02, 15.68s/it]\n",
            "WARNING:imageio_ffmpeg:IMAGEIO FFMPEG_WRITER WARNING: input image is not divisible by macro_block_size=16, resizing from (1008, 756) to (1008, 768) to ensure video compatibility with most codecs and players. To prevent resizing, make your input image divisible by the macro_block_size or set the macro_block_size to 1 (risking incompatibility).\n",
            "WARNING:imageio_ffmpeg:IMAGEIO FFMPEG_WRITER WARNING: input image is not divisible by macro_block_size=16, resizing from (1008, 756) to (1008, 768) to ensure video compatibility with most codecs and players. To prevent resizing, make your input image divisible by the macro_block_size or set the macro_block_size to 1 (risking incompatibility).\n",
            "Iteration 24990: train_psnr = 25.69 test_psnr = 20.00 mse = 0.002678: 100% 25000/25000 [1:44:16<00:00,  4.00it/s]\n",
            "0it [00:00, ?it/s]init_lpips: lpips_alex\n",
            "Setting up [LPIPS] perceptual loss: trunk [alex], v[0.1], spatial [off]\n",
            "/usr/local/lib/python3.11/dist-packages/torchvision/models/_utils.py:208: UserWarning: The parameter 'pretrained' is deprecated since 0.13 and may be removed in the future, please use 'weights' instead.\n",
            "  warnings.warn(\n",
            "/usr/local/lib/python3.11/dist-packages/torchvision/models/_utils.py:223: UserWarning: Arguments other than a weight enum or `None` for 'weights' are deprecated since 0.13 and may be removed in the future. The current behavior is equivalent to passing `weights=AlexNet_Weights.IMAGENET1K_V1`. You can also use `weights=AlexNet_Weights.DEFAULT` to get the most up-to-date weights.\n",
            "  warnings.warn(msg)\n",
            "Downloading: \"https://download.pytorch.org/models/alexnet-owt-7be5be79.pth\" to /root/.cache/torch/hub/checkpoints/alexnet-owt-7be5be79.pth\n",
            "\n",
            "  0% 0.00/233M [00:00<?, ?B/s]\u001b[A\n",
            "  1% 1.77M/233M [00:00<00:13, 18.5MB/s]\u001b[A\n",
            " 10% 22.6M/233M [00:00<00:01, 136MB/s] \u001b[A\n",
            " 19% 44.9M/233M [00:00<00:01, 181MB/s]\u001b[A\n",
            " 28% 65.4M/233M [00:00<00:00, 194MB/s]\u001b[A\n",
            " 37% 85.2M/233M [00:00<00:00, 199MB/s]\u001b[A\n",
            " 45% 104M/233M [00:00<00:00, 183MB/s] \u001b[A\n",
            " 52% 122M/233M [00:00<00:00, 171MB/s]\u001b[A\n",
            " 59% 138M/233M [00:00<00:00, 172MB/s]\u001b[A\n",
            " 66% 155M/233M [00:00<00:00, 171MB/s]\u001b[A\n",
            " 74% 172M/233M [00:01<00:00, 175MB/s]\u001b[A\n",
            " 82% 191M/233M [00:01<00:00, 180MB/s]\u001b[A\n",
            " 90% 209M/233M [00:01<00:00, 183MB/s]\u001b[A\n",
            "100% 233M/233M [00:01<00:00, 176MB/s]\n",
            "Loading model from: /usr/local/lib/python3.11/dist-packages/lpips/weights/v0.1/alex.pth\n",
            "init_lpips: lpips_vgg\n",
            "Setting up [LPIPS] perceptual loss: trunk [vgg], v[0.1], spatial [off]\n",
            "/usr/local/lib/python3.11/dist-packages/torchvision/models/_utils.py:223: UserWarning: Arguments other than a weight enum or `None` for 'weights' are deprecated since 0.13 and may be removed in the future. The current behavior is equivalent to passing `weights=VGG16_Weights.IMAGENET1K_V1`. You can also use `weights=VGG16_Weights.DEFAULT` to get the most up-to-date weights.\n",
            "  warnings.warn(msg)\n",
            "Downloading: \"https://download.pytorch.org/models/vgg16-397923af.pth\" to /root/.cache/torch/hub/checkpoints/vgg16-397923af.pth\n",
            "\n",
            "  0% 0.00/528M [00:00<?, ?B/s]\u001b[A\n",
            "  3% 16.9M/528M [00:00<00:03, 177MB/s]\u001b[A\n",
            "  9% 46.4M/528M [00:00<00:01, 255MB/s]\u001b[A\n",
            " 14% 73.1M/528M [00:00<00:01, 266MB/s]\u001b[A\n",
            " 19% 98.5M/528M [00:00<00:01, 252MB/s]\u001b[A\n",
            " 23% 123M/528M [00:00<00:01, 252MB/s] \u001b[A\n",
            " 28% 149M/528M [00:00<00:01, 259MB/s]\u001b[A\n",
            " 33% 173M/528M [00:00<00:01, 248MB/s]\u001b[A\n",
            " 38% 200M/528M [00:00<00:01, 258MB/s]\u001b[A\n",
            " 43% 226M/528M [00:00<00:01, 262MB/s]\u001b[A\n",
            " 48% 251M/528M [00:01<00:01, 262MB/s]\u001b[A\n",
            " 53% 278M/528M [00:01<00:00, 268MB/s]\u001b[A\n",
            " 58% 304M/528M [00:01<00:00, 244MB/s]\u001b[A\n",
            " 62% 328M/528M [00:01<00:00, 245MB/s]\u001b[A\n",
            " 67% 352M/528M [00:01<00:00, 248MB/s]\u001b[A\n",
            " 72% 382M/528M [00:01<00:00, 267MB/s]\u001b[A\n",
            " 77% 407M/528M [00:01<00:00, 262MB/s]\u001b[A\n",
            " 82% 433M/528M [00:01<00:00, 252MB/s]\u001b[A\n",
            " 87% 457M/528M [00:01<00:00, 253MB/s]\u001b[A\n",
            " 92% 483M/528M [00:01<00:00, 260MB/s]\u001b[A\n",
            "100% 528M/528M [00:02<00:00, 258MB/s]\n",
            "Loading model from: /usr/local/lib/python3.11/dist-packages/lpips/weights/v0.1/vgg.pth\n",
            "4it [01:17, 19.35s/it]\n",
            "WARNING:imageio_ffmpeg:IMAGEIO FFMPEG_WRITER WARNING: input image is not divisible by macro_block_size=16, resizing from (1008, 756) to (1008, 768) to ensure video compatibility with most codecs and players. To prevent resizing, make your input image divisible by the macro_block_size or set the macro_block_size to 1 (risking incompatibility).\n",
            "WARNING:imageio_ffmpeg:IMAGEIO FFMPEG_WRITER WARNING: input image is not divisible by macro_block_size=16, resizing from (1008, 756) to (1008, 768) to ensure video compatibility with most codecs and players. To prevent resizing, make your input image divisible by the macro_block_size or set the macro_block_size to 1 (risking incompatibility).\n",
            "======> orchids_base test all psnr: 19.930621135421127 <========================\n",
            "========> (120, 4, 4)\n",
            "120it [31:48, 15.90s/it]\n",
            "WARNING:imageio_ffmpeg:IMAGEIO FFMPEG_WRITER WARNING: input image is not divisible by macro_block_size=16, resizing from (1008, 756) to (1008, 768) to ensure video compatibility with most codecs and players. To prevent resizing, make your input image divisible by the macro_block_size or set the macro_block_size to 1 (risking incompatibility).\n",
            "WARNING:imageio_ffmpeg:IMAGEIO FFMPEG_WRITER WARNING: input image is not divisible by macro_block_size=16, resizing from (1008, 756) to (1008, 768) to ensure video compatibility with most codecs and players. To prevent resizing, make your input image divisible by the macro_block_size or set the macro_block_size to 1 (risking incompatibility).\n"
          ]
        }
      ],
      "source": [
        "!python train.py \\\n",
        "  --config configs/llff.txt \\\n",
        "  --datadir /content/drive/MyDrive/data/nerf_llff_data/orchids \\\n",
        "  --expname orchids_base\n"
      ]
    },
    {
      "cell_type": "code",
      "source": [
        "!python /content/StyleTransfer/train_feature.py \\\n",
        "  --config /content/StyleTransfer/configs/llff_feature.txt \\\n",
        "  --datadir /content/drive/MyDrive/data/nerf_llff_data/orchids \\\n",
        "  --expname orchids_feature \\\n",
        "  --ckpt /content/drive/MyDrive/orchids_base/orchids_base.th \\\n",
        "  --basedir /content/drive/MyDrive/orchids_feature\n"
      ],
      "metadata": {
        "colab": {
          "base_uri": "https://localhost:8080/"
        },
        "id": "kSWt1d-yfage",
        "outputId": "f4904184-b8d2-4b07-c896-c6de1687017e"
      },
      "execution_count": null,
      "outputs": [
        {
          "output_type": "stream",
          "name": "stdout",
          "text": [
            "Namespace(config='/content/StyleTransfer/configs/llff_feature.txt', expname='orchids_feature', basedir='/content/drive/MyDrive/orchids_feature', add_timestamp=0, datadir='/content/drive/MyDrive/data/nerf_llff_data/orchids', wikiartdir='./data/WikiArt', progress_refresh_rate=10, with_depth=False, downsample_train=4.0, downsample_test=1.0, model_name='TensorVMSplit', batch_size=4096, n_iters=10000, dataset_name='llff', patch_size=256, chunk_size=4096, lr_init=0.02, lr_basis=0.0001, lr_finetune=1e-05, lr_decay_iters=-1, lr_decay_target_ratio=0.1, lr_upsample_reset=1, L1_weight_inital=0.0, L1_weight_rest=0, Ortho_weight=0.0, TV_weight_density=0.0, TV_weight_app=0.0, TV_weight_feature=80.0, style_weight=0, content_weight=0, image_tv_weight=0, featuremap_tv_weight=0, n_lamb_sigma=[16, 4, 4], n_lamb_sh=[48, 12, 12], data_dim_color=27, rm_weight_mask_thre=0.0001, alpha_mask_thre=0.0001, distance_scale=25, density_shift=-10, shadingMode='MLP_Fea', pos_pe=6, view_pe=6, fea_pe=6, featureC=128, ckpt='/content/drive/MyDrive/orchids_base/orchids_base.th', render_only=0, render_test=0, render_train=0, render_path=0, export_mesh=0, style_img=None, lindisp=False, perturb=1.0, accumulate_decay=0.998, fea2denseAct='relu', ndc_ray=1, nSamples=1000000.0, step_ratio=0.5, white_bkgd=False, N_voxel_init=2097156, N_voxel_final=262144000, upsamp_list=[2000, 3000, 4000, 5500], update_AlphaMask_list=[2500], idx_view=0, N_vis=5, vis_every=10000)\n",
            "aabb tensor([-1.5000, -1.6700, -1.0000,  1.5000,  1.6700,  1.0000], device='cuda:0')\n",
            "grid size [706, 786, 471]\n",
            "sampling step size:  tensor(0.0021, device='cuda:0')\n",
            "sampling number:  2311\n",
            "pos_pe 6 view_pe 0 fea_pe 0\n",
            "====> prepare_feature_data (low memory + save per frame)...\n",
            "  0% 0/21 [00:00<?, ?it/s]/usr/local/lib/python3.11/dist-packages/torchvision/transforms/functional.py:1603: UserWarning: The default value of the antialias parameter of all the resizing transforms (Resize(), RandomResizedCrop(), etc.) will change from None to True in v0.17, in order to be consistent across the PIL and Tensor backends. To suppress this warning, directly pass antialias=True (recommended, future default), antialias=None (current default, which means False for Tensors and True for PIL), or antialias=False (only works on Tensors - PIL will still use antialiasing). This also applies if you are using the inference transforms from the models weights: update the call to weights.transforms(antialias=True).\n",
            "  warnings.warn(\n",
            "100% 21/21 [03:17<00:00,  9.40s/it]\n",
            "====> feature extraction and save DONE.\n",
            "lr decay 0.1 10000\n",
            "initial TV_weight_feature: 80.0\n",
            "Iteration 00010: psnr = 11.44:   0% 15/10000 [01:25<15:53:22,  5.73s/it]\n",
            "Traceback (most recent call last):\n",
            "  File \"/content/StyleTransfer/train_feature.py\", line 289, in <module>\n",
            "    reconstruction(args)\n",
            "  File \"/content/StyleTransfer/train_feature.py\", line 211, in reconstruction\n",
            "    feature_map, _ = renderer(rays_train, tensorf, chunk=args.chunk_size, N_samples=nSamples,\n",
            "                     ^^^^^^^^^^^^^^^^^^^^^^^^^^^^^^^^^^^^^^^^^^^^^^^^^^^^^^^^^^^^^^^^^^^^^^^^\n",
            "  File \"/content/StyleTransfer/renderer.py\", line 25, in OctreeRender_trilinear_fast\n",
            "    feature_map, acc_map = tensorf.render_feature_map(rays_chunk, s_mean_std_mat=s_mean_std_mat, is_train=is_train, ndc_ray=ndc_ray, N_samples=N_samples)\n",
            "                           ^^^^^^^^^^^^^^^^^^^^^^^^^^^^^^^^^^^^^^^^^^^^^^^^^^^^^^^^^^^^^^^^^^^^^^^^^^^^^^^^^^^^^^^^^^^^^^^^^^^^^^^^^^^^^^^^^^^^^^^^^^^^^^\n",
            "  File \"/content/StyleTransfer/models/tensoRF.py\", line 216, in render_feature_map\n",
            "    xyz_sampled = self.normalize_coord(xyz_sampled)\n",
            "                  ^^^^^^^^^^^^^^^^^^^^^^^^^^^^^^^^^\n",
            "  File \"/content/StyleTransfer/models/tensorBase.py\", line 217, in normalize_coord\n",
            "    def normalize_coord(self, xyz_sampled):\n",
            "\n",
            "KeyboardInterrupt\n",
            "^C\n"
          ]
        }
      ]
    },
    {
      "cell_type": "code",
      "source": [
        "!python /content/StyleTransfer/train.py \\\n",
        "  --config /content/StyleTransfer/configs/llff.txt \\\n",
        "  --datadir /content/drive/MyDrive/data/nerf_llff_data/orchids \\\n",
        "  --ckpt /content/StyleTransfer/log/orchids_base/orchids_base.th \\\n",
        "  --render_only 1 \\\n",
        "  --render_test 1"
      ],
      "metadata": {
        "colab": {
          "base_uri": "https://localhost:8080/"
        },
        "id": "WfIFZ7nXKDhJ",
        "outputId": "a05aa89a-92e7-4531-8458-90d7068e788b"
      },
      "execution_count": null,
      "outputs": [
        {
          "output_type": "stream",
          "name": "stdout",
          "text": [
            "Namespace(config='/content/StyleTransfer/configs/llff.txt', expname='trex', basedir='./log', add_timestamp=0, datadir='/content/drive/MyDrive/data/nerf_llff_data/orchids', wikiartdir='./data/WikiArt', progress_refresh_rate=10, with_depth=False, downsample_train=4.0, downsample_test=1.0, model_name='TensorVMSplit', batch_size=4096, n_iters=25000, dataset_name='llff', patch_size=256, chunk_size=4096, lr_init=0.02, lr_basis=0.0001, lr_finetune=1e-05, lr_decay_iters=-1, lr_decay_target_ratio=0.1, lr_upsample_reset=1, L1_weight_inital=0.0, L1_weight_rest=0, Ortho_weight=0.0, TV_weight_density=1.0, TV_weight_app=1.0, TV_weight_feature=0.0, style_weight=0, content_weight=0, image_tv_weight=0, featuremap_tv_weight=0, n_lamb_sigma=[16, 4, 4], n_lamb_sh=[48, 12, 12], data_dim_color=27, rm_weight_mask_thre=0.0001, alpha_mask_thre=0.0001, distance_scale=25, density_shift=-10, shadingMode='MLP_Fea', pos_pe=6, view_pe=0, fea_pe=0, featureC=128, ckpt='/content/StyleTransfer/log/orchids_base/orchids_base.th', render_only=1, render_test=1, render_train=0, render_path=1, export_mesh=0, style_img=None, lindisp=False, perturb=1.0, accumulate_decay=0.998, fea2denseAct='relu', ndc_ray=1, nSamples=1000000.0, step_ratio=0.5, white_bkgd=False, N_voxel_init=2097156, N_voxel_final=262144000, upsamp_list=[2000, 3000, 4000, 5500], update_AlphaMask_list=[2500], idx_view=0, N_vis=-1, vis_every=10000)\n",
            "aabb tensor([-1.5000, -1.6700, -1.0000,  1.5000,  1.6700,  1.0000], device='cuda:0')\n",
            "grid size [706, 786, 471]\n",
            "sampling step size:  tensor(0.0021, device='cuda:0')\n",
            "sampling number:  2311\n",
            "pos_pe 6 view_pe 0 fea_pe 0\n",
            "0it [00:00, ?it/s]init_lpips: lpips_alex\n",
            "Setting up [LPIPS] perceptual loss: trunk [alex], v[0.1], spatial [off]\n",
            "/usr/local/lib/python3.11/dist-packages/torchvision/models/_utils.py:208: UserWarning: The parameter 'pretrained' is deprecated since 0.13 and may be removed in the future, please use 'weights' instead.\n",
            "  warnings.warn(\n",
            "/usr/local/lib/python3.11/dist-packages/torchvision/models/_utils.py:223: UserWarning: Arguments other than a weight enum or `None` for 'weights' are deprecated since 0.13 and may be removed in the future. The current behavior is equivalent to passing `weights=AlexNet_Weights.IMAGENET1K_V1`. You can also use `weights=AlexNet_Weights.DEFAULT` to get the most up-to-date weights.\n",
            "  warnings.warn(msg)\n",
            "Loading model from: /usr/local/lib/python3.11/dist-packages/lpips/weights/v0.1/alex.pth\n",
            "init_lpips: lpips_vgg\n",
            "Setting up [LPIPS] perceptual loss: trunk [vgg], v[0.1], spatial [off]\n",
            "/usr/local/lib/python3.11/dist-packages/torchvision/models/_utils.py:223: UserWarning: Arguments other than a weight enum or `None` for 'weights' are deprecated since 0.13 and may be removed in the future. The current behavior is equivalent to passing `weights=VGG16_Weights.IMAGENET1K_V1`. You can also use `weights=VGG16_Weights.DEFAULT` to get the most up-to-date weights.\n",
            "  warnings.warn(msg)\n",
            "Loading model from: /usr/local/lib/python3.11/dist-packages/lpips/weights/v0.1/vgg.pth\n",
            "4it [01:12, 18.05s/it]\n",
            "WARNING:imageio_ffmpeg:IMAGEIO FFMPEG_WRITER WARNING: input image is not divisible by macro_block_size=16, resizing from (1008, 756) to (1008, 768) to ensure video compatibility with most codecs and players. To prevent resizing, make your input image divisible by the macro_block_size or set the macro_block_size to 1 (risking incompatibility).\n",
            "WARNING:imageio_ffmpeg:IMAGEIO FFMPEG_WRITER WARNING: input image is not divisible by macro_block_size=16, resizing from (1008, 756) to (1008, 768) to ensure video compatibility with most codecs and players. To prevent resizing, make your input image divisible by the macro_block_size or set the macro_block_size to 1 (risking incompatibility).\n",
            "120it [31:46, 15.89s/it]\n",
            "WARNING:imageio_ffmpeg:IMAGEIO FFMPEG_WRITER WARNING: input image is not divisible by macro_block_size=16, resizing from (1008, 756) to (1008, 768) to ensure video compatibility with most codecs and players. To prevent resizing, make your input image divisible by the macro_block_size or set the macro_block_size to 1 (risking incompatibility).\n",
            "WARNING:imageio_ffmpeg:IMAGEIO FFMPEG_WRITER WARNING: input image is not divisible by macro_block_size=16, resizing from (1008, 756) to (1008, 768) to ensure video compatibility with most codecs and players. To prevent resizing, make your input image divisible by the macro_block_size or set the macro_block_size to 1 (risking incompatibility).\n"
          ]
        }
      ]
    },
    {
      "cell_type": "code",
      "execution_count": null,
      "metadata": {
        "colab": {
          "background_save": true,
          "base_uri": "https://localhost:8080/"
        },
        "id": "3bpQbDsDwcS7",
        "outputId": "a0ef4387-f27c-4bcc-8705-3b7e5391e86c"
      },
      "outputs": [
        {
          "name": "stdout",
          "output_type": "stream",
          "text": [
            "Namespace(config='configs/llff.txt', expname='fortress', basedir='./log', add_timestamp=0, datadir='/content/drive/MyDrive/data/nerf_llff_data/fortress', wikiartdir='./data/WikiArt', progress_refresh_rate=10, with_depth=False, downsample_train=4.0, downsample_test=1.0, model_name='TensorVMSplit', batch_size=4096, n_iters=25000, dataset_name='llff', patch_size=256, chunk_size=4096, lr_init=0.02, lr_basis=0.0001, lr_finetune=1e-05, lr_decay_iters=-1, lr_decay_target_ratio=0.1, lr_upsample_reset=1, L1_weight_inital=0.0, L1_weight_rest=0, Ortho_weight=0.0, TV_weight_density=1.0, TV_weight_app=1.0, TV_weight_feature=0.0, style_weight=0, content_weight=0, image_tv_weight=0, featuremap_tv_weight=0, n_lamb_sigma=[16, 4, 4], n_lamb_sh=[48, 12, 12], data_dim_color=27, rm_weight_mask_thre=0.0001, alpha_mask_thre=0.0001, distance_scale=25, density_shift=-10, shadingMode='MLP_Fea', pos_pe=6, view_pe=0, fea_pe=0, featureC=128, ckpt=None, render_only=0, render_test=1, render_train=0, render_path=1, export_mesh=0, style_img=None, lindisp=False, perturb=1.0, accumulate_decay=0.998, fea2denseAct='relu', ndc_ray=1, nSamples=1000000.0, step_ratio=0.5, white_bkgd=False, N_voxel_init=2097156, N_voxel_final=262144000, upsamp_list=[2000, 3000, 4000, 5500], update_AlphaMask_list=[2500], idx_view=0, N_vis=-1, vis_every=10000)\n",
            "aabb tensor([-1.5000, -1.6700, -1.0000,  1.5000,  1.6700,  1.0000], device='cuda:0')\n",
            "grid size [141, 157, 94]\n",
            "sampling step size:  tensor(0.0107, device='cuda:0')\n",
            "sampling number:  459\n",
            "pos_pe 6 view_pe 0 fea_pe 0\n",
            "lr decay 0.1 25000\n",
            "initial Ortho_reg_weight 0.0\n",
            "initial L1_reg_weight 0.0\n",
            "initial TV_weight density: 1.0 appearance: 1.0\n",
            "Iteration 02000: train_psnr = 24.05 test_psnr = 0.00 mse = 0.003826:   8% 2000/25000 [02:49<29:28, 13.00it/s]aabb tensor([-1.5000, -1.6700, -1.0000,  1.5000,  1.6700,  1.0000], device='cuda:0')\n",
            "grid size [211, 235, 140]\n",
            "sampling step size:  tensor(0.0072, device='cuda:0')\n",
            "sampling number:  687\n",
            "upsamping to [211, 235, 140]\n",
            "reset lr to initial\n",
            "Iteration 02500: train_psnr = 25.33 test_psnr = 0.00 mse = 0.002997:  10% 2500/25000 [03:42<39:01,  9.61it/s]/usr/local/lib/python3.11/dist-packages/torch/functional.py:504: UserWarning: torch.meshgrid: in an upcoming release, it will be required to pass the indexing argument. (Triggered internally at ../aten/src/ATen/native/TensorShape.cpp:3483.)\n",
            "  return _VF.meshgrid(tensors, **kwargs)  # type: ignore[attr-defined]\n",
            "bbox: (tensor([-1.5000, -1.6700, -1.0000], device='cuda:0'), tensor([1.5000, 1.6700, 1.0000], device='cuda:0')) alpha rest %45.712254\n",
            "====> shrinking ...\n",
            "aabb tensor([-1.5000, -1.6700, -1.0000,  1.5000,  1.6700,  1.0000], device='cuda:0')\n",
            "grid size (tensor(211, device='cuda:0'), tensor(235, device='cuda:0'), tensor(140, device='cuda:0'))\n",
            "sampling step size:  tensor(0.0072, device='cuda:0')\n",
            "sampling number:  687\n",
            "continuing L1_reg_weight 0\n",
            "Iteration 03000: train_psnr = 25.27 test_psnr = 0.00 mse = 0.002961:  12% 3000/25000 [04:24<30:38, 11.97it/s]aabb tensor([-1.5000, -1.6700, -1.0000,  1.5000,  1.6700,  1.0000], device='cuda:0')\n",
            "grid size [316, 351, 210]\n",
            "sampling step size:  tensor(0.0048, device='cuda:0')\n",
            "sampling number:  1030\n",
            "upsamping to [316, 351, 210]\n",
            "reset lr to initial\n",
            "Iteration 04000: train_psnr = 27.38 test_psnr = 0.00 mse = 0.001711:  16% 4000/25000 [06:21<39:31,  8.85it/s]aabb tensor([-1.5000, -1.6700, -1.0000,  1.5000,  1.6700,  1.0000], device='cuda:0')\n",
            "grid size [472, 526, 315]\n",
            "sampling step size:  tensor(0.0032, device='cuda:0')\n",
            "sampling number:  1544\n",
            "upsamping to [472, 526, 315]\n",
            "reset lr to initial\n",
            "Iteration 05500: train_psnr = 28.75 test_psnr = 0.00 mse = 0.001322:  22% 5500/25000 [10:36<54:04,  6.01it/s]aabb tensor([-1.5000, -1.6700, -1.0000,  1.5000,  1.6700,  1.0000], device='cuda:0')\n",
            "grid size [706, 786, 471]\n",
            "sampling step size:  tensor(0.0021, device='cuda:0')\n",
            "sampling number:  2311\n",
            "upsamping to [706, 786, 471]\n",
            "reset lr to initial\n",
            "6it [01:27, 14.65s/it]\n",
            "WARNING:imageio_ffmpeg:IMAGEIO FFMPEG_WRITER WARNING: input image is not divisible by macro_block_size=16, resizing from (1008, 756) to (1008, 768) to ensure video compatibility with most codecs and players. To prevent resizing, make your input image divisible by the macro_block_size or set the macro_block_size to 1 (risking incompatibility).\n",
            "WARNING:imageio_ffmpeg:IMAGEIO FFMPEG_WRITER WARNING: input image is not divisible by macro_block_size=16, resizing from (1008, 756) to (1008, 768) to ensure video compatibility with most codecs and players. To prevent resizing, make your input image divisible by the macro_block_size or set the macro_block_size to 1 (risking incompatibility).\n",
            "6it [01:25, 14.29s/it]\n",
            "WARNING:imageio_ffmpeg:IMAGEIO FFMPEG_WRITER WARNING: input image is not divisible by macro_block_size=16, resizing from (1008, 756) to (1008, 768) to ensure video compatibility with most codecs and players. To prevent resizing, make your input image divisible by the macro_block_size or set the macro_block_size to 1 (risking incompatibility).\n",
            "WARNING:imageio_ffmpeg:IMAGEIO FFMPEG_WRITER WARNING: input image is not divisible by macro_block_size=16, resizing from (1008, 756) to (1008, 768) to ensure video compatibility with most codecs and players. To prevent resizing, make your input image divisible by the macro_block_size or set the macro_block_size to 1 (risking incompatibility).\n",
            "Iteration 24990: train_psnr = 32.07 test_psnr = 30.70 mse = 0.000692: 100% 25000/25000 [1:37:52<00:00,  4.26it/s]\n",
            "0it [00:00, ?it/s]init_lpips: lpips_alex\n",
            "Setting up [LPIPS] perceptual loss: trunk [alex], v[0.1], spatial [off]\n",
            "/usr/local/lib/python3.11/dist-packages/torchvision/models/_utils.py:208: UserWarning: The parameter 'pretrained' is deprecated since 0.13 and may be removed in the future, please use 'weights' instead.\n",
            "  warnings.warn(\n",
            "/usr/local/lib/python3.11/dist-packages/torchvision/models/_utils.py:223: UserWarning: Arguments other than a weight enum or `None` for 'weights' are deprecated since 0.13 and may be removed in the future. The current behavior is equivalent to passing `weights=AlexNet_Weights.IMAGENET1K_V1`. You can also use `weights=AlexNet_Weights.DEFAULT` to get the most up-to-date weights.\n",
            "  warnings.warn(msg)\n",
            "Downloading: \"https://download.pytorch.org/models/alexnet-owt-7be5be79.pth\" to /root/.cache/torch/hub/checkpoints/alexnet-owt-7be5be79.pth\n",
            "\n",
            "  0% 0.00/233M [00:00<?, ?B/s]\u001b[A\n",
            "  5% 12.3M/233M [00:00<00:01, 129MB/s]\u001b[A\n",
            " 11% 24.6M/233M [00:00<00:01, 122MB/s]\u001b[A\n",
            " 21% 48.6M/233M [00:00<00:01, 180MB/s]\u001b[A\n",
            " 31% 71.3M/233M [00:00<00:00, 202MB/s]\u001b[A\n",
            " 42% 98.5M/233M [00:00<00:00, 232MB/s]\u001b[A\n",
            " 55% 128M/233M [00:00<00:00, 257MB/s] \u001b[A\n",
            " 70% 164M/233M [00:00<00:00, 297MB/s]\u001b[A\n",
            " 86% 200M/233M [00:00<00:00, 322MB/s]\u001b[A\n",
            "100% 233M/233M [00:00<00:00, 266MB/s]\n",
            "Loading model from: /usr/local/lib/python3.11/dist-packages/lpips/weights/v0.1/alex.pth\n",
            "init_lpips: lpips_vgg\n",
            "Setting up [LPIPS] perceptual loss: trunk [vgg], v[0.1], spatial [off]\n",
            "/usr/local/lib/python3.11/dist-packages/torchvision/models/_utils.py:223: UserWarning: Arguments other than a weight enum or `None` for 'weights' are deprecated since 0.13 and may be removed in the future. The current behavior is equivalent to passing `weights=VGG16_Weights.IMAGENET1K_V1`. You can also use `weights=VGG16_Weights.DEFAULT` to get the most up-to-date weights.\n",
            "  warnings.warn(msg)\n",
            "Downloading: \"https://download.pytorch.org/models/vgg16-397923af.pth\" to /root/.cache/torch/hub/checkpoints/vgg16-397923af.pth\n",
            "\n",
            "  0% 0.00/528M [00:00<?, ?B/s]\u001b[A\n",
            "  5% 26.4M/528M [00:00<00:01, 277MB/s]\u001b[A\n",
            " 11% 55.9M/528M [00:00<00:01, 295MB/s]\u001b[A\n",
            " 17% 88.0M/528M [00:00<00:01, 314MB/s]\u001b[A\n",
            " 23% 122M/528M [00:00<00:01, 332MB/s] \u001b[A\n",
            " 29% 155M/528M [00:00<00:01, 335MB/s]\u001b[A\n",
            " 35% 187M/528M [00:00<00:01, 332MB/s]\u001b[A\n",
            " 42% 224M/528M [00:00<00:00, 351MB/s]\u001b[A\n",
            " 49% 258M/528M [00:00<00:00, 353MB/s]\u001b[A\n",
            " 56% 297M/528M [00:00<00:00, 371MB/s]\u001b[A\n",
            " 63% 332M/528M [00:01<00:00, 367MB/s]\u001b[A\n",
            " 71% 374M/528M [00:01<00:00, 387MB/s]\u001b[A\n",
            " 79% 415M/528M [00:01<00:00, 402MB/s]\u001b[A\n",
            " 87% 457M/528M [00:01<00:00, 413MB/s]\u001b[A\n",
            "100% 528M/528M [00:01<00:00, 369MB/s]\n",
            "Loading model from: /usr/local/lib/python3.11/dist-packages/lpips/weights/v0.1/vgg.pth\n",
            "6it [01:39, 16.60s/it]\n",
            "WARNING:imageio_ffmpeg:IMAGEIO FFMPEG_WRITER WARNING: input image is not divisible by macro_block_size=16, resizing from (1008, 756) to (1008, 768) to ensure video compatibility with most codecs and players. To prevent resizing, make your input image divisible by the macro_block_size or set the macro_block_size to 1 (risking incompatibility).\n",
            "WARNING:imageio_ffmpeg:IMAGEIO FFMPEG_WRITER WARNING: input image is not divisible by macro_block_size=16, resizing from (1008, 756) to (1008, 768) to ensure video compatibility with most codecs and players. To prevent resizing, make your input image divisible by the macro_block_size or set the macro_block_size to 1 (risking incompatibility).\n",
            "======> fortress test all psnr: 30.915603119810523 <========================\n",
            "========> (120, 4, 4)\n",
            "120it [29:00, 14.50s/it]\n",
            "WARNING:imageio_ffmpeg:IMAGEIO FFMPEG_WRITER WARNING: input image is not divisible by macro_block_size=16, resizing from (1008, 756) to (1008, 768) to ensure video compatibility with most codecs and players. To prevent resizing, make your input image divisible by the macro_block_size or set the macro_block_size to 1 (risking incompatibility).\n",
            "WARNING:imageio_ffmpeg:IMAGEIO FFMPEG_WRITER WARNING: input image is not divisible by macro_block_size=16, resizing from (1008, 756) to (1008, 768) to ensure video compatibility with most codecs and players. To prevent resizing, make your input image divisible by the macro_block_size or set the macro_block_size to 1 (risking incompatibility).\n"
          ]
        }
      ],
      "source": [
        "!python train.py \\\n",
        "  --config configs/llff.txt \\\n",
        "  --datadir /content/drive/MyDrive/data/nerf_llff_data/fortress \\\n",
        "  --expname fortress\n"
      ]
    },
    {
      "cell_type": "code",
      "source": [
        "!python /content/StyleTransfer/train.py \\\n",
        "  --config /content/StyleTransfer/configs/llff.txt \\\n",
        "  --datadir /content/drive/MyDrive/data/nerf_llff_data/fortress \\\n",
        "  --ckpt /content/StyleTransfer/log/fortress/fortress.th \\\n",
        "  --render_only 1 \\\n",
        "  --render_test 1"
      ],
      "metadata": {
        "colab": {
          "base_uri": "https://localhost:8080/"
        },
        "id": "mkYKgIVZQKH0",
        "outputId": "15f998c5-4c0e-4a96-a068-b2dea5c2798f",
        "collapsed": true
      },
      "execution_count": null,
      "outputs": [
        {
          "output_type": "stream",
          "name": "stdout",
          "text": [
            "Namespace(config='/content/StyleTransfer/configs/llff.txt', expname='trex', basedir='./log', add_timestamp=0, datadir='/content/drive/MyDrive/data/nerf_llff_data/fortress', wikiartdir='./data/WikiArt', progress_refresh_rate=10, with_depth=False, downsample_train=4.0, downsample_test=1.0, model_name='TensorVMSplit', batch_size=4096, n_iters=25000, dataset_name='llff', patch_size=256, chunk_size=4096, lr_init=0.02, lr_basis=0.0001, lr_finetune=1e-05, lr_decay_iters=-1, lr_decay_target_ratio=0.1, lr_upsample_reset=1, L1_weight_inital=0.0, L1_weight_rest=0, Ortho_weight=0.0, TV_weight_density=1.0, TV_weight_app=1.0, TV_weight_feature=0.0, style_weight=0, content_weight=0, image_tv_weight=0, featuremap_tv_weight=0, n_lamb_sigma=[16, 4, 4], n_lamb_sh=[48, 12, 12], data_dim_color=27, rm_weight_mask_thre=0.0001, alpha_mask_thre=0.0001, distance_scale=25, density_shift=-10, shadingMode='MLP_Fea', pos_pe=6, view_pe=0, fea_pe=0, featureC=128, ckpt='/content/StyleTransfer/log/fortress/fortress.th', render_only=1, render_test=1, render_train=0, render_path=1, export_mesh=0, style_img=None, lindisp=False, perturb=1.0, accumulate_decay=0.998, fea2denseAct='relu', ndc_ray=1, nSamples=1000000.0, step_ratio=0.5, white_bkgd=False, N_voxel_init=2097156, N_voxel_final=262144000, upsamp_list=[2000, 3000, 4000, 5500], update_AlphaMask_list=[2500], idx_view=0, N_vis=-1, vis_every=10000)\n",
            "aabb tensor([-1.5000, -1.6700, -1.0000,  1.5000,  1.6700,  1.0000], device='cuda:0')\n",
            "grid size [706, 786, 471]\n",
            "sampling step size:  tensor(0.0021, device='cuda:0')\n",
            "sampling number:  2311\n",
            "pos_pe 6 view_pe 0 fea_pe 0\n",
            "0it [00:00, ?it/s]init_lpips: lpips_alex\n",
            "Setting up [LPIPS] perceptual loss: trunk [alex], v[0.1], spatial [off]\n",
            "/usr/local/lib/python3.11/dist-packages/torchvision/models/_utils.py:208: UserWarning: The parameter 'pretrained' is deprecated since 0.13 and may be removed in the future, please use 'weights' instead.\n",
            "  warnings.warn(\n",
            "/usr/local/lib/python3.11/dist-packages/torchvision/models/_utils.py:223: UserWarning: Arguments other than a weight enum or `None` for 'weights' are deprecated since 0.13 and may be removed in the future. The current behavior is equivalent to passing `weights=AlexNet_Weights.IMAGENET1K_V1`. You can also use `weights=AlexNet_Weights.DEFAULT` to get the most up-to-date weights.\n",
            "  warnings.warn(msg)\n",
            "Loading model from: /usr/local/lib/python3.11/dist-packages/lpips/weights/v0.1/alex.pth\n",
            "init_lpips: lpips_vgg\n",
            "Setting up [LPIPS] perceptual loss: trunk [vgg], v[0.1], spatial [off]\n",
            "/usr/local/lib/python3.11/dist-packages/torchvision/models/_utils.py:223: UserWarning: Arguments other than a weight enum or `None` for 'weights' are deprecated since 0.13 and may be removed in the future. The current behavior is equivalent to passing `weights=VGG16_Weights.IMAGENET1K_V1`. You can also use `weights=VGG16_Weights.DEFAULT` to get the most up-to-date weights.\n",
            "  warnings.warn(msg)\n",
            "Loading model from: /usr/local/lib/python3.11/dist-packages/lpips/weights/v0.1/vgg.pth\n",
            "6it [01:42, 17.01s/it]\n",
            "WARNING:imageio_ffmpeg:IMAGEIO FFMPEG_WRITER WARNING: input image is not divisible by macro_block_size=16, resizing from (1008, 756) to (1008, 768) to ensure video compatibility with most codecs and players. To prevent resizing, make your input image divisible by the macro_block_size or set the macro_block_size to 1 (risking incompatibility).\n",
            "WARNING:imageio_ffmpeg:IMAGEIO FFMPEG_WRITER WARNING: input image is not divisible by macro_block_size=16, resizing from (1008, 756) to (1008, 768) to ensure video compatibility with most codecs and players. To prevent resizing, make your input image divisible by the macro_block_size or set the macro_block_size to 1 (risking incompatibility).\n",
            "120it [28:52, 14.44s/it]\n",
            "WARNING:imageio_ffmpeg:IMAGEIO FFMPEG_WRITER WARNING: input image is not divisible by macro_block_size=16, resizing from (1008, 756) to (1008, 768) to ensure video compatibility with most codecs and players. To prevent resizing, make your input image divisible by the macro_block_size or set the macro_block_size to 1 (risking incompatibility).\n",
            "WARNING:imageio_ffmpeg:IMAGEIO FFMPEG_WRITER WARNING: input image is not divisible by macro_block_size=16, resizing from (1008, 756) to (1008, 768) to ensure video compatibility with most codecs and players. To prevent resizing, make your input image divisible by the macro_block_size or set the macro_block_size to 1 (risking incompatibility).\n"
          ]
        }
      ]
    },
    {
      "cell_type": "code",
      "execution_count": null,
      "metadata": {
        "colab": {
          "base_uri": "https://localhost:8080/"
        },
        "id": "TFuKPYjFwg7h",
        "outputId": "832f00bd-0b4c-4b77-ae14-b1420c62e76b"
      },
      "outputs": [
        {
          "output_type": "stream",
          "name": "stdout",
          "text": [
            "Namespace(config='/content/StyleTransfer/configs/llff_feature.txt', expname='fortress_feature', basedir='/content/drive/MyDrive/StyleTransferResults', add_timestamp=0, datadir='/content/drive/MyDrive/data/nerf_llff_data/fortress', wikiartdir='./data/WikiArt', progress_refresh_rate=10, with_depth=False, downsample_train=4.0, downsample_test=1.0, model_name='TensorVMSplit', batch_size=4096, n_iters=10000, dataset_name='llff', patch_size=256, chunk_size=4096, lr_init=0.02, lr_basis=0.0001, lr_finetune=1e-05, lr_decay_iters=-1, lr_decay_target_ratio=0.1, lr_upsample_reset=1, L1_weight_inital=0.0, L1_weight_rest=0, Ortho_weight=0.0, TV_weight_density=0.0, TV_weight_app=0.0, TV_weight_feature=80.0, style_weight=0, content_weight=0, image_tv_weight=0, featuremap_tv_weight=0, n_lamb_sigma=[16, 4, 4], n_lamb_sh=[48, 12, 12], data_dim_color=27, rm_weight_mask_thre=0.0001, alpha_mask_thre=0.0001, distance_scale=25, density_shift=-10, shadingMode='MLP_Fea', pos_pe=6, view_pe=6, fea_pe=6, featureC=128, ckpt='/content/StyleTransfer/log/fortress/fortress.th', render_only=0, render_test=0, render_train=0, render_path=0, export_mesh=0, style_img=None, lindisp=False, perturb=1.0, accumulate_decay=0.998, fea2denseAct='relu', ndc_ray=1, nSamples=1000000.0, step_ratio=0.5, white_bkgd=False, N_voxel_init=2097156, N_voxel_final=262144000, upsamp_list=[2000, 3000, 4000, 5500], update_AlphaMask_list=[2500], idx_view=0, N_vis=5, vis_every=10000)\n",
            "aabb tensor([-1.5000, -1.6700, -1.0000,  1.5000,  1.6700,  1.0000], device='cuda:0')\n",
            "grid size [706, 786, 471]\n",
            "sampling step size:  tensor(0.0021, device='cuda:0')\n",
            "sampling number:  2311\n",
            "pos_pe 6 view_pe 0 fea_pe 0\n",
            "====> prepare_feature_data (low memory + save per frame)...\n",
            "100% 36/36 [00:00<00:00, 180615.96it/s]\n",
            "====> feature extraction and save DONE.\n",
            "lr decay 0.1 10000\n",
            "initial TV_weight_feature: 80.0\n",
            "Iteration 09990: psnr = 26.84: 100% 10000/10000 [6:01:56<00:00,  2.17s/it]\n"
          ]
        }
      ],
      "source": [
        "!python /content/StyleTransfer/train_feature.py \\\n",
        "  --config /content/StyleTransfer/configs/llff_feature.txt \\\n",
        "  --datadir /content/drive/MyDrive/data/nerf_llff_data/fortress \\\n",
        "  --expname fortress_feature \\\n",
        "  --ckpt /content/StyleTransfer/log/fortress/fortress.th \\\n",
        "  --basedir /content/drive/MyDrive/StyleTransferResults\n"
      ]
    },
    {
      "cell_type": "code",
      "source": [
        "!python /content/StyleTransfer/train_feature.py \\\n",
        "  --config /content/StyleTransfer/configs/llff_feature.txt \\\n",
        "  --datadir /content/drive/MyDrive/data/nerf_llff_data/fortress \\\n",
        "  --expname fortress_feature \\\n",
        "  --ckpt /content/drive/MyDrive/StyleTransferResults/fortress_feature/fortress_feature.th \\\n",
        "  --render_only 1 \\\n",
        "  --render_test 1 \\\n",
        "  --render_path 0 \\\n",
        "  --chunk_size 1024\n"
      ],
      "metadata": {
        "colab": {
          "base_uri": "https://localhost:8080/"
        },
        "id": "yVFHPDDMQZj5",
        "outputId": "69ae2d9b-d97d-40aa-d446-35818f3c9670"
      },
      "execution_count": null,
      "outputs": [
        {
          "output_type": "stream",
          "name": "stdout",
          "text": [
            "Namespace(config='/content/StyleTransfer/configs/llff_feature.txt', expname='fortress_feature', basedir='./log_feature', add_timestamp=0, datadir='/content/drive/MyDrive/data/nerf_llff_data/fortress', wikiartdir='./data/WikiArt', progress_refresh_rate=10, with_depth=False, downsample_train=4.0, downsample_test=1.0, model_name='TensorVMSplit', batch_size=4096, n_iters=10000, dataset_name='llff', patch_size=256, chunk_size=1024, lr_init=0.02, lr_basis=0.0001, lr_finetune=1e-05, lr_decay_iters=-1, lr_decay_target_ratio=0.1, lr_upsample_reset=1, L1_weight_inital=0.0, L1_weight_rest=0, Ortho_weight=0.0, TV_weight_density=0.0, TV_weight_app=0.0, TV_weight_feature=80.0, style_weight=0, content_weight=0, image_tv_weight=0, featuremap_tv_weight=0, n_lamb_sigma=[16, 4, 4], n_lamb_sh=[48, 12, 12], data_dim_color=27, rm_weight_mask_thre=0.0001, alpha_mask_thre=0.0001, distance_scale=25, density_shift=-10, shadingMode='MLP_Fea', pos_pe=6, view_pe=6, fea_pe=6, featureC=128, ckpt='/content/drive/MyDrive/StyleTransferResults/fortress_feature/fortress_feature.th', render_only=1, render_test=1, render_train=0, render_path=0, export_mesh=0, style_img=None, lindisp=False, perturb=1.0, accumulate_decay=0.998, fea2denseAct='relu', ndc_ray=1, nSamples=1000000.0, step_ratio=0.5, white_bkgd=False, N_voxel_init=2097156, N_voxel_final=262144000, upsamp_list=[2000, 3000, 4000, 5500], update_AlphaMask_list=[2500], idx_view=0, N_vis=5, vis_every=10000)\n",
            "aabb tensor([-1.5000, -1.6700, -1.0000,  1.5000,  1.6700,  1.0000], device='cuda:0')\n",
            "grid size [706, 786, 471]\n",
            "sampling step size:  tensor(0.0021, device='cuda:0')\n",
            "sampling number:  2311\n",
            "pos_pe 6 view_pe 0 fea_pe 0\n",
            "6it [04:21, 43.57s/it]\n",
            "WARNING:imageio_ffmpeg:IMAGEIO FFMPEG_WRITER WARNING: input image is not divisible by macro_block_size=16, resizing from (1008, 756) to (1008, 768) to ensure video compatibility with most codecs and players. To prevent resizing, make your input image divisible by the macro_block_size or set the macro_block_size to 1 (risking incompatibility).\n",
            "WARNING:imageio_ffmpeg:IMAGEIO FFMPEG_WRITER WARNING: input image is not divisible by macro_block_size=16, resizing from (1008, 756) to (1008, 768) to ensure video compatibility with most codecs and players. To prevent resizing, make your input image divisible by the macro_block_size or set the macro_block_size to 1 (risking incompatibility).\n"
          ]
        }
      ]
    },
    {
      "cell_type": "code",
      "execution_count": null,
      "metadata": {
        "id": "hEr-4bH3wlXx",
        "colab": {
          "base_uri": "https://localhost:8080/"
        },
        "outputId": "7fa98a4f-fe69-496d-fbb1-c903a4956bcd"
      },
      "outputs": [
        {
          "output_type": "stream",
          "name": "stdout",
          "text": [
            "Namespace(config='/content/StyleTransfer/configs/llff_style.txt', expname='fortress_style', basedir='./log_style', add_timestamp=0, datadir='/content/drive/MyDrive/data/nerf_llff_data/fortress', wikiartdir='/content/drive/MyDrive/data/WikiArt/images', progress_refresh_rate=10, with_depth=False, downsample_train=4.0, downsample_test=1.0, model_name='TensorVMSplit', batch_size=4096, n_iters=25000, dataset_name='llff', patch_size=256, chunk_size=2048, lr_init=0.02, lr_basis=0.0001, lr_finetune=1e-05, lr_decay_iters=-1, lr_decay_target_ratio=0.1, lr_upsample_reset=1, L1_weight_inital=0.0, L1_weight_rest=0, Ortho_weight=0.0, TV_weight_density=0.0, TV_weight_app=0.0, TV_weight_feature=0.0, style_weight=20.0, content_weight=1.0, image_tv_weight=0.0, featuremap_tv_weight=0.0, n_lamb_sigma=[16, 4, 4], n_lamb_sh=[48, 12, 12], data_dim_color=27, rm_weight_mask_thre=0.001, alpha_mask_thre=0.0001, distance_scale=25, density_shift=-10, shadingMode='MLP_Fea', pos_pe=6, view_pe=6, fea_pe=6, featureC=128, ckpt='/content/drive/MyDrive/StyleTransferResults/fortress_feature/fortress_feature.th', render_only=0, render_test=0, render_train=0, render_path=0, export_mesh=0, style_img=None, lindisp=False, perturb=1.0, accumulate_decay=0.998, fea2denseAct='relu', ndc_ray=1, nSamples=300, step_ratio=0.5, white_bkgd=False, N_voxel_init=2097156, N_voxel_final=262144000, upsamp_list=None, update_AlphaMask_list=None, idx_view=0, N_vis=5, vis_every=10000)\n",
            "aabb tensor([-1.5000, -1.6700, -1.0000,  1.5000,  1.6700,  1.0000], device='cuda:0')\n",
            "grid size [706, 786, 471]\n",
            "sampling step size:  tensor(0.0021, device='cuda:0')\n",
            "sampling number:  2311\n",
            "pos_pe 6 view_pe 0 fea_pe 0\n",
            "Downloading: \"https://download.pytorch.org/models/vgg19-dcbb9e9d.pth\" to /root/.cache/torch/hub/checkpoints/vgg19-dcbb9e9d.pth\n",
            "100% 548M/548M [00:01<00:00, 384MB/s]\n",
            "lr decay 0.1 25000\n",
            "Iteration 00000: content_loss = 71.73 style_loss = 6070.17:   0% 0/25000 [00:01<?, ?it/s]/usr/local/lib/python3.11/dist-packages/torchvision/transforms/functional.py:1603: UserWarning: The default value of the antialias parameter of all the resizing transforms (Resize(), RandomResizedCrop(), etc.) will change from None to True in v0.17, in order to be consistent across the PIL and Tensor backends. To suppress this warning, directly pass antialias=True (recommended, future default), antialias=None (current default, which means False for Tensors and True for PIL), or antialias=False (only works on Tensors - PIL will still use antialiasing). This also applies if you are using the inference transforms from the models weights: update the call to weights.transforms(antialias=True).\n",
            "  warnings.warn(\n",
            "Iteration 24990: content_loss = 14.54 style_loss = 35.15: 100% 25000/25000 [6:44:38<00:00,  1.03it/s]\n"
          ]
        }
      ],
      "source": [
        "!python /content/StyleTransfer/train_style.py \\\n",
        "  --config /content/StyleTransfer/configs/llff_style.txt \\\n",
        "  --datadir /content/drive/MyDrive/data/nerf_llff_data/fortress \\\n",
        "  --wikiartdir /content/drive/MyDrive/data/WikiArt/images \\\n",
        "  --expname fortress_style \\\n",
        "  --ckpt /content/drive/MyDrive/StyleTransferResults/fortress_feature/fortress_feature.th"
      ]
    },
    {
      "cell_type": "code",
      "source": [
        "!cp -r /content/StyleTransfer/log_style/fortress_style /content/drive/MyDrive/StyleTransferResults/\n"
      ],
      "metadata": {
        "id": "nY3o_Txl9UoO"
      },
      "execution_count": null,
      "outputs": []
    },
    {
      "cell_type": "code",
      "source": [
        "!python train_style.py \\\n",
        "  --config configs/llff_style.txt \\\n",
        "  --datadir /content/drive/MyDrive/data/nerf_llff_data/fortress \\\n",
        "  --expname fortress_style1 \\\n",
        "  --ckpt /content/drive/MyDrive/StyleTransferResults/fortress_style/fortress_style.th \\\n",
        "  --render_only 1 \\\n",
        "  --render_train 0 \\\n",
        "  --render_test 1 \\\n",
        "  --render_path 1 \\\n",
        "  --chunk_size 1024 \\\n",
        "  --rm_weight_mask_thre 0.0001 \\\n",
        "  --style_img /content/drive/MyDrive/data/WikiArt/images/landscape/00246e71f367b009f0aa7d0127b2bb08c.jpg\n"
      ],
      "metadata": {
        "colab": {
          "base_uri": "https://localhost:8080/"
        },
        "id": "NAfuw9mBQhw2",
        "outputId": "a5dcb511-a039-4947-d0c9-7371e76df577"
      },
      "execution_count": null,
      "outputs": [
        {
          "output_type": "stream",
          "name": "stdout",
          "text": [
            "Namespace(config='configs/llff_style.txt', expname='fortress_style1', basedir='./log_style', add_timestamp=0, datadir='/content/drive/MyDrive/data/nerf_llff_data/fortress', wikiartdir='./data/WikiArt', progress_refresh_rate=10, with_depth=False, downsample_train=4.0, downsample_test=1.0, model_name='TensorVMSplit', batch_size=4096, n_iters=25000, dataset_name='llff', patch_size=256, chunk_size=1024, lr_init=0.02, lr_basis=0.0001, lr_finetune=1e-05, lr_decay_iters=-1, lr_decay_target_ratio=0.1, lr_upsample_reset=1, L1_weight_inital=0.0, L1_weight_rest=0, Ortho_weight=0.0, TV_weight_density=0.0, TV_weight_app=0.0, TV_weight_feature=0.0, style_weight=20.0, content_weight=1.0, image_tv_weight=0.0, featuremap_tv_weight=0.0, n_lamb_sigma=[16, 4, 4], n_lamb_sh=[48, 12, 12], data_dim_color=27, rm_weight_mask_thre=0.0001, alpha_mask_thre=0.0001, distance_scale=25, density_shift=-10, shadingMode='MLP_Fea', pos_pe=6, view_pe=6, fea_pe=6, featureC=128, ckpt='/content/drive/MyDrive/StyleTransferResults/fortress_style/fortress_style.th', render_only=1, render_test=1, render_train=0, render_path=1, export_mesh=0, style_img='/content/drive/MyDrive/data/WikiArt/images/landscape/00246e71f367b009f0aa7d0127b2bb08c.jpg', lindisp=False, perturb=1.0, accumulate_decay=0.998, fea2denseAct='relu', ndc_ray=1, nSamples=300, step_ratio=0.5, white_bkgd=False, N_voxel_init=2097156, N_voxel_final=262144000, upsamp_list=None, update_AlphaMask_list=None, idx_view=0, N_vis=5, vis_every=10000)\n",
            "aabb tensor([-1.5000, -1.6700, -1.0000,  1.5000,  1.6700,  1.0000], device='cuda:0')\n",
            "grid size [706, 786, 471]\n",
            "sampling step size:  tensor(0.0021, device='cuda:0')\n",
            "sampling number:  2311\n",
            "pos_pe 6 view_pe 0 fea_pe 0\n",
            "6it [02:46, 27.73s/it]\n",
            "WARNING:imageio_ffmpeg:IMAGEIO FFMPEG_WRITER WARNING: input image is not divisible by macro_block_size=16, resizing from (1008, 756) to (1008, 768) to ensure video compatibility with most codecs and players. To prevent resizing, make your input image divisible by the macro_block_size or set the macro_block_size to 1 (risking incompatibility).\n",
            "WARNING:imageio_ffmpeg:IMAGEIO FFMPEG_WRITER WARNING: input image is not divisible by macro_block_size=16, resizing from (1008, 756) to (1008, 768) to ensure video compatibility with most codecs and players. To prevent resizing, make your input image divisible by the macro_block_size or set the macro_block_size to 1 (risking incompatibility).\n",
            "120it [56:10, 28.09s/it]\n",
            "WARNING:imageio_ffmpeg:IMAGEIO FFMPEG_WRITER WARNING: input image is not divisible by macro_block_size=16, resizing from (1008, 756) to (1008, 768) to ensure video compatibility with most codecs and players. To prevent resizing, make your input image divisible by the macro_block_size or set the macro_block_size to 1 (risking incompatibility).\n",
            "WARNING:imageio_ffmpeg:IMAGEIO FFMPEG_WRITER WARNING: input image is not divisible by macro_block_size=16, resizing from (1008, 756) to (1008, 768) to ensure video compatibility with most codecs and players. To prevent resizing, make your input image divisible by the macro_block_size or set the macro_block_size to 1 (risking incompatibility).\n"
          ]
        }
      ]
    },
    {
      "cell_type": "code",
      "source": [
        "!python train_style.py \\\n",
        "  --config configs/llff_style.txt \\\n",
        "  --datadir /content/drive/MyDrive/data/nerf_llff_data/fortress \\\n",
        "  --expname fortress_style2 \\\n",
        "  --ckpt /content/drive/MyDrive/StyleTransferResults/fortress_style/fortress_style.th \\\n",
        "  --render_only 1 \\\n",
        "  --render_train 0 \\\n",
        "  --render_test 1 \\\n",
        "  --render_path 1 \\\n",
        "  --chunk_size 1024 \\\n",
        "  --rm_weight_mask_thre 0.0001 \\\n",
        "  --style_img /content/drive/MyDrive/data/WikiArt/images/landscape/00071f2b6fc24b1885ddb1b53b512081c.jpg\n"
      ],
      "metadata": {
        "colab": {
          "base_uri": "https://localhost:8080/"
        },
        "id": "oTKut5bT3Tfi",
        "outputId": "d899f787-8cd2-495b-dee4-74169a760ced"
      },
      "execution_count": null,
      "outputs": [
        {
          "output_type": "stream",
          "name": "stdout",
          "text": [
            "Namespace(config='configs/llff_style.txt', expname='fortress_style2', basedir='./log_style', add_timestamp=0, datadir='/content/drive/MyDrive/data/nerf_llff_data/fortress', wikiartdir='./data/WikiArt', progress_refresh_rate=10, with_depth=False, downsample_train=4.0, downsample_test=1.0, model_name='TensorVMSplit', batch_size=4096, n_iters=25000, dataset_name='llff', patch_size=256, chunk_size=1024, lr_init=0.02, lr_basis=0.0001, lr_finetune=1e-05, lr_decay_iters=-1, lr_decay_target_ratio=0.1, lr_upsample_reset=1, L1_weight_inital=0.0, L1_weight_rest=0, Ortho_weight=0.0, TV_weight_density=0.0, TV_weight_app=0.0, TV_weight_feature=0.0, style_weight=20.0, content_weight=1.0, image_tv_weight=0.0, featuremap_tv_weight=0.0, n_lamb_sigma=[16, 4, 4], n_lamb_sh=[48, 12, 12], data_dim_color=27, rm_weight_mask_thre=0.0001, alpha_mask_thre=0.0001, distance_scale=25, density_shift=-10, shadingMode='MLP_Fea', pos_pe=6, view_pe=6, fea_pe=6, featureC=128, ckpt='/content/drive/MyDrive/StyleTransferResults/fortress_style/fortress_style.th', render_only=1, render_test=1, render_train=0, render_path=1, export_mesh=0, style_img='/content/drive/MyDrive/data/WikiArt/images/landscape/00071f2b6fc24b1885ddb1b53b512081c.jpg', lindisp=False, perturb=1.0, accumulate_decay=0.998, fea2denseAct='relu', ndc_ray=1, nSamples=300, step_ratio=0.5, white_bkgd=False, N_voxel_init=2097156, N_voxel_final=262144000, upsamp_list=None, update_AlphaMask_list=None, idx_view=0, N_vis=5, vis_every=10000)\n",
            "aabb tensor([-1.5000, -1.6700, -1.0000,  1.5000,  1.6700,  1.0000], device='cuda:0')\n",
            "grid size [706, 786, 471]\n",
            "sampling step size:  tensor(0.0021, device='cuda:0')\n",
            "sampling number:  2311\n",
            "pos_pe 6 view_pe 0 fea_pe 0\n",
            "6it [02:49, 28.20s/it]\n",
            "WARNING:imageio_ffmpeg:IMAGEIO FFMPEG_WRITER WARNING: input image is not divisible by macro_block_size=16, resizing from (1008, 756) to (1008, 768) to ensure video compatibility with most codecs and players. To prevent resizing, make your input image divisible by the macro_block_size or set the macro_block_size to 1 (risking incompatibility).\n",
            "WARNING:imageio_ffmpeg:IMAGEIO FFMPEG_WRITER WARNING: input image is not divisible by macro_block_size=16, resizing from (1008, 756) to (1008, 768) to ensure video compatibility with most codecs and players. To prevent resizing, make your input image divisible by the macro_block_size or set the macro_block_size to 1 (risking incompatibility).\n",
            "120it [57:43, 28.86s/it]\n",
            "WARNING:imageio_ffmpeg:IMAGEIO FFMPEG_WRITER WARNING: input image is not divisible by macro_block_size=16, resizing from (1008, 756) to (1008, 768) to ensure video compatibility with most codecs and players. To prevent resizing, make your input image divisible by the macro_block_size or set the macro_block_size to 1 (risking incompatibility).\n",
            "WARNING:imageio_ffmpeg:IMAGEIO FFMPEG_WRITER WARNING: input image is not divisible by macro_block_size=16, resizing from (1008, 756) to (1008, 768) to ensure video compatibility with most codecs and players. To prevent resizing, make your input image divisible by the macro_block_size or set the macro_block_size to 1 (risking incompatibility).\n"
          ]
        }
      ]
    },
    {
      "cell_type": "code",
      "execution_count": null,
      "metadata": {
        "colab": {
          "base_uri": "https://localhost:8080/",
          "height": 1000
        },
        "collapsed": true,
        "id": "Otchhp7XStnR",
        "outputId": "01a12d74-a939-4096-b150-b96e3604733a"
      },
      "outputs": [
        {
          "output_type": "stream",
          "name": "stdout",
          "text": [
            "  adding: content/StyleTransfer/log/fortress/ (stored 0%)\n",
            "  adding: content/StyleTransfer/log/fortress/trex/ (stored 0%)\n",
            "  adding: content/StyleTransfer/log/fortress/trex/imgs_path_all/ (stored 0%)\n",
            "  adding: content/StyleTransfer/log/fortress/trex/imgs_path_all/103.png (deflated 0%)\n",
            "  adding: content/StyleTransfer/log/fortress/trex/imgs_path_all/024.png (deflated 0%)\n",
            "  adding: content/StyleTransfer/log/fortress/trex/imgs_path_all/075.png (deflated 0%)\n",
            "  adding: content/StyleTransfer/log/fortress/trex/imgs_path_all/060.png (deflated 0%)\n",
            "  adding: content/StyleTransfer/log/fortress/trex/imgs_path_all/073.png (deflated 0%)\n",
            "  adding: content/StyleTransfer/log/fortress/trex/imgs_path_all/019.png (deflated 0%)\n",
            "  adding: content/StyleTransfer/log/fortress/trex/imgs_path_all/081.png (deflated 0%)\n",
            "  adding: content/StyleTransfer/log/fortress/trex/imgs_path_all/014.png (deflated 0%)\n",
            "  adding: content/StyleTransfer/log/fortress/trex/imgs_path_all/071.png (deflated 0%)\n",
            "  adding: content/StyleTransfer/log/fortress/trex/imgs_path_all/076.png (deflated 0%)\n",
            "  adding: content/StyleTransfer/log/fortress/trex/imgs_path_all/049.png (deflated 0%)\n",
            "  adding: content/StyleTransfer/log/fortress/trex/imgs_path_all/042.png (deflated 0%)\n",
            "  adding: content/StyleTransfer/log/fortress/trex/imgs_path_all/017.png (deflated 0%)\n",
            "  adding: content/StyleTransfer/log/fortress/trex/imgs_path_all/008.png (deflated 0%)\n",
            "  adding: content/StyleTransfer/log/fortress/trex/imgs_path_all/041.png (deflated 0%)\n",
            "  adding: content/StyleTransfer/log/fortress/trex/imgs_path_all/108.png (deflated 0%)\n",
            "  adding: content/StyleTransfer/log/fortress/trex/imgs_path_all/043.png (deflated 0%)\n",
            "  adding: content/StyleTransfer/log/fortress/trex/imgs_path_all/111.png (deflated 0%)\n",
            "  adding: content/StyleTransfer/log/fortress/trex/imgs_path_all/034.png (deflated 0%)\n",
            "  adding: content/StyleTransfer/log/fortress/trex/imgs_path_all/009.png (deflated 0%)\n",
            "  adding: content/StyleTransfer/log/fortress/trex/imgs_path_all/068.png (deflated 0%)\n",
            "  adding: content/StyleTransfer/log/fortress/trex/imgs_path_all/112.png (deflated 0%)\n",
            "  adding: content/StyleTransfer/log/fortress/trex/imgs_path_all/006.png (deflated 0%)\n",
            "  adding: content/StyleTransfer/log/fortress/trex/imgs_path_all/029.png (deflated 0%)\n",
            "  adding: content/StyleTransfer/log/fortress/trex/imgs_path_all/110.png (deflated 0%)\n",
            "  adding: content/StyleTransfer/log/fortress/trex/imgs_path_all/118.png (deflated 0%)\n",
            "  adding: content/StyleTransfer/log/fortress/trex/imgs_path_all/079.png (deflated 0%)\n",
            "  adding: content/StyleTransfer/log/fortress/trex/imgs_path_all/048.png (deflated 0%)\n",
            "  adding: content/StyleTransfer/log/fortress/trex/imgs_path_all/097.png (deflated 0%)\n",
            "  adding: content/StyleTransfer/log/fortress/trex/imgs_path_all/078.png (deflated 0%)\n",
            "  adding: content/StyleTransfer/log/fortress/trex/imgs_path_all/011.png (deflated 0%)\n",
            "  adding: content/StyleTransfer/log/fortress/trex/imgs_path_all/100.png (deflated 0%)\n",
            "  adding: content/StyleTransfer/log/fortress/trex/imgs_path_all/005.png (deflated 0%)\n",
            "  adding: content/StyleTransfer/log/fortress/trex/imgs_path_all/089.png (deflated 0%)\n",
            "  adding: content/StyleTransfer/log/fortress/trex/imgs_path_all/046.png (deflated 0%)\n",
            "  adding: content/StyleTransfer/log/fortress/trex/imgs_path_all/015.png (deflated 0%)\n",
            "  adding: content/StyleTransfer/log/fortress/trex/imgs_path_all/003.png (deflated 0%)\n",
            "  adding: content/StyleTransfer/log/fortress/trex/imgs_path_all/106.png (deflated 0%)\n",
            "  adding: content/StyleTransfer/log/fortress/trex/imgs_path_all/067.png (deflated 0%)\n",
            "  adding: content/StyleTransfer/log/fortress/trex/imgs_path_all/020.png (deflated 0%)\n",
            "  adding: content/StyleTransfer/log/fortress/trex/imgs_path_all/025.png (deflated 0%)\n",
            "  adding: content/StyleTransfer/log/fortress/trex/imgs_path_all/063.png (deflated 0%)\n",
            "  adding: content/StyleTransfer/log/fortress/trex/imgs_path_all/045.png (deflated 0%)\n",
            "  adding: content/StyleTransfer/log/fortress/trex/imgs_path_all/090.png (deflated 0%)\n",
            "  adding: content/StyleTransfer/log/fortress/trex/imgs_path_all/030.png (deflated 0%)\n",
            "  adding: content/StyleTransfer/log/fortress/trex/imgs_path_all/010.png (deflated 0%)\n",
            "  adding: content/StyleTransfer/log/fortress/trex/imgs_path_all/035.png (deflated 0%)\n",
            "  adding: content/StyleTransfer/log/fortress/trex/imgs_path_all/059.png (deflated 0%)\n",
            "  adding: content/StyleTransfer/log/fortress/trex/imgs_path_all/057.png (deflated 0%)\n",
            "  adding: content/StyleTransfer/log/fortress/trex/imgs_path_all/104.png (deflated 0%)\n",
            "  adding: content/StyleTransfer/log/fortress/trex/imgs_path_all/070.png (deflated 0%)\n",
            "  adding: content/StyleTransfer/log/fortress/trex/imgs_path_all/117.png (deflated 0%)\n",
            "  adding: content/StyleTransfer/log/fortress/trex/imgs_path_all/095.png (deflated 0%)\n",
            "  adding: content/StyleTransfer/log/fortress/trex/imgs_path_all/084.png (deflated 0%)\n",
            "  adding: content/StyleTransfer/log/fortress/trex/imgs_path_all/026.png (deflated 0%)\n",
            "  adding: content/StyleTransfer/log/fortress/trex/imgs_path_all/107.png (deflated 0%)\n",
            "  adding: content/StyleTransfer/log/fortress/trex/imgs_path_all/022.png (deflated 0%)\n",
            "  adding: content/StyleTransfer/log/fortress/trex/imgs_path_all/098.png (deflated 0%)\n",
            "  adding: content/StyleTransfer/log/fortress/trex/imgs_path_all/001.png (deflated 0%)\n",
            "  adding: content/StyleTransfer/log/fortress/trex/imgs_path_all/105.png (deflated 0%)\n",
            "  adding: content/StyleTransfer/log/fortress/trex/imgs_path_all/050.png (deflated 0%)\n",
            "  adding: content/StyleTransfer/log/fortress/trex/imgs_path_all/031.png (deflated 0%)\n",
            "  adding: content/StyleTransfer/log/fortress/trex/imgs_path_all/rgbd/ (stored 0%)\n",
            "  adding: content/StyleTransfer/log/fortress/trex/imgs_path_all/rgbd/103.png (deflated 0%)\n",
            "  adding: content/StyleTransfer/log/fortress/trex/imgs_path_all/rgbd/024.png (deflated 0%)\n",
            "  adding: content/StyleTransfer/log/fortress/trex/imgs_path_all/rgbd/075.png (deflated 0%)\n",
            "  adding: content/StyleTransfer/log/fortress/trex/imgs_path_all/rgbd/060.png (deflated 0%)\n",
            "  adding: content/StyleTransfer/log/fortress/trex/imgs_path_all/rgbd/073.png (deflated 0%)\n",
            "  adding: content/StyleTransfer/log/fortress/trex/imgs_path_all/rgbd/019.png (deflated 0%)\n",
            "  adding: content/StyleTransfer/log/fortress/trex/imgs_path_all/rgbd/081.png (deflated 0%)\n",
            "  adding: content/StyleTransfer/log/fortress/trex/imgs_path_all/rgbd/014.png (deflated 0%)\n",
            "  adding: content/StyleTransfer/log/fortress/trex/imgs_path_all/rgbd/071.png (deflated 0%)\n",
            "  adding: content/StyleTransfer/log/fortress/trex/imgs_path_all/rgbd/076.png (deflated 0%)\n",
            "  adding: content/StyleTransfer/log/fortress/trex/imgs_path_all/rgbd/049.png (deflated 0%)\n",
            "  adding: content/StyleTransfer/log/fortress/trex/imgs_path_all/rgbd/042.png (deflated 0%)\n",
            "  adding: content/StyleTransfer/log/fortress/trex/imgs_path_all/rgbd/017.png (deflated 0%)\n",
            "  adding: content/StyleTransfer/log/fortress/trex/imgs_path_all/rgbd/008.png (deflated 0%)\n",
            "  adding: content/StyleTransfer/log/fortress/trex/imgs_path_all/rgbd/041.png (deflated 0%)\n",
            "  adding: content/StyleTransfer/log/fortress/trex/imgs_path_all/rgbd/108.png (deflated 0%)\n",
            "  adding: content/StyleTransfer/log/fortress/trex/imgs_path_all/rgbd/043.png (deflated 0%)\n",
            "  adding: content/StyleTransfer/log/fortress/trex/imgs_path_all/rgbd/111.png (deflated 0%)\n",
            "  adding: content/StyleTransfer/log/fortress/trex/imgs_path_all/rgbd/034.png (deflated 0%)\n",
            "  adding: content/StyleTransfer/log/fortress/trex/imgs_path_all/rgbd/009.png (deflated 0%)\n",
            "  adding: content/StyleTransfer/log/fortress/trex/imgs_path_all/rgbd/068.png (deflated 0%)\n",
            "  adding: content/StyleTransfer/log/fortress/trex/imgs_path_all/rgbd/112.png (deflated 0%)\n",
            "  adding: content/StyleTransfer/log/fortress/trex/imgs_path_all/rgbd/006.png (deflated 0%)\n",
            "  adding: content/StyleTransfer/log/fortress/trex/imgs_path_all/rgbd/029.png (deflated 0%)\n",
            "  adding: content/StyleTransfer/log/fortress/trex/imgs_path_all/rgbd/110.png (deflated 0%)\n",
            "  adding: content/StyleTransfer/log/fortress/trex/imgs_path_all/rgbd/118.png (deflated 0%)\n",
            "  adding: content/StyleTransfer/log/fortress/trex/imgs_path_all/rgbd/079.png (deflated 0%)\n",
            "  adding: content/StyleTransfer/log/fortress/trex/imgs_path_all/rgbd/048.png (deflated 0%)\n",
            "  adding: content/StyleTransfer/log/fortress/trex/imgs_path_all/rgbd/097.png (deflated 0%)\n",
            "  adding: content/StyleTransfer/log/fortress/trex/imgs_path_all/rgbd/078.png (deflated 0%)\n",
            "  adding: content/StyleTransfer/log/fortress/trex/imgs_path_all/rgbd/011.png (deflated 0%)\n",
            "  adding: content/StyleTransfer/log/fortress/trex/imgs_path_all/rgbd/100.png (deflated 0%)\n",
            "  adding: content/StyleTransfer/log/fortress/trex/imgs_path_all/rgbd/005.png (deflated 0%)\n",
            "  adding: content/StyleTransfer/log/fortress/trex/imgs_path_all/rgbd/089.png (deflated 0%)\n",
            "  adding: content/StyleTransfer/log/fortress/trex/imgs_path_all/rgbd/046.png (deflated 0%)\n",
            "  adding: content/StyleTransfer/log/fortress/trex/imgs_path_all/rgbd/015.png (deflated 0%)\n",
            "  adding: content/StyleTransfer/log/fortress/trex/imgs_path_all/rgbd/003.png (deflated 0%)\n",
            "  adding: content/StyleTransfer/log/fortress/trex/imgs_path_all/rgbd/106.png (deflated 0%)\n",
            "  adding: content/StyleTransfer/log/fortress/trex/imgs_path_all/rgbd/067.png (deflated 0%)\n",
            "  adding: content/StyleTransfer/log/fortress/trex/imgs_path_all/rgbd/020.png (deflated 0%)\n",
            "  adding: content/StyleTransfer/log/fortress/trex/imgs_path_all/rgbd/025.png (deflated 0%)\n",
            "  adding: content/StyleTransfer/log/fortress/trex/imgs_path_all/rgbd/063.png (deflated 0%)\n",
            "  adding: content/StyleTransfer/log/fortress/trex/imgs_path_all/rgbd/045.png (deflated 0%)\n",
            "  adding: content/StyleTransfer/log/fortress/trex/imgs_path_all/rgbd/090.png (deflated 0%)\n",
            "  adding: content/StyleTransfer/log/fortress/trex/imgs_path_all/rgbd/030.png (deflated 0%)\n",
            "  adding: content/StyleTransfer/log/fortress/trex/imgs_path_all/rgbd/010.png (deflated 0%)\n",
            "  adding: content/StyleTransfer/log/fortress/trex/imgs_path_all/rgbd/035.png (deflated 0%)\n",
            "  adding: content/StyleTransfer/log/fortress/trex/imgs_path_all/rgbd/059.png (deflated 0%)\n",
            "  adding: content/StyleTransfer/log/fortress/trex/imgs_path_all/rgbd/057.png (deflated 0%)\n",
            "  adding: content/StyleTransfer/log/fortress/trex/imgs_path_all/rgbd/104.png (deflated 0%)\n",
            "  adding: content/StyleTransfer/log/fortress/trex/imgs_path_all/rgbd/070.png (deflated 0%)\n",
            "  adding: content/StyleTransfer/log/fortress/trex/imgs_path_all/rgbd/117.png (deflated 0%)\n",
            "  adding: content/StyleTransfer/log/fortress/trex/imgs_path_all/rgbd/095.png (deflated 0%)\n",
            "  adding: content/StyleTransfer/log/fortress/trex/imgs_path_all/rgbd/084.png (deflated 0%)\n",
            "  adding: content/StyleTransfer/log/fortress/trex/imgs_path_all/rgbd/026.png (deflated 0%)\n",
            "  adding: content/StyleTransfer/log/fortress/trex/imgs_path_all/rgbd/107.png (deflated 0%)\n",
            "  adding: content/StyleTransfer/log/fortress/trex/imgs_path_all/rgbd/022.png (deflated 0%)\n",
            "  adding: content/StyleTransfer/log/fortress/trex/imgs_path_all/rgbd/098.png (deflated 0%)\n",
            "  adding: content/StyleTransfer/log/fortress/trex/imgs_path_all/rgbd/001.png (deflated 0%)\n",
            "  adding: content/StyleTransfer/log/fortress/trex/imgs_path_all/rgbd/105.png (deflated 0%)\n",
            "  adding: content/StyleTransfer/log/fortress/trex/imgs_path_all/rgbd/050.png (deflated 0%)\n",
            "  adding: content/StyleTransfer/log/fortress/trex/imgs_path_all/rgbd/031.png (deflated 0%)\n",
            "  adding: content/StyleTransfer/log/fortress/trex/imgs_path_all/rgbd/083.png (deflated 0%)\n",
            "  adding: content/StyleTransfer/log/fortress/trex/imgs_path_all/rgbd/044.png (deflated 0%)\n",
            "  adding: content/StyleTransfer/log/fortress/trex/imgs_path_all/rgbd/036.png (deflated 0%)\n",
            "  adding: content/StyleTransfer/log/fortress/trex/imgs_path_all/rgbd/002.png (deflated 0%)\n",
            "  adding: content/StyleTransfer/log/fortress/trex/imgs_path_all/rgbd/086.png (deflated 0%)\n",
            "  adding: content/StyleTransfer/log/fortress/trex/imgs_path_all/rgbd/115.png (deflated 0%)\n",
            "  adding: content/StyleTransfer/log/fortress/trex/imgs_path_all/rgbd/013.png (deflated 0%)\n",
            "  adding: content/StyleTransfer/log/fortress/trex/imgs_path_all/rgbd/087.png (deflated 0%)\n",
            "  adding: content/StyleTransfer/log/fortress/trex/imgs_path_all/rgbd/040.png (deflated 0%)\n",
            "  adding: content/StyleTransfer/log/fortress/trex/imgs_path_all/rgbd/052.png (deflated 0%)\n",
            "  adding: content/StyleTransfer/log/fortress/trex/imgs_path_all/rgbd/038.png (deflated 0%)\n",
            "  adding: content/StyleTransfer/log/fortress/trex/imgs_path_all/rgbd/080.png (deflated 0%)\n",
            "  adding: content/StyleTransfer/log/fortress/trex/imgs_path_all/rgbd/053.png (deflated 0%)\n",
            "  adding: content/StyleTransfer/log/fortress/trex/imgs_path_all/rgbd/119.png (deflated 0%)\n",
            "  adding: content/StyleTransfer/log/fortress/trex/imgs_path_all/rgbd/093.png (deflated 0%)\n",
            "  adding: content/StyleTransfer/log/fortress/trex/imgs_path_all/rgbd/056.png (deflated 0%)\n",
            "  adding: content/StyleTransfer/log/fortress/trex/imgs_path_all/rgbd/023.png (deflated 0%)\n",
            "  adding: content/StyleTransfer/log/fortress/trex/imgs_path_all/rgbd/102.png (deflated 0%)\n",
            "  adding: content/StyleTransfer/log/fortress/trex/imgs_path_all/rgbd/051.png (deflated 0%)\n",
            "  adding: content/StyleTransfer/log/fortress/trex/imgs_path_all/rgbd/047.png (deflated 0%)\n",
            "  adding: content/StyleTransfer/log/fortress/trex/imgs_path_all/rgbd/007.png (deflated 0%)\n",
            "  adding: content/StyleTransfer/log/fortress/trex/imgs_path_all/rgbd/101.png (deflated 0%)\n",
            "  adding: content/StyleTransfer/log/fortress/trex/imgs_path_all/rgbd/012.png (deflated 0%)\n",
            "  adding: content/StyleTransfer/log/fortress/trex/imgs_path_all/rgbd/116.png (deflated 0%)\n",
            "  adding: content/StyleTransfer/log/fortress/trex/imgs_path_all/rgbd/094.png (deflated 0%)\n",
            "  adding: content/StyleTransfer/log/fortress/trex/imgs_path_all/rgbd/062.png (deflated 0%)\n",
            "  adding: content/StyleTransfer/log/fortress/trex/imgs_path_all/rgbd/037.png (deflated 0%)\n",
            "  adding: content/StyleTransfer/log/fortress/trex/imgs_path_all/rgbd/113.png (deflated 0%)\n",
            "  adding: content/StyleTransfer/log/fortress/trex/imgs_path_all/rgbd/082.png (deflated 0%)\n",
            "  adding: content/StyleTransfer/log/fortress/trex/imgs_path_all/rgbd/000.png (deflated 0%)\n",
            "  adding: content/StyleTransfer/log/fortress/trex/imgs_path_all/rgbd/061.png (deflated 0%)\n",
            "  adding: content/StyleTransfer/log/fortress/trex/imgs_path_all/rgbd/072.png (deflated 0%)\n",
            "  adding: content/StyleTransfer/log/fortress/trex/imgs_path_all/rgbd/064.png (deflated 0%)\n",
            "  adding: content/StyleTransfer/log/fortress/trex/imgs_path_all/rgbd/065.png (deflated 0%)\n",
            "  adding: content/StyleTransfer/log/fortress/trex/imgs_path_all/rgbd/109.png (deflated 0%)\n",
            "  adding: content/StyleTransfer/log/fortress/trex/imgs_path_all/rgbd/027.png (deflated 0%)\n",
            "  adding: content/StyleTransfer/log/fortress/trex/imgs_path_all/rgbd/069.png (deflated 0%)\n",
            "  adding: content/StyleTransfer/log/fortress/trex/imgs_path_all/rgbd/092.png (deflated 0%)\n",
            "  adding: content/StyleTransfer/log/fortress/trex/imgs_path_all/rgbd/074.png (deflated 0%)\n",
            "  adding: content/StyleTransfer/log/fortress/trex/imgs_path_all/rgbd/054.png (deflated 0%)\n",
            "  adding: content/StyleTransfer/log/fortress/trex/imgs_path_all/rgbd/066.png (deflated 0%)\n",
            "  adding: content/StyleTransfer/log/fortress/trex/imgs_path_all/rgbd/114.png (deflated 0%)\n",
            "  adding: content/StyleTransfer/log/fortress/trex/imgs_path_all/rgbd/096.png (deflated 0%)\n",
            "  adding: content/StyleTransfer/log/fortress/trex/imgs_path_all/rgbd/088.png (deflated 0%)\n",
            "  adding: content/StyleTransfer/log/fortress/trex/imgs_path_all/rgbd/058.png (deflated 0%)\n",
            "  adding: content/StyleTransfer/log/fortress/trex/imgs_path_all/rgbd/018.png (deflated 0%)\n",
            "  adding: content/StyleTransfer/log/fortress/trex/imgs_path_all/rgbd/085.png (deflated 0%)\n",
            "  adding: content/StyleTransfer/log/fortress/trex/imgs_path_all/rgbd/016.png (deflated 0%)\n",
            "  adding: content/StyleTransfer/log/fortress/trex/imgs_path_all/rgbd/021.png (deflated 0%)\n",
            "  adding: content/StyleTransfer/log/fortress/trex/imgs_path_all/rgbd/004.png (deflated 0%)\n",
            "  adding: content/StyleTransfer/log/fortress/trex/imgs_path_all/rgbd/039.png (deflated 0%)\n",
            "  adding: content/StyleTransfer/log/fortress/trex/imgs_path_all/rgbd/077.png (deflated 0%)\n",
            "  adding: content/StyleTransfer/log/fortress/trex/imgs_path_all/rgbd/032.png (deflated 0%)\n",
            "  adding: content/StyleTransfer/log/fortress/trex/imgs_path_all/rgbd/028.png (deflated 0%)\n",
            "  adding: content/StyleTransfer/log/fortress/trex/imgs_path_all/rgbd/099.png (deflated 0%)\n",
            "  adding: content/StyleTransfer/log/fortress/trex/imgs_path_all/rgbd/055.png (deflated 0%)\n",
            "  adding: content/StyleTransfer/log/fortress/trex/imgs_path_all/rgbd/091.png (deflated 0%)\n",
            "  adding: content/StyleTransfer/log/fortress/trex/imgs_path_all/rgbd/033.png (deflated 0%)\n",
            "  adding: content/StyleTransfer/log/fortress/trex/imgs_path_all/083.png (deflated 0%)\n",
            "  adding: content/StyleTransfer/log/fortress/trex/imgs_path_all/044.png (deflated 0%)\n",
            "  adding: content/StyleTransfer/log/fortress/trex/imgs_path_all/036.png (deflated 0%)\n",
            "  adding: content/StyleTransfer/log/fortress/trex/imgs_path_all/002.png (deflated 0%)\n",
            "  adding: content/StyleTransfer/log/fortress/trex/imgs_path_all/086.png (deflated 0%)\n",
            "  adding: content/StyleTransfer/log/fortress/trex/imgs_path_all/115.png (deflated 0%)\n",
            "  adding: content/StyleTransfer/log/fortress/trex/imgs_path_all/013.png (deflated 0%)\n",
            "  adding: content/StyleTransfer/log/fortress/trex/imgs_path_all/087.png (deflated 0%)\n",
            "  adding: content/StyleTransfer/log/fortress/trex/imgs_path_all/040.png (deflated 0%)\n",
            "  adding: content/StyleTransfer/log/fortress/trex/imgs_path_all/052.png (deflated 0%)\n",
            "  adding: content/StyleTransfer/log/fortress/trex/imgs_path_all/038.png (deflated 0%)\n",
            "  adding: content/StyleTransfer/log/fortress/trex/imgs_path_all/080.png (deflated 0%)\n",
            "  adding: content/StyleTransfer/log/fortress/trex/imgs_path_all/053.png (deflated 0%)\n",
            "  adding: content/StyleTransfer/log/fortress/trex/imgs_path_all/119.png (deflated 0%)\n",
            "  adding: content/StyleTransfer/log/fortress/trex/imgs_path_all/093.png (deflated 0%)\n",
            "  adding: content/StyleTransfer/log/fortress/trex/imgs_path_all/056.png (deflated 0%)\n",
            "  adding: content/StyleTransfer/log/fortress/trex/imgs_path_all/023.png (deflated 0%)\n",
            "  adding: content/StyleTransfer/log/fortress/trex/imgs_path_all/102.png (deflated 0%)\n",
            "  adding: content/StyleTransfer/log/fortress/trex/imgs_path_all/051.png (deflated 0%)\n",
            "  adding: content/StyleTransfer/log/fortress/trex/imgs_path_all/047.png (deflated 0%)\n",
            "  adding: content/StyleTransfer/log/fortress/trex/imgs_path_all/007.png (deflated 0%)\n",
            "  adding: content/StyleTransfer/log/fortress/trex/imgs_path_all/101.png (deflated 0%)\n",
            "  adding: content/StyleTransfer/log/fortress/trex/imgs_path_all/012.png (deflated 0%)\n",
            "  adding: content/StyleTransfer/log/fortress/trex/imgs_path_all/116.png (deflated 0%)\n",
            "  adding: content/StyleTransfer/log/fortress/trex/imgs_path_all/094.png (deflated 0%)\n",
            "  adding: content/StyleTransfer/log/fortress/trex/imgs_path_all/062.png (deflated 0%)\n",
            "  adding: content/StyleTransfer/log/fortress/trex/imgs_path_all/037.png (deflated 0%)\n",
            "  adding: content/StyleTransfer/log/fortress/trex/imgs_path_all/113.png (deflated 0%)\n",
            "  adding: content/StyleTransfer/log/fortress/trex/imgs_path_all/082.png (deflated 0%)\n",
            "  adding: content/StyleTransfer/log/fortress/trex/imgs_path_all/000.png (deflated 0%)\n",
            "  adding: content/StyleTransfer/log/fortress/trex/imgs_path_all/061.png (deflated 0%)\n",
            "  adding: content/StyleTransfer/log/fortress/trex/imgs_path_all/072.png (deflated 0%)\n",
            "  adding: content/StyleTransfer/log/fortress/trex/imgs_path_all/064.png (deflated 0%)\n",
            "  adding: content/StyleTransfer/log/fortress/trex/imgs_path_all/depthvideo.mp4 (deflated 0%)\n",
            "  adding: content/StyleTransfer/log/fortress/trex/imgs_path_all/065.png (deflated 0%)\n",
            "  adding: content/StyleTransfer/log/fortress/trex/imgs_path_all/109.png (deflated 0%)\n",
            "  adding: content/StyleTransfer/log/fortress/trex/imgs_path_all/027.png (deflated 0%)\n",
            "  adding: content/StyleTransfer/log/fortress/trex/imgs_path_all/069.png (deflated 0%)\n",
            "  adding: content/StyleTransfer/log/fortress/trex/imgs_path_all/video.mp4 (deflated 0%)\n",
            "  adding: content/StyleTransfer/log/fortress/trex/imgs_path_all/092.png (deflated 0%)\n",
            "  adding: content/StyleTransfer/log/fortress/trex/imgs_path_all/074.png (deflated 0%)\n",
            "  adding: content/StyleTransfer/log/fortress/trex/imgs_path_all/054.png (deflated 0%)\n",
            "  adding: content/StyleTransfer/log/fortress/trex/imgs_path_all/066.png (deflated 0%)\n",
            "  adding: content/StyleTransfer/log/fortress/trex/imgs_path_all/114.png (deflated 0%)\n",
            "  adding: content/StyleTransfer/log/fortress/trex/imgs_path_all/096.png (deflated 0%)\n",
            "  adding: content/StyleTransfer/log/fortress/trex/imgs_path_all/088.png (deflated 0%)\n",
            "  adding: content/StyleTransfer/log/fortress/trex/imgs_path_all/058.png (deflated 0%)\n",
            "  adding: content/StyleTransfer/log/fortress/trex/imgs_path_all/018.png (deflated 0%)\n",
            "  adding: content/StyleTransfer/log/fortress/trex/imgs_path_all/085.png (deflated 0%)\n",
            "  adding: content/StyleTransfer/log/fortress/trex/imgs_path_all/016.png (deflated 0%)\n",
            "  adding: content/StyleTransfer/log/fortress/trex/imgs_path_all/021.png (deflated 0%)\n",
            "  adding: content/StyleTransfer/log/fortress/trex/imgs_path_all/004.png (deflated 0%)\n",
            "  adding: content/StyleTransfer/log/fortress/trex/imgs_path_all/039.png (deflated 0%)\n",
            "  adding: content/StyleTransfer/log/fortress/trex/imgs_path_all/077.png (deflated 0%)\n",
            "  adding: content/StyleTransfer/log/fortress/trex/imgs_path_all/032.png (deflated 0%)\n",
            "  adding: content/StyleTransfer/log/fortress/trex/imgs_path_all/028.png (deflated 0%)\n",
            "  adding: content/StyleTransfer/log/fortress/trex/imgs_path_all/099.png (deflated 0%)\n",
            "  adding: content/StyleTransfer/log/fortress/trex/imgs_path_all/055.png (deflated 0%)\n",
            "  adding: content/StyleTransfer/log/fortress/trex/imgs_path_all/091.png (deflated 0%)\n",
            "  adding: content/StyleTransfer/log/fortress/trex/imgs_path_all/033.png (deflated 0%)\n",
            "  adding: content/StyleTransfer/log/fortress/trex/imgs_test_all/ (stored 0%)\n",
            "  adding: content/StyleTransfer/log/fortress/trex/imgs_test_all/005.png (deflated 0%)\n",
            "  adding: content/StyleTransfer/log/fortress/trex/imgs_test_all/003.png (deflated 0%)\n",
            "  adding: content/StyleTransfer/log/fortress/trex/imgs_test_all/mean.txt (deflated 30%)\n",
            "  adding: content/StyleTransfer/log/fortress/trex/imgs_test_all/001.png (deflated 0%)\n",
            "  adding: content/StyleTransfer/log/fortress/trex/imgs_test_all/rgbd/ (stored 0%)\n",
            "  adding: content/StyleTransfer/log/fortress/trex/imgs_test_all/rgbd/005.png (deflated 0%)\n",
            "  adding: content/StyleTransfer/log/fortress/trex/imgs_test_all/rgbd/003.png (deflated 0%)\n",
            "  adding: content/StyleTransfer/log/fortress/trex/imgs_test_all/rgbd/001.png (deflated 0%)\n",
            "  adding: content/StyleTransfer/log/fortress/trex/imgs_test_all/rgbd/002.png (deflated 0%)\n",
            "  adding: content/StyleTransfer/log/fortress/trex/imgs_test_all/rgbd/000.png (deflated 0%)\n",
            "  adding: content/StyleTransfer/log/fortress/trex/imgs_test_all/rgbd/004.png (deflated 0%)\n",
            "  adding: content/StyleTransfer/log/fortress/trex/imgs_test_all/002.png (deflated 0%)\n",
            "  adding: content/StyleTransfer/log/fortress/trex/imgs_test_all/000.png (deflated 0%)\n",
            "  adding: content/StyleTransfer/log/fortress/trex/imgs_test_all/depthvideo.mp4 (deflated 0%)\n",
            "  adding: content/StyleTransfer/log/fortress/trex/imgs_test_all/video.mp4 (deflated 0%)\n",
            "  adding: content/StyleTransfer/log/fortress/trex/imgs_test_all/004.png (deflated 0%)\n",
            "  adding: content/StyleTransfer/log/fortress/imgs_rgba/ (stored 0%)\n",
            "  adding: content/StyleTransfer/log/fortress/rgba/ (stored 0%)\n",
            "  adding: content/StyleTransfer/log/fortress/fortress.th (deflated 10%)\n",
            "  adding: content/StyleTransfer/log/fortress/imgs_vis/ (stored 0%)\n",
            "  adding: content/StyleTransfer/log/fortress/imgs_vis/009999_mean.txt (stored 0%)\n",
            "  adding: content/StyleTransfer/log/fortress/imgs_vis/019999_005.png (deflated 0%)\n",
            "  adding: content/StyleTransfer/log/fortress/imgs_vis/009999_000.png (deflated 0%)\n",
            "  adding: content/StyleTransfer/log/fortress/imgs_vis/019999_003.png (deflated 0%)\n",
            "  adding: content/StyleTransfer/log/fortress/imgs_vis/019999_depthvideo.mp4 (deflated 0%)\n",
            "  adding: content/StyleTransfer/log/fortress/imgs_vis/009999_depthvideo.mp4 (deflated 0%)\n",
            "  adding: content/StyleTransfer/log/fortress/imgs_vis/009999_004.png (deflated 0%)\n",
            "  adding: content/StyleTransfer/log/fortress/imgs_vis/009999_005.png (deflated 0%)\n",
            "  adding: content/StyleTransfer/log/fortress/imgs_vis/rgbd/ (stored 0%)\n",
            "  adding: content/StyleTransfer/log/fortress/imgs_vis/rgbd/019999_005.png (deflated 0%)\n",
            "  adding: content/StyleTransfer/log/fortress/imgs_vis/rgbd/009999_000.png (deflated 0%)\n",
            "  adding: content/StyleTransfer/log/fortress/imgs_vis/rgbd/019999_003.png (deflated 0%)\n",
            "  adding: content/StyleTransfer/log/fortress/imgs_vis/rgbd/009999_004.png (deflated 0%)\n",
            "  adding: content/StyleTransfer/log/fortress/imgs_vis/rgbd/009999_005.png (deflated 0%)\n",
            "  adding: content/StyleTransfer/log/fortress/imgs_vis/rgbd/019999_000.png (deflated 0%)\n",
            "  adding: content/StyleTransfer/log/fortress/imgs_vis/rgbd/009999_002.png (deflated 0%)\n",
            "  adding: content/StyleTransfer/log/fortress/imgs_vis/rgbd/019999_004.png (deflated 0%)\n",
            "  adding: content/StyleTransfer/log/fortress/imgs_vis/rgbd/019999_002.png (deflated 0%)\n",
            "  adding: content/StyleTransfer/log/fortress/imgs_vis/rgbd/019999_001.png (deflated 0%)\n",
            "  adding: content/StyleTransfer/log/fortress/imgs_vis/rgbd/009999_003.png (deflated 0%)\n",
            "  adding: content/StyleTransfer/log/fortress/imgs_vis/rgbd/009999_001.png (deflated 0%)\n",
            "  adding: content/StyleTransfer/log/fortress/imgs_vis/019999_000.png (deflated 0%)\n",
            "  adding: content/StyleTransfer/log/fortress/imgs_vis/009999_002.png (deflated 0%)\n",
            "  adding: content/StyleTransfer/log/fortress/imgs_vis/019999_mean.txt (stored 0%)\n",
            "  adding: content/StyleTransfer/log/fortress/imgs_vis/009999_video.mp4 (deflated 0%)\n",
            "  adding: content/StyleTransfer/log/fortress/imgs_vis/019999_004.png (deflated 0%)\n",
            "  adding: content/StyleTransfer/log/fortress/imgs_vis/019999_002.png (deflated 0%)\n",
            "  adding: content/StyleTransfer/log/fortress/imgs_vis/019999_video.mp4 (deflated 0%)\n",
            "  adding: content/StyleTransfer/log/fortress/imgs_vis/019999_001.png (deflated 0%)\n",
            "  adding: content/StyleTransfer/log/fortress/imgs_vis/009999_003.png (deflated 0%)\n",
            "  adding: content/StyleTransfer/log/fortress/imgs_vis/009999_001.png (deflated 0%)\n",
            "  adding: content/StyleTransfer/log/fortress/imgs_path_all/ (stored 0%)\n",
            "  adding: content/StyleTransfer/log/fortress/imgs_path_all/103.png (deflated 0%)\n",
            "  adding: content/StyleTransfer/log/fortress/imgs_path_all/024.png (deflated 0%)\n",
            "  adding: content/StyleTransfer/log/fortress/imgs_path_all/075.png (deflated 0%)\n",
            "  adding: content/StyleTransfer/log/fortress/imgs_path_all/060.png (deflated 0%)\n",
            "  adding: content/StyleTransfer/log/fortress/imgs_path_all/073.png (deflated 0%)\n",
            "  adding: content/StyleTransfer/log/fortress/imgs_path_all/019.png (deflated 0%)\n",
            "  adding: content/StyleTransfer/log/fortress/imgs_path_all/081.png (deflated 0%)\n",
            "  adding: content/StyleTransfer/log/fortress/imgs_path_all/014.png (deflated 0%)\n",
            "  adding: content/StyleTransfer/log/fortress/imgs_path_all/071.png (deflated 0%)\n",
            "  adding: content/StyleTransfer/log/fortress/imgs_path_all/076.png (deflated 0%)\n",
            "  adding: content/StyleTransfer/log/fortress/imgs_path_all/049.png (deflated 0%)\n",
            "  adding: content/StyleTransfer/log/fortress/imgs_path_all/042.png (deflated 0%)\n",
            "  adding: content/StyleTransfer/log/fortress/imgs_path_all/017.png (deflated 0%)\n",
            "  adding: content/StyleTransfer/log/fortress/imgs_path_all/008.png (deflated 0%)\n",
            "  adding: content/StyleTransfer/log/fortress/imgs_path_all/041.png (deflated 0%)\n",
            "  adding: content/StyleTransfer/log/fortress/imgs_path_all/108.png (deflated 0%)\n",
            "  adding: content/StyleTransfer/log/fortress/imgs_path_all/043.png (deflated 0%)\n",
            "  adding: content/StyleTransfer/log/fortress/imgs_path_all/111.png (deflated 0%)\n",
            "  adding: content/StyleTransfer/log/fortress/imgs_path_all/034.png (deflated 0%)\n",
            "  adding: content/StyleTransfer/log/fortress/imgs_path_all/009.png (deflated 0%)\n",
            "  adding: content/StyleTransfer/log/fortress/imgs_path_all/068.png (deflated 0%)\n",
            "  adding: content/StyleTransfer/log/fortress/imgs_path_all/112.png (deflated 0%)\n",
            "  adding: content/StyleTransfer/log/fortress/imgs_path_all/006.png (deflated 0%)\n",
            "  adding: content/StyleTransfer/log/fortress/imgs_path_all/029.png (deflated 0%)\n",
            "  adding: content/StyleTransfer/log/fortress/imgs_path_all/110.png (deflated 0%)\n",
            "  adding: content/StyleTransfer/log/fortress/imgs_path_all/118.png (deflated 0%)\n",
            "  adding: content/StyleTransfer/log/fortress/imgs_path_all/079.png (deflated 0%)\n",
            "  adding: content/StyleTransfer/log/fortress/imgs_path_all/048.png (deflated 0%)\n",
            "  adding: content/StyleTransfer/log/fortress/imgs_path_all/097.png (deflated 0%)\n",
            "  adding: content/StyleTransfer/log/fortress/imgs_path_all/078.png (deflated 0%)\n",
            "  adding: content/StyleTransfer/log/fortress/imgs_path_all/011.png (deflated 0%)\n",
            "  adding: content/StyleTransfer/log/fortress/imgs_path_all/100.png (deflated 0%)\n",
            "  adding: content/StyleTransfer/log/fortress/imgs_path_all/005.png (deflated 0%)\n",
            "  adding: content/StyleTransfer/log/fortress/imgs_path_all/089.png (deflated 0%)\n",
            "  adding: content/StyleTransfer/log/fortress/imgs_path_all/046.png (deflated 0%)\n",
            "  adding: content/StyleTransfer/log/fortress/imgs_path_all/015.png (deflated 0%)\n",
            "  adding: content/StyleTransfer/log/fortress/imgs_path_all/003.png (deflated 0%)\n",
            "  adding: content/StyleTransfer/log/fortress/imgs_path_all/106.png (deflated 0%)\n",
            "  adding: content/StyleTransfer/log/fortress/imgs_path_all/067.png (deflated 0%)\n",
            "  adding: content/StyleTransfer/log/fortress/imgs_path_all/020.png (deflated 0%)\n",
            "  adding: content/StyleTransfer/log/fortress/imgs_path_all/025.png (deflated 0%)\n",
            "  adding: content/StyleTransfer/log/fortress/imgs_path_all/063.png (deflated 0%)\n",
            "  adding: content/StyleTransfer/log/fortress/imgs_path_all/045.png (deflated 0%)\n",
            "  adding: content/StyleTransfer/log/fortress/imgs_path_all/090.png (deflated 0%)\n",
            "  adding: content/StyleTransfer/log/fortress/imgs_path_all/030.png (deflated 0%)\n",
            "  adding: content/StyleTransfer/log/fortress/imgs_path_all/010.png (deflated 0%)\n",
            "  adding: content/StyleTransfer/log/fortress/imgs_path_all/035.png (deflated 0%)\n",
            "  adding: content/StyleTransfer/log/fortress/imgs_path_all/059.png (deflated 0%)\n",
            "  adding: content/StyleTransfer/log/fortress/imgs_path_all/057.png (deflated 0%)\n",
            "  adding: content/StyleTransfer/log/fortress/imgs_path_all/104.png (deflated 0%)\n",
            "  adding: content/StyleTransfer/log/fortress/imgs_path_all/070.png (deflated 0%)\n",
            "  adding: content/StyleTransfer/log/fortress/imgs_path_all/117.png (deflated 0%)\n",
            "  adding: content/StyleTransfer/log/fortress/imgs_path_all/095.png (deflated 0%)\n",
            "  adding: content/StyleTransfer/log/fortress/imgs_path_all/084.png (deflated 0%)\n",
            "  adding: content/StyleTransfer/log/fortress/imgs_path_all/026.png (deflated 0%)\n",
            "  adding: content/StyleTransfer/log/fortress/imgs_path_all/107.png (deflated 0%)\n",
            "  adding: content/StyleTransfer/log/fortress/imgs_path_all/022.png (deflated 0%)\n",
            "  adding: content/StyleTransfer/log/fortress/imgs_path_all/098.png (deflated 0%)\n",
            "  adding: content/StyleTransfer/log/fortress/imgs_path_all/001.png (deflated 0%)\n",
            "  adding: content/StyleTransfer/log/fortress/imgs_path_all/105.png (deflated 0%)\n",
            "  adding: content/StyleTransfer/log/fortress/imgs_path_all/050.png (deflated 0%)\n",
            "  adding: content/StyleTransfer/log/fortress/imgs_path_all/031.png (deflated 0%)\n",
            "  adding: content/StyleTransfer/log/fortress/imgs_path_all/rgbd/ (stored 0%)\n",
            "  adding: content/StyleTransfer/log/fortress/imgs_path_all/rgbd/103.png (deflated 0%)\n",
            "  adding: content/StyleTransfer/log/fortress/imgs_path_all/rgbd/024.png (deflated 0%)\n",
            "  adding: content/StyleTransfer/log/fortress/imgs_path_all/rgbd/075.png (deflated 0%)\n",
            "  adding: content/StyleTransfer/log/fortress/imgs_path_all/rgbd/060.png (deflated 0%)\n",
            "  adding: content/StyleTransfer/log/fortress/imgs_path_all/rgbd/073.png (deflated 0%)\n",
            "  adding: content/StyleTransfer/log/fortress/imgs_path_all/rgbd/019.png (deflated 0%)\n",
            "  adding: content/StyleTransfer/log/fortress/imgs_path_all/rgbd/081.png (deflated 0%)\n",
            "  adding: content/StyleTransfer/log/fortress/imgs_path_all/rgbd/014.png (deflated 0%)\n",
            "  adding: content/StyleTransfer/log/fortress/imgs_path_all/rgbd/071.png (deflated 0%)\n",
            "  adding: content/StyleTransfer/log/fortress/imgs_path_all/rgbd/076.png (deflated 0%)\n",
            "  adding: content/StyleTransfer/log/fortress/imgs_path_all/rgbd/049.png (deflated 0%)\n",
            "  adding: content/StyleTransfer/log/fortress/imgs_path_all/rgbd/042.png (deflated 0%)\n",
            "  adding: content/StyleTransfer/log/fortress/imgs_path_all/rgbd/017.png (deflated 0%)\n",
            "  adding: content/StyleTransfer/log/fortress/imgs_path_all/rgbd/008.png (deflated 0%)\n",
            "  adding: content/StyleTransfer/log/fortress/imgs_path_all/rgbd/041.png (deflated 0%)\n",
            "  adding: content/StyleTransfer/log/fortress/imgs_path_all/rgbd/108.png (deflated 0%)\n",
            "  adding: content/StyleTransfer/log/fortress/imgs_path_all/rgbd/043.png (deflated 0%)\n",
            "  adding: content/StyleTransfer/log/fortress/imgs_path_all/rgbd/111.png (deflated 0%)\n",
            "  adding: content/StyleTransfer/log/fortress/imgs_path_all/rgbd/034.png (deflated 0%)\n",
            "  adding: content/StyleTransfer/log/fortress/imgs_path_all/rgbd/009.png (deflated 0%)\n",
            "  adding: content/StyleTransfer/log/fortress/imgs_path_all/rgbd/068.png (deflated 0%)\n",
            "  adding: content/StyleTransfer/log/fortress/imgs_path_all/rgbd/112.png (deflated 0%)\n",
            "  adding: content/StyleTransfer/log/fortress/imgs_path_all/rgbd/006.png (deflated 0%)\n",
            "  adding: content/StyleTransfer/log/fortress/imgs_path_all/rgbd/029.png (deflated 0%)\n",
            "  adding: content/StyleTransfer/log/fortress/imgs_path_all/rgbd/110.png (deflated 0%)\n",
            "  adding: content/StyleTransfer/log/fortress/imgs_path_all/rgbd/118.png (deflated 0%)\n",
            "  adding: content/StyleTransfer/log/fortress/imgs_path_all/rgbd/079.png (deflated 0%)\n",
            "  adding: content/StyleTransfer/log/fortress/imgs_path_all/rgbd/048.png (deflated 0%)\n",
            "  adding: content/StyleTransfer/log/fortress/imgs_path_all/rgbd/097.png (deflated 0%)\n",
            "  adding: content/StyleTransfer/log/fortress/imgs_path_all/rgbd/078.png (deflated 0%)\n",
            "  adding: content/StyleTransfer/log/fortress/imgs_path_all/rgbd/011.png (deflated 0%)\n",
            "  adding: content/StyleTransfer/log/fortress/imgs_path_all/rgbd/100.png (deflated 0%)\n",
            "  adding: content/StyleTransfer/log/fortress/imgs_path_all/rgbd/005.png (deflated 0%)\n",
            "  adding: content/StyleTransfer/log/fortress/imgs_path_all/rgbd/089.png (deflated 0%)\n",
            "  adding: content/StyleTransfer/log/fortress/imgs_path_all/rgbd/046.png (deflated 0%)\n",
            "  adding: content/StyleTransfer/log/fortress/imgs_path_all/rgbd/015.png (deflated 0%)\n",
            "  adding: content/StyleTransfer/log/fortress/imgs_path_all/rgbd/003.png (deflated 0%)\n",
            "  adding: content/StyleTransfer/log/fortress/imgs_path_all/rgbd/106.png (deflated 0%)\n",
            "  adding: content/StyleTransfer/log/fortress/imgs_path_all/rgbd/067.png (deflated 0%)\n",
            "  adding: content/StyleTransfer/log/fortress/imgs_path_all/rgbd/020.png (deflated 0%)\n",
            "  adding: content/StyleTransfer/log/fortress/imgs_path_all/rgbd/025.png (deflated 0%)\n",
            "  adding: content/StyleTransfer/log/fortress/imgs_path_all/rgbd/063.png (deflated 0%)\n",
            "  adding: content/StyleTransfer/log/fortress/imgs_path_all/rgbd/045.png (deflated 0%)\n",
            "  adding: content/StyleTransfer/log/fortress/imgs_path_all/rgbd/090.png (deflated 0%)\n",
            "  adding: content/StyleTransfer/log/fortress/imgs_path_all/rgbd/030.png (deflated 0%)\n",
            "  adding: content/StyleTransfer/log/fortress/imgs_path_all/rgbd/010.png (deflated 0%)\n",
            "  adding: content/StyleTransfer/log/fortress/imgs_path_all/rgbd/035.png (deflated 0%)\n",
            "  adding: content/StyleTransfer/log/fortress/imgs_path_all/rgbd/059.png (deflated 0%)\n",
            "  adding: content/StyleTransfer/log/fortress/imgs_path_all/rgbd/057.png (deflated 0%)\n",
            "  adding: content/StyleTransfer/log/fortress/imgs_path_all/rgbd/104.png (deflated 0%)\n",
            "  adding: content/StyleTransfer/log/fortress/imgs_path_all/rgbd/070.png (deflated 0%)\n",
            "  adding: content/StyleTransfer/log/fortress/imgs_path_all/rgbd/117.png (deflated 0%)\n",
            "  adding: content/StyleTransfer/log/fortress/imgs_path_all/rgbd/095.png (deflated 0%)\n",
            "  adding: content/StyleTransfer/log/fortress/imgs_path_all/rgbd/084.png (deflated 0%)\n",
            "  adding: content/StyleTransfer/log/fortress/imgs_path_all/rgbd/026.png (deflated 0%)\n",
            "  adding: content/StyleTransfer/log/fortress/imgs_path_all/rgbd/107.png (deflated 0%)\n",
            "  adding: content/StyleTransfer/log/fortress/imgs_path_all/rgbd/022.png (deflated 0%)\n",
            "  adding: content/StyleTransfer/log/fortress/imgs_path_all/rgbd/098.png (deflated 0%)\n",
            "  adding: content/StyleTransfer/log/fortress/imgs_path_all/rgbd/001.png (deflated 0%)\n",
            "  adding: content/StyleTransfer/log/fortress/imgs_path_all/rgbd/105.png (deflated 0%)\n",
            "  adding: content/StyleTransfer/log/fortress/imgs_path_all/rgbd/050.png (deflated 0%)\n",
            "  adding: content/StyleTransfer/log/fortress/imgs_path_all/rgbd/031.png (deflated 0%)\n",
            "  adding: content/StyleTransfer/log/fortress/imgs_path_all/rgbd/083.png (deflated 0%)\n",
            "  adding: content/StyleTransfer/log/fortress/imgs_path_all/rgbd/044.png (deflated 0%)\n",
            "  adding: content/StyleTransfer/log/fortress/imgs_path_all/rgbd/036.png (deflated 0%)\n",
            "  adding: content/StyleTransfer/log/fortress/imgs_path_all/rgbd/002.png (deflated 0%)\n",
            "  adding: content/StyleTransfer/log/fortress/imgs_path_all/rgbd/086.png (deflated 0%)\n",
            "  adding: content/StyleTransfer/log/fortress/imgs_path_all/rgbd/115.png (deflated 0%)\n",
            "  adding: content/StyleTransfer/log/fortress/imgs_path_all/rgbd/013.png (deflated 0%)\n",
            "  adding: content/StyleTransfer/log/fortress/imgs_path_all/rgbd/087.png (deflated 0%)\n",
            "  adding: content/StyleTransfer/log/fortress/imgs_path_all/rgbd/040.png (deflated 0%)\n",
            "  adding: content/StyleTransfer/log/fortress/imgs_path_all/rgbd/052.png (deflated 0%)\n",
            "  adding: content/StyleTransfer/log/fortress/imgs_path_all/rgbd/038.png (deflated 0%)\n",
            "  adding: content/StyleTransfer/log/fortress/imgs_path_all/rgbd/080.png (deflated 0%)\n",
            "  adding: content/StyleTransfer/log/fortress/imgs_path_all/rgbd/053.png (deflated 0%)\n",
            "  adding: content/StyleTransfer/log/fortress/imgs_path_all/rgbd/119.png (deflated 0%)\n",
            "  adding: content/StyleTransfer/log/fortress/imgs_path_all/rgbd/093.png (deflated 0%)\n",
            "  adding: content/StyleTransfer/log/fortress/imgs_path_all/rgbd/056.png (deflated 0%)\n",
            "  adding: content/StyleTransfer/log/fortress/imgs_path_all/rgbd/023.png (deflated 0%)\n",
            "  adding: content/StyleTransfer/log/fortress/imgs_path_all/rgbd/102.png (deflated 0%)\n",
            "  adding: content/StyleTransfer/log/fortress/imgs_path_all/rgbd/051.png (deflated 0%)\n",
            "  adding: content/StyleTransfer/log/fortress/imgs_path_all/rgbd/047.png (deflated 0%)\n",
            "  adding: content/StyleTransfer/log/fortress/imgs_path_all/rgbd/007.png (deflated 0%)\n",
            "  adding: content/StyleTransfer/log/fortress/imgs_path_all/rgbd/101.png (deflated 0%)\n",
            "  adding: content/StyleTransfer/log/fortress/imgs_path_all/rgbd/012.png (deflated 0%)\n",
            "  adding: content/StyleTransfer/log/fortress/imgs_path_all/rgbd/116.png (deflated 0%)\n",
            "  adding: content/StyleTransfer/log/fortress/imgs_path_all/rgbd/094.png (deflated 0%)\n",
            "  adding: content/StyleTransfer/log/fortress/imgs_path_all/rgbd/062.png (deflated 0%)\n",
            "  adding: content/StyleTransfer/log/fortress/imgs_path_all/rgbd/037.png (deflated 0%)\n",
            "  adding: content/StyleTransfer/log/fortress/imgs_path_all/rgbd/113.png (deflated 0%)\n",
            "  adding: content/StyleTransfer/log/fortress/imgs_path_all/rgbd/082.png (deflated 0%)\n",
            "  adding: content/StyleTransfer/log/fortress/imgs_path_all/rgbd/000.png (deflated 0%)\n",
            "  adding: content/StyleTransfer/log/fortress/imgs_path_all/rgbd/061.png (deflated 0%)\n",
            "  adding: content/StyleTransfer/log/fortress/imgs_path_all/rgbd/072.png (deflated 0%)\n",
            "  adding: content/StyleTransfer/log/fortress/imgs_path_all/rgbd/064.png (deflated 0%)\n",
            "  adding: content/StyleTransfer/log/fortress/imgs_path_all/rgbd/065.png (deflated 0%)\n",
            "  adding: content/StyleTransfer/log/fortress/imgs_path_all/rgbd/109.png (deflated 0%)\n",
            "  adding: content/StyleTransfer/log/fortress/imgs_path_all/rgbd/027.png (deflated 0%)\n",
            "  adding: content/StyleTransfer/log/fortress/imgs_path_all/rgbd/069.png (deflated 0%)\n",
            "  adding: content/StyleTransfer/log/fortress/imgs_path_all/rgbd/092.png (deflated 0%)\n",
            "  adding: content/StyleTransfer/log/fortress/imgs_path_all/rgbd/074.png (deflated 0%)\n",
            "  adding: content/StyleTransfer/log/fortress/imgs_path_all/rgbd/054.png (deflated 0%)\n",
            "  adding: content/StyleTransfer/log/fortress/imgs_path_all/rgbd/066.png (deflated 0%)\n",
            "  adding: content/StyleTransfer/log/fortress/imgs_path_all/rgbd/114.png (deflated 0%)\n",
            "  adding: content/StyleTransfer/log/fortress/imgs_path_all/rgbd/096.png (deflated 0%)\n",
            "  adding: content/StyleTransfer/log/fortress/imgs_path_all/rgbd/088.png (deflated 0%)\n",
            "  adding: content/StyleTransfer/log/fortress/imgs_path_all/rgbd/058.png (deflated 0%)\n",
            "  adding: content/StyleTransfer/log/fortress/imgs_path_all/rgbd/018.png (deflated 0%)\n",
            "  adding: content/StyleTransfer/log/fortress/imgs_path_all/rgbd/085.png (deflated 0%)\n",
            "  adding: content/StyleTransfer/log/fortress/imgs_path_all/rgbd/016.png (deflated 0%)\n",
            "  adding: content/StyleTransfer/log/fortress/imgs_path_all/rgbd/021.png (deflated 0%)\n",
            "  adding: content/StyleTransfer/log/fortress/imgs_path_all/rgbd/004.png (deflated 0%)\n",
            "  adding: content/StyleTransfer/log/fortress/imgs_path_all/rgbd/039.png (deflated 0%)\n",
            "  adding: content/StyleTransfer/log/fortress/imgs_path_all/rgbd/077.png (deflated 0%)\n",
            "  adding: content/StyleTransfer/log/fortress/imgs_path_all/rgbd/032.png (deflated 0%)\n",
            "  adding: content/StyleTransfer/log/fortress/imgs_path_all/rgbd/028.png (deflated 0%)\n",
            "  adding: content/StyleTransfer/log/fortress/imgs_path_all/rgbd/099.png (deflated 0%)\n",
            "  adding: content/StyleTransfer/log/fortress/imgs_path_all/rgbd/055.png (deflated 0%)\n",
            "  adding: content/StyleTransfer/log/fortress/imgs_path_all/rgbd/091.png (deflated 0%)\n",
            "  adding: content/StyleTransfer/log/fortress/imgs_path_all/rgbd/033.png (deflated 0%)\n",
            "  adding: content/StyleTransfer/log/fortress/imgs_path_all/083.png (deflated 0%)\n",
            "  adding: content/StyleTransfer/log/fortress/imgs_path_all/044.png (deflated 0%)\n",
            "  adding: content/StyleTransfer/log/fortress/imgs_path_all/036.png (deflated 0%)\n",
            "  adding: content/StyleTransfer/log/fortress/imgs_path_all/002.png (deflated 0%)\n",
            "  adding: content/StyleTransfer/log/fortress/imgs_path_all/086.png (deflated 0%)\n",
            "  adding: content/StyleTransfer/log/fortress/imgs_path_all/115.png (deflated 0%)\n",
            "  adding: content/StyleTransfer/log/fortress/imgs_path_all/013.png (deflated 0%)\n",
            "  adding: content/StyleTransfer/log/fortress/imgs_path_all/087.png (deflated 0%)\n",
            "  adding: content/StyleTransfer/log/fortress/imgs_path_all/040.png (deflated 0%)\n",
            "  adding: content/StyleTransfer/log/fortress/imgs_path_all/052.png (deflated 0%)\n",
            "  adding: content/StyleTransfer/log/fortress/imgs_path_all/038.png (deflated 0%)\n",
            "  adding: content/StyleTransfer/log/fortress/imgs_path_all/080.png (deflated 0%)\n",
            "  adding: content/StyleTransfer/log/fortress/imgs_path_all/053.png (deflated 0%)\n",
            "  adding: content/StyleTransfer/log/fortress/imgs_path_all/119.png (deflated 0%)\n",
            "  adding: content/StyleTransfer/log/fortress/imgs_path_all/093.png (deflated 0%)\n",
            "  adding: content/StyleTransfer/log/fortress/imgs_path_all/056.png (deflated 0%)\n",
            "  adding: content/StyleTransfer/log/fortress/imgs_path_all/023.png (deflated 0%)\n",
            "  adding: content/StyleTransfer/log/fortress/imgs_path_all/102.png (deflated 0%)\n",
            "  adding: content/StyleTransfer/log/fortress/imgs_path_all/051.png (deflated 0%)\n",
            "  adding: content/StyleTransfer/log/fortress/imgs_path_all/047.png (deflated 0%)\n",
            "  adding: content/StyleTransfer/log/fortress/imgs_path_all/007.png (deflated 0%)\n",
            "  adding: content/StyleTransfer/log/fortress/imgs_path_all/101.png (deflated 0%)\n",
            "  adding: content/StyleTransfer/log/fortress/imgs_path_all/012.png (deflated 0%)\n",
            "  adding: content/StyleTransfer/log/fortress/imgs_path_all/116.png (deflated 0%)\n",
            "  adding: content/StyleTransfer/log/fortress/imgs_path_all/094.png (deflated 0%)\n",
            "  adding: content/StyleTransfer/log/fortress/imgs_path_all/062.png (deflated 0%)\n",
            "  adding: content/StyleTransfer/log/fortress/imgs_path_all/037.png (deflated 0%)\n",
            "  adding: content/StyleTransfer/log/fortress/imgs_path_all/113.png (deflated 0%)\n",
            "  adding: content/StyleTransfer/log/fortress/imgs_path_all/082.png (deflated 0%)\n",
            "  adding: content/StyleTransfer/log/fortress/imgs_path_all/000.png (deflated 0%)\n",
            "  adding: content/StyleTransfer/log/fortress/imgs_path_all/061.png (deflated 0%)\n",
            "  adding: content/StyleTransfer/log/fortress/imgs_path_all/072.png (deflated 0%)\n",
            "  adding: content/StyleTransfer/log/fortress/imgs_path_all/064.png (deflated 0%)\n",
            "  adding: content/StyleTransfer/log/fortress/imgs_path_all/depthvideo.mp4 (deflated 0%)\n",
            "  adding: content/StyleTransfer/log/fortress/imgs_path_all/065.png (deflated 0%)\n",
            "  adding: content/StyleTransfer/log/fortress/imgs_path_all/109.png (deflated 0%)\n",
            "  adding: content/StyleTransfer/log/fortress/imgs_path_all/027.png (deflated 0%)\n",
            "  adding: content/StyleTransfer/log/fortress/imgs_path_all/069.png (deflated 0%)\n",
            "  adding: content/StyleTransfer/log/fortress/imgs_path_all/video.mp4 (deflated 0%)\n",
            "  adding: content/StyleTransfer/log/fortress/imgs_path_all/092.png (deflated 0%)\n",
            "  adding: content/StyleTransfer/log/fortress/imgs_path_all/074.png (deflated 0%)\n",
            "  adding: content/StyleTransfer/log/fortress/imgs_path_all/054.png (deflated 0%)\n",
            "  adding: content/StyleTransfer/log/fortress/imgs_path_all/066.png (deflated 0%)\n",
            "  adding: content/StyleTransfer/log/fortress/imgs_path_all/114.png (deflated 0%)\n",
            "  adding: content/StyleTransfer/log/fortress/imgs_path_all/096.png (deflated 0%)\n",
            "  adding: content/StyleTransfer/log/fortress/imgs_path_all/088.png (deflated 0%)\n",
            "  adding: content/StyleTransfer/log/fortress/imgs_path_all/058.png (deflated 0%)\n",
            "  adding: content/StyleTransfer/log/fortress/imgs_path_all/018.png (deflated 0%)\n",
            "  adding: content/StyleTransfer/log/fortress/imgs_path_all/085.png (deflated 0%)\n",
            "  adding: content/StyleTransfer/log/fortress/imgs_path_all/016.png (deflated 0%)\n",
            "  adding: content/StyleTransfer/log/fortress/imgs_path_all/021.png (deflated 0%)\n",
            "  adding: content/StyleTransfer/log/fortress/imgs_path_all/004.png (deflated 0%)\n",
            "  adding: content/StyleTransfer/log/fortress/imgs_path_all/039.png (deflated 0%)\n",
            "  adding: content/StyleTransfer/log/fortress/imgs_path_all/077.png (deflated 0%)\n",
            "  adding: content/StyleTransfer/log/fortress/imgs_path_all/032.png (deflated 0%)\n",
            "  adding: content/StyleTransfer/log/fortress/imgs_path_all/028.png (deflated 0%)\n",
            "  adding: content/StyleTransfer/log/fortress/imgs_path_all/099.png (deflated 0%)\n",
            "  adding: content/StyleTransfer/log/fortress/imgs_path_all/055.png (deflated 0%)\n",
            "  adding: content/StyleTransfer/log/fortress/imgs_path_all/091.png (deflated 0%)\n",
            "  adding: content/StyleTransfer/log/fortress/imgs_path_all/033.png (deflated 0%)\n",
            "  adding: content/StyleTransfer/log/fortress/events.out.tfevents.1744004493.6e8ea981767e (deflated 70%)\n",
            "  adding: content/StyleTransfer/log/fortress/imgs_test_all/ (stored 0%)\n",
            "  adding: content/StyleTransfer/log/fortress/imgs_test_all/005.png (deflated 0%)\n",
            "  adding: content/StyleTransfer/log/fortress/imgs_test_all/003.png (deflated 0%)\n",
            "  adding: content/StyleTransfer/log/fortress/imgs_test_all/mean.txt (deflated 30%)\n",
            "  adding: content/StyleTransfer/log/fortress/imgs_test_all/001.png (deflated 0%)\n",
            "  adding: content/StyleTransfer/log/fortress/imgs_test_all/rgbd/ (stored 0%)\n",
            "  adding: content/StyleTransfer/log/fortress/imgs_test_all/rgbd/005.png (deflated 0%)\n",
            "  adding: content/StyleTransfer/log/fortress/imgs_test_all/rgbd/003.png (deflated 0%)\n",
            "  adding: content/StyleTransfer/log/fortress/imgs_test_all/rgbd/001.png (deflated 0%)\n",
            "  adding: content/StyleTransfer/log/fortress/imgs_test_all/rgbd/002.png (deflated 0%)\n",
            "  adding: content/StyleTransfer/log/fortress/imgs_test_all/rgbd/000.png (deflated 0%)\n",
            "  adding: content/StyleTransfer/log/fortress/imgs_test_all/rgbd/004.png (deflated 0%)\n",
            "  adding: content/StyleTransfer/log/fortress/imgs_test_all/002.png (deflated 0%)\n",
            "  adding: content/StyleTransfer/log/fortress/imgs_test_all/000.png (deflated 0%)\n",
            "  adding: content/StyleTransfer/log/fortress/imgs_test_all/depthvideo.mp4 (deflated 0%)\n",
            "  adding: content/StyleTransfer/log/fortress/imgs_test_all/video.mp4 (deflated 0%)\n",
            "  adding: content/StyleTransfer/log/fortress/imgs_test_all/004.png (deflated 0%)\n"
          ]
        },
        {
          "output_type": "display_data",
          "data": {
            "text/plain": [
              "<IPython.core.display.Javascript object>"
            ],
            "application/javascript": [
              "\n",
              "    async function download(id, filename, size) {\n",
              "      if (!google.colab.kernel.accessAllowed) {\n",
              "        return;\n",
              "      }\n",
              "      const div = document.createElement('div');\n",
              "      const label = document.createElement('label');\n",
              "      label.textContent = `Downloading \"${filename}\": `;\n",
              "      div.appendChild(label);\n",
              "      const progress = document.createElement('progress');\n",
              "      progress.max = size;\n",
              "      div.appendChild(progress);\n",
              "      document.body.appendChild(div);\n",
              "\n",
              "      const buffers = [];\n",
              "      let downloaded = 0;\n",
              "\n",
              "      const channel = await google.colab.kernel.comms.open(id);\n",
              "      // Send a message to notify the kernel that we're ready.\n",
              "      channel.send({})\n",
              "\n",
              "      for await (const message of channel.messages) {\n",
              "        // Send a message to notify the kernel that we're ready.\n",
              "        channel.send({})\n",
              "        if (message.buffers) {\n",
              "          for (const buffer of message.buffers) {\n",
              "            buffers.push(buffer);\n",
              "            downloaded += buffer.byteLength;\n",
              "            progress.value = downloaded;\n",
              "          }\n",
              "        }\n",
              "      }\n",
              "      const blob = new Blob(buffers, {type: 'application/binary'});\n",
              "      const a = document.createElement('a');\n",
              "      a.href = window.URL.createObjectURL(blob);\n",
              "      a.download = filename;\n",
              "      div.appendChild(a);\n",
              "      a.click();\n",
              "      div.remove();\n",
              "    }\n",
              "  "
            ]
          },
          "metadata": {}
        },
        {
          "output_type": "display_data",
          "data": {
            "text/plain": [
              "<IPython.core.display.Javascript object>"
            ],
            "application/javascript": [
              "download(\"download_1f8e2112-0694-4e78-83a9-7422fafc1500\", \"fortress_base.zip\", 799310206)"
            ]
          },
          "metadata": {}
        }
      ],
      "source": [
        "!zip -r fortress_base.zip /content/StyleTransfer/log/fortress\n",
        "from google.colab import files\n",
        "files.download(\"fortress_base.zip\")\n"
      ]
    },
    {
      "cell_type": "code",
      "execution_count": null,
      "metadata": {
        "colab": {
          "base_uri": "https://localhost:8080/"
        },
        "id": "z6E8j22I0w5l",
        "outputId": "9cb19c82-3b7e-4b64-d599-48f19189ee28"
      },
      "outputs": [
        {
          "name": "stdout",
          "output_type": "stream",
          "text": [
            "Namespace(config='configs/llff_feature.txt', expname='trex_feature_lowmem12', basedir='./log_feature', add_timestamp=0, datadir='/content/drive/MyDrive/data/nerf_llff_data/trex', wikiartdir='./data/WikiArt', progress_refresh_rate=10, with_depth=False, downsample_train=4.0, downsample_test=1.0, model_name='TensorVMSplit', batch_size=4096, n_iters=10000, dataset_name='llff', patch_size=256, chunk_size=4096, lr_init=0.02, lr_basis=0.0001, lr_finetune=1e-05, lr_decay_iters=-1, lr_decay_target_ratio=0.1, lr_upsample_reset=1, L1_weight_inital=0.0, L1_weight_rest=0, Ortho_weight=0.0, TV_weight_density=0.0, TV_weight_app=0.0, TV_weight_feature=80.0, style_weight=0, content_weight=0, image_tv_weight=0, featuremap_tv_weight=0, n_lamb_sigma=[16, 4, 4], n_lamb_sh=[48, 12, 12], data_dim_color=27, rm_weight_mask_thre=0.0001, alpha_mask_thre=0.0001, distance_scale=25, density_shift=-10, shadingMode='MLP_Fea', pos_pe=6, view_pe=6, fea_pe=6, featureC=128, ckpt='/content/drive/MyDrive/trex_base/trex_base.th', render_only=0, render_test=0, render_train=0, render_path=0, export_mesh=0, style_img=None, lindisp=False, perturb=1.0, accumulate_decay=0.998, fea2denseAct='relu', ndc_ray=1, nSamples=1000000.0, step_ratio=0.5, white_bkgd=False, N_voxel_init=2097156, N_voxel_final=262144000, upsamp_list=[2000, 3000, 4000, 5500], update_AlphaMask_list=[2500], idx_view=0, N_vis=5, vis_every=10000)\n",
            "aabb tensor([-1.5000, -1.6700, -1.0000,  1.5000,  1.6700,  1.0000], device='cuda:0')\n",
            "grid size [706, 786, 471]\n",
            "sampling step size:  tensor(0.0021, device='cuda:0')\n",
            "sampling number:  2311\n",
            "pos_pe 6 view_pe 0 fea_pe 0\n",
            "====> prepare_feature_data (low memory + save per frame)...\n",
            "100% 48/48 [00:00<00:00, 177536.68it/s]\n",
            "====> feature extraction and save DONE.\n",
            "lr decay 0.1 10000\n",
            "initial TV_weight_feature: 80.0\n",
            "Iteration 09990: psnr = 25.56: 100% 10000/10000 [6:00:40<00:00,  2.16s/it]\n"
          ]
        }
      ],
      "source": [
        "!python train_feature.py \\\n",
        "  --config configs/llff_feature.txt \\\n",
        "  --datadir /content/drive/MyDrive/data/nerf_llff_data/fortress \\\n",
        "  --expname trex_feature_lowmem12 \\\n",
        "  --ckpt /content/drive/MyDrive/trex_base/fortress_base.th\n"
      ]
    },
    {
      "cell_type": "code",
      "execution_count": null,
      "metadata": {
        "colab": {
          "base_uri": "https://localhost:8080/",
          "height": 124
        },
        "id": "KGBQWcJGThZN",
        "outputId": "4d15715d-8746-43f9-f508-d07fa7cecacd"
      },
      "outputs": [
        {
          "name": "stdout",
          "output_type": "stream",
          "text": [
            "updating: content/StyleTransfer/log_feature/trex_feature_lowmem12/ (stored 0%)\n",
            "updating: content/StyleTransfer/log_feature/trex_feature_lowmem12/trex_feature_lowmem12.th (deflated 9%)\n",
            "updating: content/StyleTransfer/log_feature/trex_feature_lowmem12/events.out.tfevents.1743696393.d432122587d1 (deflated 13%)\n",
            "updating: content/StyleTransfer/log_feature/trex_feature_lowmem12/events.out.tfevents.1743723046.d432122587d1 (deflated 13%)\n",
            "updating: content/StyleTransfer/log_feature/trex_feature_lowmem12/events.out.tfevents.1743696233.d432122587d1 (deflated 1%)\n"
          ]
        },
        {
          "data": {
            "application/javascript": [
              "\n",
              "    async function download(id, filename, size) {\n",
              "      if (!google.colab.kernel.accessAllowed) {\n",
              "        return;\n",
              "      }\n",
              "      const div = document.createElement('div');\n",
              "      const label = document.createElement('label');\n",
              "      label.textContent = `Downloading \"${filename}\": `;\n",
              "      div.appendChild(label);\n",
              "      const progress = document.createElement('progress');\n",
              "      progress.max = size;\n",
              "      div.appendChild(progress);\n",
              "      document.body.appendChild(div);\n",
              "\n",
              "      const buffers = [];\n",
              "      let downloaded = 0;\n",
              "\n",
              "      const channel = await google.colab.kernel.comms.open(id);\n",
              "      // Send a message to notify the kernel that we're ready.\n",
              "      channel.send({})\n",
              "\n",
              "      for await (const message of channel.messages) {\n",
              "        // Send a message to notify the kernel that we're ready.\n",
              "        channel.send({})\n",
              "        if (message.buffers) {\n",
              "          for (const buffer of message.buffers) {\n",
              "            buffers.push(buffer);\n",
              "            downloaded += buffer.byteLength;\n",
              "            progress.value = downloaded;\n",
              "          }\n",
              "        }\n",
              "      }\n",
              "      const blob = new Blob(buffers, {type: 'application/binary'});\n",
              "      const a = document.createElement('a');\n",
              "      a.href = window.URL.createObjectURL(blob);\n",
              "      a.download = filename;\n",
              "      div.appendChild(a);\n",
              "      a.click();\n",
              "      div.remove();\n",
              "    }\n",
              "  "
            ],
            "text/plain": [
              "<IPython.core.display.Javascript object>"
            ]
          },
          "metadata": {},
          "output_type": "display_data"
        },
        {
          "data": {
            "application/javascript": [
              "download(\"download_bb06fd0c-ae2c-4838-86ac-2a7b1256cd1b\", \"log_feature12.zip\", 213793487)"
            ],
            "text/plain": [
              "<IPython.core.display.Javascript object>"
            ]
          },
          "metadata": {},
          "output_type": "display_data"
        }
      ],
      "source": [
        "!zip -r log_feature12.zip /content/StyleTransfer/log_feature/trex_feature_lowmem12\n",
        "from google.colab import files\n",
        "files.download(\"log_feature12.zip\")"
      ]
    },
    {
      "cell_type": "code",
      "execution_count": null,
      "metadata": {
        "colab": {
          "base_uri": "https://localhost:8080/"
        },
        "id": "bylT690L07sp",
        "outputId": "efe64ecc-e220-4019-c233-d30fa6783ab2"
      },
      "outputs": [
        {
          "name": "stdout",
          "output_type": "stream",
          "text": [
            "Namespace(config='configs/llff_style.txt', expname='trex_style_landscape', basedir='./log_style', add_timestamp=0, datadir='/content/drive/MyDrive/data/nerf_llff_data/trex', wikiartdir='/content/drive/MyDrive/data/WikiArt/images', progress_refresh_rate=10, with_depth=False, downsample_train=4.0, downsample_test=1.0, model_name='TensorVMSplit', batch_size=4096, n_iters=10000, dataset_name='llff', patch_size=256, chunk_size=2048, lr_init=0.02, lr_basis=0.0001, lr_finetune=1e-05, lr_decay_iters=-1, lr_decay_target_ratio=0.1, lr_upsample_reset=1, L1_weight_inital=0.0, L1_weight_rest=0, Ortho_weight=0.0, TV_weight_density=0.0, TV_weight_app=0.0, TV_weight_feature=0.0, style_weight=20.0, content_weight=1.0, image_tv_weight=0.0, featuremap_tv_weight=0.0, n_lamb_sigma=[16, 4, 4], n_lamb_sh=[48, 12, 12], data_dim_color=27, rm_weight_mask_thre=0.001, alpha_mask_thre=0.0001, distance_scale=25, density_shift=-10, shadingMode='MLP_Fea', pos_pe=6, view_pe=6, fea_pe=6, featureC=128, ckpt='/content/StyleTransfer/log_feature/trex_feature_lowmem12/trex_feature_lowmem12.th', render_only=0, render_test=0, render_train=0, render_path=0, export_mesh=0, style_img=None, lindisp=False, perturb=1.0, accumulate_decay=0.998, fea2denseAct='relu', ndc_ray=1, nSamples=300, step_ratio=0.5, white_bkgd=False, N_voxel_init=2097156, N_voxel_final=262144000, upsamp_list=None, update_AlphaMask_list=None, idx_view=0, N_vis=5, vis_every=10000)\n",
            "aabb tensor([-1.5000, -1.6700, -1.0000,  1.5000,  1.6700,  1.0000], device='cuda:0')\n",
            "grid size [706, 786, 471]\n",
            "sampling step size:  tensor(0.0021, device='cuda:0')\n",
            "sampling number:  2311\n",
            "pos_pe 6 view_pe 0 fea_pe 0\n",
            "lr decay 0.1 10000\n",
            "Iteration 00000: content_loss = 30.26 style_loss = 1110.36:   0% 0/10000 [00:01<?, ?it/s]/usr/local/lib/python3.11/dist-packages/torchvision/transforms/functional.py:1603: UserWarning: The default value of the antialias parameter of all the resizing transforms (Resize(), RandomResizedCrop(), etc.) will change from None to True in v0.17, in order to be consistent across the PIL and Tensor backends. To suppress this warning, directly pass antialias=True (recommended, future default), antialias=None (current default, which means False for Tensors and True for PIL), or antialias=False (only works on Tensors - PIL will still use antialiasing). This also applies if you are using the inference transforms from the models weights: update the call to weights.transforms(antialias=True).\n",
            "  warnings.warn(\n",
            "Iteration 05580: content_loss = 23.78 style_loss = 60.88:  56% 5581/10000 [1:46:20<1:24:12,  1.14s/it]\n",
            "Traceback (most recent call last):\n",
            "  File \"/content/StyleTransfer/train_style.py\", line 320, in <module>\n",
            "    reconstruction(args)\n",
            "  File \"/content/StyleTransfer/train_style.py\", line 236, in reconstruction\n",
            "    out_image_feature = tensorf.encoder(rgb_map)\n",
            "                        ^^^^^^^^^^^^^^^^^^^^^^^^\n",
            "  File \"/usr/local/lib/python3.11/dist-packages/torch/nn/modules/module.py\", line 1501, in _call_impl\n",
            "    return forward_call(*args, **kwargs)\n",
            "           ^^^^^^^^^^^^^^^^^^^^^^^^^^^^^\n",
            "  File \"/content/StyleTransfer/models/VGG.py\", line 28, in forward\n",
            "    relu4_1 = self.relu4_1(relu3_1)\n",
            "              ^^^^^^^^^^^^^^^^^^^^^\n",
            "  File \"/usr/local/lib/python3.11/dist-packages/torch/nn/modules/module.py\", line 1501, in _call_impl\n",
            "    return forward_call(*args, **kwargs)\n",
            "           ^^^^^^^^^^^^^^^^^^^^^^^^^^^^^\n",
            "  File \"/usr/local/lib/python3.11/dist-packages/torch/nn/modules/container.py\", line 217, in forward\n",
            "    input = module(input)\n",
            "            ^^^^^^^^^^^^^\n",
            "  File \"/usr/local/lib/python3.11/dist-packages/torch/nn/modules/module.py\", line 1501, in _call_impl\n",
            "    return forward_call(*args, **kwargs)\n",
            "           ^^^^^^^^^^^^^^^^^^^^^^^^^^^^^\n",
            "  File \"/usr/local/lib/python3.11/dist-packages/torch/nn/modules/conv.py\", line 463, in forward\n",
            "    return self._conv_forward(input, self.weight, self.bias)\n",
            "           ^^^^^^^^^^^^^^^^^^^^^^^^^^^^^^^^^^^^^^^^^^^^^^^^^\n",
            "  File \"/usr/local/lib/python3.11/dist-packages/torch/nn/modules/conv.py\", line 459, in _conv_forward\n",
            "    return F.conv2d(input, weight, bias, self.stride,\n",
            "           ^^^^^^^^^^^^^^^^^^^^^^^^^^^^^^^^^^^^^^^^^^\n",
            "torch.cuda.OutOfMemoryError: CUDA out of memory. Tried to allocate 20.00 MiB (GPU 0; 14.74 GiB total capacity; 14.37 GiB already allocated; 18.12 MiB free; 14.57 GiB reserved in total by PyTorch) If reserved memory is >> allocated memory try setting max_split_size_mb to avoid fragmentation.  See documentation for Memory Management and PYTORCH_CUDA_ALLOC_CONF\n"
          ]
        }
      ],
      "source": [
        "!python train_style.py \\\n",
        "  --config=configs/llff_style.txt \\\n",
        "  --datadir /content/drive/MyDrive/data/nerf_llff_data/trex \\\n",
        "  --wikiartdir /content/drive/MyDrive/data/WikiArt/images \\\n",
        "  --expname trex_style_landscape \\\n",
        "  --ckpt /content/StyleTransfer/log_feature/trex_feature_lowmem12/trex_feature_lowmem12.th"
      ]
    },
    {
      "cell_type": "code",
      "execution_count": null,
      "metadata": {
        "colab": {
          "base_uri": "https://localhost:8080/"
        },
        "id": "9Ghm2PNiy2pQ",
        "outputId": "aa3c5886-052a-4f20-84f0-50e9b30b71c8"
      },
      "outputs": [
        {
          "name": "stdout",
          "output_type": "stream",
          "text": [
            "Namespace(config='configs/llff_style.txt', expname='trex_style_landscape', basedir='./log_style', add_timestamp=0, datadir='/content/drive/MyDrive/data/nerf_llff_data/trex', wikiartdir='/content/drive/MyDrive/data/WikiArt/images', progress_refresh_rate=10, with_depth=False, downsample_train=4.0, downsample_test=1.0, model_name='TensorVMSplit', batch_size=4096, n_iters=10000, dataset_name='llff', patch_size=256, chunk_size=2048, lr_init=0.02, lr_basis=0.0001, lr_finetune=1e-05, lr_decay_iters=-1, lr_decay_target_ratio=0.1, lr_upsample_reset=1, L1_weight_inital=0.0, L1_weight_rest=0, Ortho_weight=0.0, TV_weight_density=0.0, TV_weight_app=0.0, TV_weight_feature=0.0, style_weight=20.0, content_weight=1.0, image_tv_weight=0.0, featuremap_tv_weight=0.0, n_lamb_sigma=[16, 4, 4], n_lamb_sh=[48, 12, 12], data_dim_color=27, rm_weight_mask_thre=0.001, alpha_mask_thre=0.0001, distance_scale=25, density_shift=-10, shadingMode='MLP_Fea', pos_pe=6, view_pe=6, fea_pe=6, featureC=128, ckpt='/content/drive/MyDrive/log_feature1/trex_feature_lowmem12/trex_feature_lowmem12.th', render_only=0, render_test=0, render_train=0, render_path=0, export_mesh=0, style_img=None, lindisp=False, perturb=1.0, accumulate_decay=0.998, fea2denseAct='relu', ndc_ray=1, nSamples=300, step_ratio=0.5, white_bkgd=False, N_voxel_init=2097156, N_voxel_final=262144000, upsamp_list=None, update_AlphaMask_list=None, idx_view=0, N_vis=5, vis_every=10000)\n",
            "aabb tensor([-1.5000, -1.6700, -1.0000,  1.5000,  1.6700,  1.0000], device='cuda:0')\n",
            "grid size [706, 786, 471]\n",
            "sampling step size:  tensor(0.0021, device='cuda:0')\n",
            "sampling number:  2311\n",
            "pos_pe 6 view_pe 0 fea_pe 0\n",
            "Downloading: \"https://download.pytorch.org/models/vgg19-dcbb9e9d.pth\" to /root/.cache/torch/hub/checkpoints/vgg19-dcbb9e9d.pth\n",
            "100% 548M/548M [00:02<00:00, 240MB/s]\n",
            "lr decay 0.1 10000\n",
            "Iteration 00000: content_loss = 29.91 style_loss = 1084.32:   0% 0/10000 [00:01<?, ?it/s]/usr/local/lib/python3.11/dist-packages/torchvision/transforms/functional.py:1603: UserWarning: The default value of the antialias parameter of all the resizing transforms (Resize(), RandomResizedCrop(), etc.) will change from None to True in v0.17, in order to be consistent across the PIL and Tensor backends. To suppress this warning, directly pass antialias=True (recommended, future default), antialias=None (current default, which means False for Tensors and True for PIL), or antialias=False (only works on Tensors - PIL will still use antialiasing). This also applies if you are using the inference transforms from the models weights: update the call to weights.transforms(antialias=True).\n",
            "  warnings.warn(\n",
            "Iteration 09990: content_loss = 23.57 style_loss = 33.20: 100% 10000/10000 [2:31:53<00:00,  1.10it/s]\n"
          ]
        }
      ],
      "source": [
        "!python train_style.py \\\n",
        "  --config=configs/llff_style.txt \\\n",
        "  --datadir /content/drive/MyDrive/data/nerf_llff_data/trex \\\n",
        "  --wikiartdir /content/drive/MyDrive/data/WikiArt/images \\\n",
        "  --expname trex_style_landscape \\\n",
        "  --ckpt /content/drive/MyDrive/log_feature1/trex_feature_lowmem12/trex_feature_lowmem12.th"
      ]
    },
    {
      "cell_type": "code",
      "execution_count": null,
      "metadata": {
        "colab": {
          "base_uri": "https://localhost:8080/"
        },
        "id": "T9vTD0ixQVKV",
        "outputId": "dfccd434-15cc-4924-b00d-4816af9b55f2"
      },
      "outputs": [
        {
          "name": "stdout",
          "output_type": "stream",
          "text": [
            "Namespace(config='configs/llff_style.txt', expname='trex_style_landscape2', basedir='./log_style', add_timestamp=0, datadir='/content/drive/MyDrive/data/nerf_llff_data/trex', wikiartdir='/content/drive/MyDrive/data/WikiArt/images', progress_refresh_rate=10, with_depth=False, downsample_train=4.0, downsample_test=1.0, model_name='TensorVMSplit', batch_size=4096, n_iters=10000, dataset_name='llff', patch_size=256, chunk_size=2048, lr_init=0.02, lr_basis=0.0001, lr_finetune=1e-05, lr_decay_iters=-1, lr_decay_target_ratio=0.1, lr_upsample_reset=1, L1_weight_inital=0.0, L1_weight_rest=0, Ortho_weight=0.0, TV_weight_density=0.0, TV_weight_app=0.0, TV_weight_feature=0.0, style_weight=20.0, content_weight=1.0, image_tv_weight=0.0, featuremap_tv_weight=0.0, n_lamb_sigma=[16, 4, 4], n_lamb_sh=[48, 12, 12], data_dim_color=27, rm_weight_mask_thre=0.001, alpha_mask_thre=0.0001, distance_scale=25, density_shift=-10, shadingMode='MLP_Fea', pos_pe=6, view_pe=6, fea_pe=6, featureC=128, ckpt='/content/drive/MyDrive/log_feature1/trex_feature_lowmem12/trex_feature_lowmem12.th', render_only=0, render_test=0, render_train=0, render_path=0, export_mesh=0, style_img=None, lindisp=False, perturb=1.0, accumulate_decay=0.998, fea2denseAct='relu', ndc_ray=1, nSamples=300, step_ratio=0.5, white_bkgd=False, N_voxel_init=2097156, N_voxel_final=262144000, upsamp_list=None, update_AlphaMask_list=None, idx_view=0, N_vis=5, vis_every=10000)\n",
            "aabb tensor([-1.5000, -1.6700, -1.0000,  1.5000,  1.6700,  1.0000], device='cuda:0')\n",
            "grid size [706, 786, 471]\n",
            "sampling step size:  tensor(0.0021, device='cuda:0')\n",
            "sampling number:  2311\n",
            "pos_pe 6 view_pe 0 fea_pe 0\n",
            "lr decay 0.1 10000\n",
            "Iteration 00000: content_loss = 33.11 style_loss = 1128.52:   0% 0/10000 [00:01<?, ?it/s]/usr/local/lib/python3.11/dist-packages/torchvision/transforms/functional.py:1603: UserWarning: The default value of the antialias parameter of all the resizing transforms (Resize(), RandomResizedCrop(), etc.) will change from None to True in v0.17, in order to be consistent across the PIL and Tensor backends. To suppress this warning, directly pass antialias=True (recommended, future default), antialias=None (current default, which means False for Tensors and True for PIL), or antialias=False (only works on Tensors - PIL will still use antialiasing). This also applies if you are using the inference transforms from the models weights: update the call to weights.transforms(antialias=True).\n",
            "  warnings.warn(\n",
            "Iteration 09990: content_loss = 22.56 style_loss = 52.93: 100% 10000/10000 [3:11:55<00:00,  1.15s/it]\n"
          ]
        }
      ],
      "source": [
        "!python train_style.py \\\n",
        "  --config=configs/llff_style.txt \\\n",
        "  --datadir /content/drive/MyDrive/data/nerf_llff_data/trex \\\n",
        "  --wikiartdir /content/drive/MyDrive/data/WikiArt/images \\\n",
        "  --expname trex_style_landscape2 \\\n",
        "  --ckpt /content/drive/MyDrive/log_feature1/trex_feature_lowmem12/trex_feature_lowmem12.th"
      ]
    },
    {
      "cell_type": "code",
      "execution_count": null,
      "metadata": {
        "id": "1nhj8yRUBwuA"
      },
      "outputs": [],
      "source": [
        "!python train_style.py \\\n",
        "  --config=configs/llff_style.txt \\\n",
        "  --datadir /content/drive/MyDrive/data/nerf_llff_data/trex \\\n",
        "  --wikiartdir /content/drive/MyDrive/data/WikiArt/images \\\n",
        "  --expname trex_style_landscape2 \\\n",
        "  --ckpt /content/drive/MyDrive/log_feature1/trex_feature_lowmem12/trex_feature_lowmem12.th"
      ]
    },
    {
      "cell_type": "code",
      "execution_count": null,
      "metadata": {
        "colab": {
          "base_uri": "https://localhost:8080/",
          "height": 141
        },
        "id": "up4xv0OeYmyn",
        "outputId": "f376c7f1-9665-46cf-aab8-9f809d2050c7"
      },
      "outputs": [
        {
          "name": "stdout",
          "output_type": "stream",
          "text": [
            "updating: content/StyleTransfer/log_style/trex_style_landscape2/ (stored 0%)\n",
            "updating: content/StyleTransfer/log_style/trex_style_landscape2/events.out.tfevents.1743778974.f65652252e16 (deflated 5%)\n",
            "updating: content/StyleTransfer/log_style/trex_style_landscape2/events.out.tfevents.1743779312.f65652252e16 (deflated 1%)\n",
            "updating: content/StyleTransfer/log_style/trex_style_landscape2/events.out.tfevents.1743778688.f65652252e16 (deflated 5%)\n",
            "  adding: content/StyleTransfer/log_style/trex_style_landscape2/trex_style_landscape2.th (deflated 9%)\n",
            "  adding: content/StyleTransfer/log_style/trex_style_landscape2/events.out.tfevents.1743807552.f65652252e16 (deflated 1%)\n"
          ]
        },
        {
          "data": {
            "application/javascript": [
              "\n",
              "    async function download(id, filename, size) {\n",
              "      if (!google.colab.kernel.accessAllowed) {\n",
              "        return;\n",
              "      }\n",
              "      const div = document.createElement('div');\n",
              "      const label = document.createElement('label');\n",
              "      label.textContent = `Downloading \"${filename}\": `;\n",
              "      div.appendChild(label);\n",
              "      const progress = document.createElement('progress');\n",
              "      progress.max = size;\n",
              "      div.appendChild(progress);\n",
              "      document.body.appendChild(div);\n",
              "\n",
              "      const buffers = [];\n",
              "      let downloaded = 0;\n",
              "\n",
              "      const channel = await google.colab.kernel.comms.open(id);\n",
              "      // Send a message to notify the kernel that we're ready.\n",
              "      channel.send({})\n",
              "\n",
              "      for await (const message of channel.messages) {\n",
              "        // Send a message to notify the kernel that we're ready.\n",
              "        channel.send({})\n",
              "        if (message.buffers) {\n",
              "          for (const buffer of message.buffers) {\n",
              "            buffers.push(buffer);\n",
              "            downloaded += buffer.byteLength;\n",
              "            progress.value = downloaded;\n",
              "          }\n",
              "        }\n",
              "      }\n",
              "      const blob = new Blob(buffers, {type: 'application/binary'});\n",
              "      const a = document.createElement('a');\n",
              "      a.href = window.URL.createObjectURL(blob);\n",
              "      a.download = filename;\n",
              "      div.appendChild(a);\n",
              "      a.click();\n",
              "      div.remove();\n",
              "    }\n",
              "  "
            ],
            "text/plain": [
              "<IPython.core.display.Javascript object>"
            ]
          },
          "metadata": {},
          "output_type": "display_data"
        },
        {
          "data": {
            "application/javascript": [
              "download(\"download_4bdc53ee-8116-4f64-bd16-842d246a2cc9\", \"trex_style_landscape2.zip\", 249459556)"
            ],
            "text/plain": [
              "<IPython.core.display.Javascript object>"
            ]
          },
          "metadata": {},
          "output_type": "display_data"
        }
      ],
      "source": [
        "!zip -r trex_style_landscape2.zip /content/StyleTransfer/log_style/trex_style_landscape2\n",
        "\n",
        "from google.colab import files\n",
        "files.download(\"trex_style_landscape2.zip\")"
      ]
    },
    {
      "cell_type": "code",
      "execution_count": null,
      "metadata": {
        "colab": {
          "base_uri": "https://localhost:8080/",
          "height": 89
        },
        "id": "oORaJo3WYQcy",
        "outputId": "32369288-dabf-4810-87a2-b0f343ad90f6"
      },
      "outputs": [
        {
          "name": "stdout",
          "output_type": "stream",
          "text": [
            "  adding: content/StyleTransfer/log_style/trex_style_landscape/ (stored 0%)\n",
            "  adding: content/StyleTransfer/log_style/trex_style_landscape/trex_style_landscape.th (deflated 9%)\n",
            "  adding: content/StyleTransfer/log_style/trex_style_landscape/events.out.tfevents.1743753470.df11ce55fb23 (deflated 1%)\n"
          ]
        },
        {
          "data": {
            "application/javascript": [
              "\n",
              "    async function download(id, filename, size) {\n",
              "      if (!google.colab.kernel.accessAllowed) {\n",
              "        return;\n",
              "      }\n",
              "      const div = document.createElement('div');\n",
              "      const label = document.createElement('label');\n",
              "      label.textContent = `Downloading \"${filename}\": `;\n",
              "      div.appendChild(label);\n",
              "      const progress = document.createElement('progress');\n",
              "      progress.max = size;\n",
              "      div.appendChild(progress);\n",
              "      document.body.appendChild(div);\n",
              "\n",
              "      const buffers = [];\n",
              "      let downloaded = 0;\n",
              "\n",
              "      const channel = await google.colab.kernel.comms.open(id);\n",
              "      // Send a message to notify the kernel that we're ready.\n",
              "      channel.send({})\n",
              "\n",
              "      for await (const message of channel.messages) {\n",
              "        // Send a message to notify the kernel that we're ready.\n",
              "        channel.send({})\n",
              "        if (message.buffers) {\n",
              "          for (const buffer of message.buffers) {\n",
              "            buffers.push(buffer);\n",
              "            downloaded += buffer.byteLength;\n",
              "            progress.value = downloaded;\n",
              "          }\n",
              "        }\n",
              "      }\n",
              "      const blob = new Blob(buffers, {type: 'application/binary'});\n",
              "      const a = document.createElement('a');\n",
              "      a.href = window.URL.createObjectURL(blob);\n",
              "      a.download = filename;\n",
              "      div.appendChild(a);\n",
              "      a.click();\n",
              "      div.remove();\n",
              "    }\n",
              "  "
            ],
            "text/plain": [
              "<IPython.core.display.Javascript object>"
            ]
          },
          "metadata": {},
          "output_type": "display_data"
        },
        {
          "data": {
            "application/javascript": [
              "download(\"download_1e4100fe-162c-4e57-bd19-7f3454698cab\", \"trex_style_landscape.zip\", 211988342)"
            ],
            "text/plain": [
              "<IPython.core.display.Javascript object>"
            ]
          },
          "metadata": {},
          "output_type": "display_data"
        }
      ],
      "source": [
        "!zip -r trex_style_landscape.zip /content/StyleTransfer/log_style/trex_style_landscape\n",
        "\n",
        "from google.colab import files\n",
        "files.download(\"trex_style_landscape.zip\")"
      ]
    },
    {
      "cell_type": "code",
      "execution_count": null,
      "metadata": {
        "colab": {
          "base_uri": "https://localhost:8080/"
        },
        "id": "t7BdURsCWoVJ",
        "outputId": "e1cc312b-7d81-429c-8c4a-0f54834406c9"
      },
      "outputs": [
        {
          "name": "stdout",
          "output_type": "stream",
          "text": [
            "Namespace(config='configs/llff.txt', expname='trex', basedir='./log', add_timestamp=0, datadir='/content/drive/MyDrive/data/nerf_llff_data/trex', wikiartdir='./data/WikiArt', progress_refresh_rate=10, with_depth=False, downsample_train=4.0, downsample_test=1.0, model_name='TensorVMSplit', batch_size=4096, n_iters=25000, dataset_name='llff', patch_size=256, chunk_size=4096, lr_init=0.02, lr_basis=0.0001, lr_finetune=1e-05, lr_decay_iters=-1, lr_decay_target_ratio=0.1, lr_upsample_reset=1, L1_weight_inital=0.0, L1_weight_rest=0, Ortho_weight=0.0, TV_weight_density=1.0, TV_weight_app=1.0, TV_weight_feature=0.0, style_weight=0, content_weight=0, image_tv_weight=0, featuremap_tv_weight=0, n_lamb_sigma=[16, 4, 4], n_lamb_sh=[48, 12, 12], data_dim_color=27, rm_weight_mask_thre=0.0001, alpha_mask_thre=0.0001, distance_scale=25, density_shift=-10, shadingMode='MLP_Fea', pos_pe=6, view_pe=0, fea_pe=0, featureC=128, ckpt='/content/drive/MyDrive/trex_base/trex_base.th', render_only=1, render_test=1, render_train=0, render_path=1, export_mesh=0, style_img=None, lindisp=False, perturb=1.0, accumulate_decay=0.998, fea2denseAct='relu', ndc_ray=1, nSamples=1000000.0, step_ratio=0.5, white_bkgd=False, N_voxel_init=2097156, N_voxel_final=262144000, upsamp_list=[2000, 3000, 4000, 5500], update_AlphaMask_list=[2500], idx_view=0, N_vis=-1, vis_every=10000)\n",
            "aabb tensor([-1.5000, -1.6700, -1.0000,  1.5000,  1.6700,  1.0000], device='cuda:0')\n",
            "grid size [706, 786, 471]\n",
            "sampling step size:  tensor(0.0021, device='cuda:0')\n",
            "sampling number:  2311\n",
            "pos_pe 6 view_pe 0 fea_pe 0\n",
            "0it [00:00, ?it/s]init_lpips: lpips_alex\n",
            "Setting up [LPIPS] perceptual loss: trunk [alex], v[0.1], spatial [off]\n",
            "/usr/local/lib/python3.11/dist-packages/torchvision/models/_utils.py:208: UserWarning: The parameter 'pretrained' is deprecated since 0.13 and may be removed in the future, please use 'weights' instead.\n",
            "  warnings.warn(\n",
            "/usr/local/lib/python3.11/dist-packages/torchvision/models/_utils.py:223: UserWarning: Arguments other than a weight enum or `None` for 'weights' are deprecated since 0.13 and may be removed in the future. The current behavior is equivalent to passing `weights=AlexNet_Weights.IMAGENET1K_V1`. You can also use `weights=AlexNet_Weights.DEFAULT` to get the most up-to-date weights.\n",
            "  warnings.warn(msg)\n",
            "Downloading: \"https://download.pytorch.org/models/alexnet-owt-7be5be79.pth\" to /root/.cache/torch/hub/checkpoints/alexnet-owt-7be5be79.pth\n",
            "\n",
            "  0% 0.00/233M [00:00<?, ?B/s]\u001b[A\n",
            " 14% 33.8M/233M [00:00<00:00, 354MB/s]\u001b[A\n",
            " 31% 72.0M/233M [00:00<00:00, 382MB/s]\u001b[A\n",
            " 47% 108M/233M [00:00<00:00, 338MB/s] \u001b[A\n",
            " 61% 141M/233M [00:00<00:00, 337MB/s]\u001b[A\n",
            " 74% 174M/233M [00:00<00:00, 290MB/s]\u001b[A\n",
            "100% 233M/233M [00:00<00:00, 319MB/s]\n",
            "Loading model from: /usr/local/lib/python3.11/dist-packages/lpips/weights/v0.1/alex.pth\n",
            "init_lpips: lpips_vgg\n",
            "Setting up [LPIPS] perceptual loss: trunk [vgg], v[0.1], spatial [off]\n",
            "/usr/local/lib/python3.11/dist-packages/torchvision/models/_utils.py:223: UserWarning: Arguments other than a weight enum or `None` for 'weights' are deprecated since 0.13 and may be removed in the future. The current behavior is equivalent to passing `weights=VGG16_Weights.IMAGENET1K_V1`. You can also use `weights=VGG16_Weights.DEFAULT` to get the most up-to-date weights.\n",
            "  warnings.warn(msg)\n",
            "Downloading: \"https://download.pytorch.org/models/vgg16-397923af.pth\" to /root/.cache/torch/hub/checkpoints/vgg16-397923af.pth\n",
            "\n",
            "  0% 0.00/528M [00:00<?, ?B/s]\u001b[A\n",
            "  2% 11.7M/528M [00:00<00:04, 122MB/s]\u001b[A\n",
            "  5% 26.0M/528M [00:00<00:03, 139MB/s]\u001b[A\n",
            " 12% 64.2M/528M [00:00<00:01, 258MB/s]\u001b[A\n",
            " 19% 99.0M/528M [00:00<00:01, 300MB/s]\u001b[A\n",
            " 26% 138M/528M [00:00<00:01, 338MB/s] \u001b[A\n",
            " 33% 176M/528M [00:00<00:01, 361MB/s]\u001b[A\n",
            " 41% 215M/528M [00:00<00:00, 375MB/s]\u001b[A\n",
            " 48% 253M/528M [00:00<00:00, 384MB/s]\u001b[A\n",
            " 55% 291M/528M [00:00<00:00, 387MB/s]\u001b[A\n",
            " 62% 329M/528M [00:01<00:00, 390MB/s]\u001b[A\n",
            " 69% 366M/528M [00:01<00:00, 391MB/s]\u001b[A\n",
            " 77% 404M/528M [00:01<00:00, 393MB/s]\u001b[A\n",
            " 84% 441M/528M [00:01<00:00, 365MB/s]\u001b[A\n",
            " 91% 479M/528M [00:01<00:00, 372MB/s]\u001b[A\n",
            "100% 528M/528M [00:01<00:00, 355MB/s]\n",
            "Loading model from: /usr/local/lib/python3.11/dist-packages/lpips/weights/v0.1/vgg.pth\n",
            "7it [01:29, 12.79s/it]\n",
            "WARNING:imageio_ffmpeg:IMAGEIO FFMPEG_WRITER WARNING: input image is not divisible by macro_block_size=16, resizing from (1008, 756) to (1008, 768) to ensure video compatibility with most codecs and players. To prevent resizing, make your input image divisible by the macro_block_size or set the macro_block_size to 1 (risking incompatibility).\n",
            "WARNING:imageio_ffmpeg:IMAGEIO FFMPEG_WRITER WARNING: input image is not divisible by macro_block_size=16, resizing from (1008, 756) to (1008, 768) to ensure video compatibility with most codecs and players. To prevent resizing, make your input image divisible by the macro_block_size or set the macro_block_size to 1 (risking incompatibility).\n",
            "120it [21:55, 10.96s/it]\n",
            "WARNING:imageio_ffmpeg:IMAGEIO FFMPEG_WRITER WARNING: input image is not divisible by macro_block_size=16, resizing from (1008, 756) to (1008, 768) to ensure video compatibility with most codecs and players. To prevent resizing, make your input image divisible by the macro_block_size or set the macro_block_size to 1 (risking incompatibility).\n",
            "WARNING:imageio_ffmpeg:IMAGEIO FFMPEG_WRITER WARNING: input image is not divisible by macro_block_size=16, resizing from (1008, 756) to (1008, 768) to ensure video compatibility with most codecs and players. To prevent resizing, make your input image divisible by the macro_block_size or set the macro_block_size to 1 (risking incompatibility).\n"
          ]
        }
      ],
      "source": [
        "!python train.py \\\n",
        "  --config configs/llff.txt \\\n",
        "  --datadir /content/drive/MyDrive/data/nerf_llff_data/trex \\\n",
        "  --ckpt /content/drive/MyDrive/trex_base/trex_base.th \\\n",
        "  --render_only 1 \\\n",
        "  --render_test 1\n"
      ]
    },
    {
      "cell_type": "code",
      "execution_count": null,
      "metadata": {
        "colab": {
          "base_uri": "https://localhost:8080/"
        },
        "id": "4TczFAnrXJyX",
        "outputId": "640d4581-fc30-424a-a36b-50b095ad04c7"
      },
      "outputs": [
        {
          "name": "stdout",
          "output_type": "stream",
          "text": [
            "Namespace(config='configs/llff_feature.txt', expname='trex_feature_lowmem22', basedir='./log_feature', add_timestamp=0, datadir='/content/drive/MyDrive/data/nerf_llff_data/trex', wikiartdir='./data/WikiArt', progress_refresh_rate=10, with_depth=False, downsample_train=4.0, downsample_test=1.0, model_name='TensorVMSplit', batch_size=4096, n_iters=25000, dataset_name='llff', patch_size=256, chunk_size=1024, lr_init=0.02, lr_basis=0.0001, lr_finetune=1e-05, lr_decay_iters=-1, lr_decay_target_ratio=0.1, lr_upsample_reset=1, L1_weight_inital=0.0, L1_weight_rest=0, Ortho_weight=0.0, TV_weight_density=0.0, TV_weight_app=0.0, TV_weight_feature=80.0, style_weight=0, content_weight=0, image_tv_weight=0, featuremap_tv_weight=0, n_lamb_sigma=[16, 4, 4], n_lamb_sh=[48, 12, 12], data_dim_color=27, rm_weight_mask_thre=0.0001, alpha_mask_thre=0.0001, distance_scale=25, density_shift=-10, shadingMode='MLP_Fea', pos_pe=6, view_pe=6, fea_pe=6, featureC=128, ckpt='/content/drive/MyDrive/log_feature1/trex_feature_lowmem12/trex_feature_lowmem12.th', render_only=1, render_test=1, render_train=0, render_path=0, export_mesh=0, style_img=None, lindisp=False, perturb=1.0, accumulate_decay=0.998, fea2denseAct='relu', ndc_ray=1, nSamples=1000000.0, step_ratio=0.5, white_bkgd=False, N_voxel_init=2097156, N_voxel_final=262144000, upsamp_list=[2000, 3000, 4000, 5500], update_AlphaMask_list=[2500], idx_view=0, N_vis=5, vis_every=10000)\n",
            "aabb tensor([-1.5000, -1.6700, -1.0000,  1.5000,  1.6700,  1.0000], device='cuda:0')\n",
            "grid size [706, 786, 471]\n",
            "sampling step size:  tensor(0.0021, device='cuda:0')\n",
            "sampling number:  2311\n",
            "pos_pe 6 view_pe 0 fea_pe 0\n",
            "7it [04:20, 37.23s/it]\n",
            "WARNING:imageio_ffmpeg:IMAGEIO FFMPEG_WRITER WARNING: input image is not divisible by macro_block_size=16, resizing from (1008, 756) to (1008, 768) to ensure video compatibility with most codecs and players. To prevent resizing, make your input image divisible by the macro_block_size or set the macro_block_size to 1 (risking incompatibility).\n",
            "WARNING:imageio_ffmpeg:IMAGEIO FFMPEG_WRITER WARNING: input image is not divisible by macro_block_size=16, resizing from (1008, 756) to (1008, 768) to ensure video compatibility with most codecs and players. To prevent resizing, make your input image divisible by the macro_block_size or set the macro_block_size to 1 (risking incompatibility).\n"
          ]
        }
      ],
      "source": [
        "!python train_feature.py \\\n",
        "  --config configs/llff_feature.txt \\\n",
        "  --datadir /content/drive/MyDrive/data/nerf_llff_data/trex \\\n",
        "  --expname trex_feature_lowmem22 \\\n",
        "  --ckpt /content/drive/MyDrive/log_feature1/trex_feature_lowmem12/trex_feature_lowmem12.th \\\n",
        "  --render_only 1 \\\n",
        "  --render_test 1 \\\n",
        "  --render_path 0 \\\n",
        "  --chunk_size 1024\n"
      ]
    },
    {
      "cell_type": "code",
      "execution_count": null,
      "metadata": {
        "colab": {
          "base_uri": "https://localhost:8080/"
        },
        "id": "jRzdEbKaXmH2",
        "outputId": "13a1a537-a314-4e55-b413-d75c2624f80b"
      },
      "outputs": [
        {
          "name": "stdout",
          "output_type": "stream",
          "text": [
            "Namespace(config='configs/llff_style.txt', expname='trex_style_landscape', basedir='./log_style', add_timestamp=0, datadir='/content/drive/MyDrive/data/nerf_llff_data/trex', wikiartdir='./data/WikiArt', progress_refresh_rate=10, with_depth=False, downsample_train=4.0, downsample_test=1.0, model_name='TensorVMSplit', batch_size=4096, n_iters=10000, dataset_name='llff', patch_size=256, chunk_size=1024, lr_init=0.02, lr_basis=0.0001, lr_finetune=1e-05, lr_decay_iters=-1, lr_decay_target_ratio=0.1, lr_upsample_reset=1, L1_weight_inital=0.0, L1_weight_rest=0, Ortho_weight=0.0, TV_weight_density=0.0, TV_weight_app=0.0, TV_weight_feature=0.0, style_weight=20.0, content_weight=1.0, image_tv_weight=0.0, featuremap_tv_weight=0.0, n_lamb_sigma=[16, 4, 4], n_lamb_sh=[48, 12, 12], data_dim_color=27, rm_weight_mask_thre=0.0001, alpha_mask_thre=0.0001, distance_scale=25, density_shift=-10, shadingMode='MLP_Fea', pos_pe=6, view_pe=6, fea_pe=6, featureC=128, ckpt='/content/StyleTransfer/log_style/trex_style_landscape/trex_style_landscape.th', render_only=1, render_test=1, render_train=0, render_path=1, export_mesh=0, style_img='/content/drive/MyDrive/data/WikiArt/images/landscape/00246e71f367b009f0aa7d0127b2bb08c.jpg', lindisp=False, perturb=1.0, accumulate_decay=0.998, fea2denseAct='relu', ndc_ray=1, nSamples=300, step_ratio=0.5, white_bkgd=False, N_voxel_init=2097156, N_voxel_final=262144000, upsamp_list=None, update_AlphaMask_list=None, idx_view=0, N_vis=5, vis_every=10000)\n",
            "aabb tensor([-1.5000, -1.6700, -1.0000,  1.5000,  1.6700,  1.0000], device='cuda:0')\n",
            "grid size [706, 786, 471]\n",
            "sampling step size:  tensor(0.0021, device='cuda:0')\n",
            "sampling number:  2311\n",
            "pos_pe 6 view_pe 0 fea_pe 0\n",
            "0it [07:10, ?it/s]\n",
            "Traceback (most recent call last):\n",
            "  File \"/content/StyleTransfer/train_style.py\", line 318, in <module>\n",
            "    render_test(args)\n",
            "  File \"/usr/local/lib/python3.11/dist-packages/torch/utils/_contextlib.py\", line 115, in decorate_context\n",
            "    return func(*args, **kwargs)\n",
            "           ^^^^^^^^^^^^^^^^^^^^^\n",
            "  File \"/content/StyleTransfer/train_style.py\", line 119, in render_test\n",
            "    evaluation_feature(test_dataset, tensorf, args, renderer, args.chunk_size, f'{logfolder}/{args.expname}/imgs_test_all/{style_name}',\n",
            "  File \"/usr/local/lib/python3.11/dist-packages/torch/utils/_contextlib.py\", line 115, in decorate_context\n",
            "    return func(*args, **kwargs)\n",
            "           ^^^^^^^^^^^^^^^^^^^^^\n",
            "  File \"/content/StyleTransfer/renderer.py\", line 80, in evaluation_feature\n",
            "    feature_map, _, _ = renderer(rays, tensorf, chunk=chunk_size, N_samples=N_samples, ndc_ray=ndc_ray, \n",
            "                        ^^^^^^^^^^^^^^^^^^^^^^^^^^^^^^^^^^^^^^^^^^^^^^^^^^^^^^^^^^^^^^^^^^^^^^^^^^^^^^^\n",
            "  File \"/content/StyleTransfer/renderer.py\", line 35, in OctreeRender_trilinear_fast\n",
            "    return torch.cat(features), torch.cat(accs), style_feature\n",
            "           ^^^^^^^^^^^^^^^^^^^\n",
            "torch.cuda.OutOfMemoryError: CUDA out of memory. Tried to allocate 11.63 GiB (GPU 0; 22.16 GiB total capacity; 12.14 GiB already allocated; 9.76 GiB free; 12.17 GiB reserved in total by PyTorch) If reserved memory is >> allocated memory try setting max_split_size_mb to avoid fragmentation.  See documentation for Memory Management and PYTORCH_CUDA_ALLOC_CONF\n"
          ]
        }
      ],
      "source": [
        "!python train_style.py \\\n",
        "  --config configs/llff_style.txt \\\n",
        "  --datadir /content/drive/MyDrive/data/nerf_llff_data/trex \\\n",
        "  --expname trex_style_landscape \\\n",
        "  --ckpt /content/StyleTransfer/log_style/trex_style_landscape/trex_style_landscape.th \\\n",
        "  --render_only 1 \\\n",
        "  --render_train 0 \\\n",
        "  --render_test 1 \\\n",
        "  --render_path 1 \\\n",
        "  --chunk_size 1024 \\\n",
        "  --rm_weight_mask_thre 0.0001 \\\n",
        "  --style_img /content/drive/MyDrive/data/WikiArt/images/landscape/00246e71f367b009f0aa7d0127b2bb08c.jpg  # 修改成你的图片路径\n"
      ]
    },
    {
      "cell_type": "code",
      "execution_count": null,
      "metadata": {
        "colab": {
          "base_uri": "https://localhost:8080/"
        },
        "collapsed": true,
        "id": "g1LelrIN1F_z",
        "outputId": "4bd4275c-6385-43d3-e9dd-5bd435659f30"
      },
      "outputs": [
        {
          "name": "stdout",
          "output_type": "stream",
          "text": [
            "Namespace(config='configs/llff_style.txt', expname='trex_style_landscape', basedir='./log_style', add_timestamp=0, datadir='/content/drive/MyDrive/data/nerf_llff_data/trex', wikiartdir='./data/WikiArt', progress_refresh_rate=10, with_depth=False, downsample_train=4.0, downsample_test=1.0, model_name='TensorVMSplit', batch_size=4096, n_iters=10000, dataset_name='llff', patch_size=128, chunk_size=512, lr_init=0.02, lr_basis=0.0001, lr_finetune=1e-05, lr_decay_iters=-1, lr_decay_target_ratio=0.1, lr_upsample_reset=1, L1_weight_inital=0.0, L1_weight_rest=0, Ortho_weight=0.0, TV_weight_density=0.0, TV_weight_app=0.0, TV_weight_feature=0.0, style_weight=20.0, content_weight=1.0, image_tv_weight=0.0, featuremap_tv_weight=0.0, n_lamb_sigma=[16, 4, 4], n_lamb_sh=[48, 12, 12], data_dim_color=27, rm_weight_mask_thre=0.0001, alpha_mask_thre=0.0001, distance_scale=25, density_shift=-10, shadingMode='MLP_Fea', pos_pe=6, view_pe=6, fea_pe=6, featureC=128, ckpt='/content/drive/MyDrive/log_style/trex_style_landscape/trex_style_landscape.th', render_only=1, render_test=1, render_train=0, render_path=1, export_mesh=0, style_img='/content/drive/MyDrive/data/WikiArt/images/landscape/00246e71f367b009f0aa7d0127b2bb08c.jpg', lindisp=False, perturb=1.0, accumulate_decay=0.998, fea2denseAct='relu', ndc_ray=1, nSamples=256, step_ratio=0.5, white_bkgd=False, N_voxel_init=2097156, N_voxel_final=262144000, upsamp_list=None, update_AlphaMask_list=None, idx_view=0, N_vis=3, vis_every=10000)\n",
            "aabb tensor([-1.5000, -1.6700, -1.0000,  1.5000,  1.6700,  1.0000], device='cuda:0')\n",
            "grid size [706, 786, 471]\n",
            "sampling step size:  tensor(0.0021, device='cuda:0')\n",
            "sampling number:  2311\n",
            "pos_pe 6 view_pe 0 fea_pe 0\n",
            "0it [09:45, ?it/s]\n",
            "Traceback (most recent call last):\n",
            "  File \"/content/StyleTransfer/train_style.py\", line 331, in <module>\n",
            "    render_test(args)\n",
            "  File \"/usr/local/lib/python3.11/dist-packages/torch/utils/_contextlib.py\", line 115, in decorate_context\n",
            "    return func(*args, **kwargs)\n",
            "           ^^^^^^^^^^^^^^^^^^^^^\n",
            "  File \"/content/StyleTransfer/train_style.py\", line 120, in render_test\n",
            "    evaluation_feature(test_dataset, tensorf, args, renderer, args.chunk_size, f'{logfolder}/{args.expname}/imgs_test_all/{style_name}',\n",
            "  File \"/usr/local/lib/python3.11/dist-packages/torch/utils/_contextlib.py\", line 115, in decorate_context\n",
            "    return func(*args, **kwargs)\n",
            "           ^^^^^^^^^^^^^^^^^^^^^\n",
            "  File \"/content/StyleTransfer/renderer.py\", line 85, in evaluation_feature\n",
            "    recon_rgb = denormalize_vgg(tensorf.decoder(feature_map))\n",
            "                                ^^^^^^^^^^^^^^^^^^^^^^^^^^^^\n",
            "  File \"/usr/local/lib/python3.11/dist-packages/torch/nn/modules/module.py\", line 1501, in _call_impl\n",
            "    return forward_call(*args, **kwargs)\n",
            "           ^^^^^^^^^^^^^^^^^^^^^^^^^^^^^\n",
            "  File \"/content/StyleTransfer/models/VGG.py\", line 220, in forward\n",
            "    return self.layers(x)\n",
            "           ^^^^^^^^^^^^^^\n",
            "  File \"/usr/local/lib/python3.11/dist-packages/torch/nn/modules/module.py\", line 1501, in _call_impl\n",
            "    return forward_call(*args, **kwargs)\n",
            "           ^^^^^^^^^^^^^^^^^^^^^^^^^^^^^\n",
            "  File \"/usr/local/lib/python3.11/dist-packages/torch/nn/modules/container.py\", line 217, in forward\n",
            "    input = module(input)\n",
            "            ^^^^^^^^^^^^^\n",
            "  File \"/usr/local/lib/python3.11/dist-packages/torch/nn/modules/module.py\", line 1501, in _call_impl\n",
            "    return forward_call(*args, **kwargs)\n",
            "           ^^^^^^^^^^^^^^^^^^^^^^^^^^^^^\n",
            "  File \"/usr/local/lib/python3.11/dist-packages/torch/nn/modules/conv.py\", line 463, in forward\n",
            "    return self._conv_forward(input, self.weight, self.bias)\n",
            "           ^^^^^^^^^^^^^^^^^^^^^^^^^^^^^^^^^^^^^^^^^^^^^^^^^\n",
            "  File \"/usr/local/lib/python3.11/dist-packages/torch/nn/modules/conv.py\", line 456, in _conv_forward\n",
            "    return F.conv2d(F.pad(input, self._reversed_padding_repeated_twice, mode=self.padding_mode),\n",
            "                    ^^^^^^^^^^^^^^^^^^^^^^^^^^^^^^^^^^^^^^^^^^^^^^^^^^^^^^^^^^^^^^^^^^^^^^^^^^^\n",
            "RuntimeError: input tensor must fit into 32-bit index math\n"
          ]
        }
      ],
      "source": [
        "!python train_style.py \\\n",
        "  --config configs/llff_style.txt \\\n",
        "  --datadir /content/drive/MyDrive/data/nerf_llff_data/trex \\\n",
        "  --expname trex_style_landscape \\\n",
        "  --ckpt /content/drive/MyDrive/log_style/trex_style_landscape/trex_style_landscape.th \\\n",
        "  --render_only 1 \\\n",
        "  --render_train 0 \\\n",
        "  --render_test 1 \\\n",
        "  --render_path 1 \\\n",
        "  --chunk_size 512 \\\n",
        "  --patch_size 128 \\\n",
        "  --nSamples 256 \\\n",
        "  --N_vis 3 \\\n",
        "  --rm_weight_mask_thre 0.0001 \\\n",
        "  --style_img /content/drive/MyDrive/data/WikiArt/images/landscape/00246e71f367b009f0aa7d0127b2bb08c.jpg  # 修改成你的图片路径\n"
      ]
    },
    {
      "cell_type": "code",
      "execution_count": null,
      "metadata": {
        "colab": {
          "base_uri": "https://localhost:8080/"
        },
        "id": "Z4YDbeJw87SL",
        "outputId": "d36a3726-00d3-431a-f9b0-9be941a3121d"
      },
      "outputs": [
        {
          "name": "stdout",
          "output_type": "stream",
          "text": [
            "Namespace(config='configs/llff_style.txt', expname='trex_style_landscape', basedir='./log_style', add_timestamp=0, datadir='/content/drive/MyDrive/data/nerf_llff_data/trex', wikiartdir='./data/WikiArt', progress_refresh_rate=10, with_depth=False, downsample_train=4.0, downsample_test=1.0, model_name='TensorVMSplit', batch_size=4096, n_iters=25000, dataset_name='llff', patch_size=256, chunk_size=1024, lr_init=0.02, lr_basis=0.0001, lr_finetune=1e-05, lr_decay_iters=-1, lr_decay_target_ratio=0.1, lr_upsample_reset=1, L1_weight_inital=0.0, L1_weight_rest=0, Ortho_weight=0.0, TV_weight_density=0.0, TV_weight_app=0.0, TV_weight_feature=0.0, style_weight=20.0, content_weight=1.0, image_tv_weight=0.0, featuremap_tv_weight=0.0, n_lamb_sigma=[16, 4, 4], n_lamb_sh=[48, 12, 12], data_dim_color=27, rm_weight_mask_thre=0.0001, alpha_mask_thre=0.0001, distance_scale=25, density_shift=-10, shadingMode='MLP_Fea', pos_pe=6, view_pe=6, fea_pe=6, featureC=128, ckpt='/content/drive/MyDrive/log_style/trex_style_landscape/trex_style_landscape.th', render_only=1, render_test=1, render_train=0, render_path=1, export_mesh=0, style_img='/content/drive/MyDrive/data/WikiArt/images/landscape/00246e71f367b009f0aa7d0127b2bb08c.jpg', lindisp=False, perturb=1.0, accumulate_decay=0.998, fea2denseAct='relu', ndc_ray=1, nSamples=300, step_ratio=0.5, white_bkgd=False, N_voxel_init=2097156, N_voxel_final=262144000, upsamp_list=None, update_AlphaMask_list=None, idx_view=0, N_vis=5, vis_every=10000)\n",
            "aabb tensor([-1.5000, -1.6700, -1.0000,  1.5000,  1.6700,  1.0000], device='cuda:0')\n",
            "grid size [706, 786, 471]\n",
            "sampling step size:  tensor(0.0021, device='cuda:0')\n",
            "sampling number:  2311\n",
            "pos_pe 6 view_pe 0 fea_pe 0\n",
            "Downloading: \"https://download.pytorch.org/models/vgg19-dcbb9e9d.pth\" to /root/.cache/torch/hub/checkpoints/vgg19-dcbb9e9d.pth\n",
            "100% 548M/548M [00:02<00:00, 286MB/s]\n",
            "7it [05:11, 44.57s/it]\n",
            "WARNING:imageio_ffmpeg:IMAGEIO FFMPEG_WRITER WARNING: input image is not divisible by macro_block_size=16, resizing from (1008, 756) to (1008, 768) to ensure video compatibility with most codecs and players. To prevent resizing, make your input image divisible by the macro_block_size or set the macro_block_size to 1 (risking incompatibility).\n",
            "WARNING:imageio_ffmpeg:IMAGEIO FFMPEG_WRITER WARNING: input image is not divisible by macro_block_size=16, resizing from (1008, 756) to (1008, 768) to ensure video compatibility with most codecs and players. To prevent resizing, make your input image divisible by the macro_block_size or set the macro_block_size to 1 (risking incompatibility).\n",
            "120it [1:24:06, 42.06s/it]\n",
            "WARNING:imageio_ffmpeg:IMAGEIO FFMPEG_WRITER WARNING: input image is not divisible by macro_block_size=16, resizing from (1008, 756) to (1008, 768) to ensure video compatibility with most codecs and players. To prevent resizing, make your input image divisible by the macro_block_size or set the macro_block_size to 1 (risking incompatibility).\n",
            "WARNING:imageio_ffmpeg:IMAGEIO FFMPEG_WRITER WARNING: input image is not divisible by macro_block_size=16, resizing from (1008, 756) to (1008, 768) to ensure video compatibility with most codecs and players. To prevent resizing, make your input image divisible by the macro_block_size or set the macro_block_size to 1 (risking incompatibility).\n"
          ]
        }
      ],
      "source": [
        "!python train_style.py \\\n",
        "  --config configs/llff_style.txt \\\n",
        "  --datadir /content/drive/MyDrive/data/nerf_llff_data/trex \\\n",
        "  --expname trex_style_landscape \\\n",
        "  --ckpt /content/drive/MyDrive/log_style/trex_style_landscape/trex_style_landscape.th \\\n",
        "  --render_only 1 \\\n",
        "  --render_train 0 \\\n",
        "  --render_test 1 \\\n",
        "  --render_path 1 \\\n",
        "  --chunk_size 1024 \\\n",
        "  --rm_weight_mask_thre 0.0001 \\\n",
        "  --style_img /content/drive/MyDrive/data/WikiArt/images/landscape/00246e71f367b009f0aa7d0127b2bb08c.jpg  # 修改成你的图片路径\n"
      ]
    },
    {
      "cell_type": "code",
      "execution_count": null,
      "metadata": {
        "colab": {
          "base_uri": "https://localhost:8080/"
        },
        "id": "43CqbqmgjfHD",
        "outputId": "2c445955-60ab-498e-cebf-831a55e1b075"
      },
      "outputs": [
        {
          "name": "stdout",
          "output_type": "stream",
          "text": [
            "Namespace(config='configs/llff_style.txt', expname='trex_style_landscape', basedir='./log_style', add_timestamp=0, datadir='/content/drive/MyDrive/data/nerf_llff_data/trex', wikiartdir='./data/WikiArt', progress_refresh_rate=10, with_depth=False, downsample_train=4.0, downsample_test=1.0, model_name='TensorVMSplit', batch_size=4096, n_iters=10000, dataset_name='llff', patch_size=256, chunk_size=1024, lr_init=0.02, lr_basis=0.0001, lr_finetune=1e-05, lr_decay_iters=-1, lr_decay_target_ratio=0.1, lr_upsample_reset=1, L1_weight_inital=0.0, L1_weight_rest=0, Ortho_weight=0.0, TV_weight_density=0.0, TV_weight_app=0.0, TV_weight_feature=0.0, style_weight=20.0, content_weight=1.0, image_tv_weight=0.0, featuremap_tv_weight=0.0, n_lamb_sigma=[16, 4, 4], n_lamb_sh=[48, 12, 12], data_dim_color=27, rm_weight_mask_thre=0.0001, alpha_mask_thre=0.0001, distance_scale=25, density_shift=-10, shadingMode='MLP_Fea', pos_pe=6, view_pe=6, fea_pe=6, featureC=128, ckpt='/content/StyleTransfer/log_style/trex_style_landscape2/trex_style_landscape2.th', render_only=1, render_test=1, render_train=0, render_path=1, export_mesh=0, style_img='/content/drive/MyDrive/data/WikiArt/images/landscape/00246e71f367b009f0aa7d0127b2bb08c.jpg', lindisp=False, perturb=1.0, accumulate_decay=0.998, fea2denseAct='relu', ndc_ray=1, nSamples=300, step_ratio=0.5, white_bkgd=False, N_voxel_init=2097156, N_voxel_final=262144000, upsamp_list=None, update_AlphaMask_list=None, idx_view=0, N_vis=5, vis_every=10000)\n",
            "aabb tensor([-1.5000, -1.6700, -1.0000,  1.5000,  1.6700,  1.0000], device='cuda:0')\n",
            "grid size [706, 786, 471]\n",
            "sampling step size:  tensor(0.0021, device='cuda:0')\n",
            "sampling number:  2311\n",
            "pos_pe 6 view_pe 0 fea_pe 0\n",
            "7it [04:53, 41.88s/it]\n",
            "WARNING:imageio_ffmpeg:IMAGEIO FFMPEG_WRITER WARNING: input image is not divisible by macro_block_size=16, resizing from (1008, 756) to (1008, 768) to ensure video compatibility with most codecs and players. To prevent resizing, make your input image divisible by the macro_block_size or set the macro_block_size to 1 (risking incompatibility).\n",
            "WARNING:imageio_ffmpeg:IMAGEIO FFMPEG_WRITER WARNING: input image is not divisible by macro_block_size=16, resizing from (1008, 756) to (1008, 768) to ensure video compatibility with most codecs and players. To prevent resizing, make your input image divisible by the macro_block_size or set the macro_block_size to 1 (risking incompatibility).\n",
            "120it [1:22:59, 41.49s/it]\n",
            "WARNING:imageio_ffmpeg:IMAGEIO FFMPEG_WRITER WARNING: input image is not divisible by macro_block_size=16, resizing from (1008, 756) to (1008, 768) to ensure video compatibility with most codecs and players. To prevent resizing, make your input image divisible by the macro_block_size or set the macro_block_size to 1 (risking incompatibility).\n",
            "WARNING:imageio_ffmpeg:IMAGEIO FFMPEG_WRITER WARNING: input image is not divisible by macro_block_size=16, resizing from (1008, 756) to (1008, 768) to ensure video compatibility with most codecs and players. To prevent resizing, make your input image divisible by the macro_block_size or set the macro_block_size to 1 (risking incompatibility).\n"
          ]
        }
      ],
      "source": [
        "!python train_style.py \\\n",
        "  --config configs/llff_style.txt \\\n",
        "  --datadir /content/drive/MyDrive/data/nerf_llff_data/trex \\\n",
        "  --expname trex_style_landscape \\\n",
        "  --ckpt /content/StyleTransfer/log_style/trex_style_landscape2/trex_style_landscape2.th \\\n",
        "  --render_only 1 \\\n",
        "  --render_train 0 \\\n",
        "  --render_test 1 \\\n",
        "  --render_path 1 \\\n",
        "  --chunk_size 1024 \\\n",
        "  --rm_weight_mask_thre 0.0001 \\\n",
        "  --style_img /content/drive/MyDrive/data/WikiArt/images/landscape/00246e71f367b009f0aa7d0127b2bb08c.jpg  # 修改成你的图片路径\n"
      ]
    },
    {
      "cell_type": "code",
      "execution_count": null,
      "metadata": {
        "colab": {
          "base_uri": "https://localhost:8080/"
        },
        "id": "Sz7nDj2fePrp",
        "outputId": "279cd10c-2398-4c89-bee0-5a589986e7c9",
        "collapsed": true
      },
      "outputs": [
        {
          "name": "stdout",
          "output_type": "stream",
          "text": [
            "Namespace(config='configs/llff_style.txt', expname='trex_style_landscape', basedir='./log_style', add_timestamp=0, datadir='/content/drive/MyDrive/data/nerf_llff_data/trex', wikiartdir='./data/WikiArt', progress_refresh_rate=10, with_depth=False, downsample_train=4.0, downsample_test=1.0, model_name='TensorVMSplit', batch_size=4096, n_iters=10000, dataset_name='llff', patch_size=256, chunk_size=1024, lr_init=0.02, lr_basis=0.0001, lr_finetune=1e-05, lr_decay_iters=-1, lr_decay_target_ratio=0.1, lr_upsample_reset=1, L1_weight_inital=0.0, L1_weight_rest=0, Ortho_weight=0.0, TV_weight_density=0.0, TV_weight_app=0.0, TV_weight_feature=0.0, style_weight=20.0, content_weight=1.0, image_tv_weight=0.0, featuremap_tv_weight=0.0, n_lamb_sigma=[16, 4, 4], n_lamb_sh=[48, 12, 12], data_dim_color=27, rm_weight_mask_thre=0.0001, alpha_mask_thre=0.0001, distance_scale=25, density_shift=-10, shadingMode='MLP_Fea', pos_pe=6, view_pe=6, fea_pe=6, featureC=128, ckpt='/content/drive/MyDrive/log_style/trex_style_landscape2/trex_style_landscape2.th', render_only=1, render_test=1, render_train=0, render_path=1, export_mesh=0, style_img='/content/drive/MyDrive/data/WikiArt/images/landscape/10d57f303904c2352a7410ce7c2dfb9fc.jpg', lindisp=False, perturb=1.0, accumulate_decay=0.998, fea2denseAct='relu', ndc_ray=1, nSamples=300, step_ratio=0.5, white_bkgd=False, N_voxel_init=2097156, N_voxel_final=262144000, upsamp_list=None, update_AlphaMask_list=None, idx_view=0, N_vis=5, vis_every=10000)\n",
            "aabb tensor([-1.5000, -1.6700, -1.0000,  1.5000,  1.6700,  1.0000], device='cuda:0')\n",
            "grid size [706, 786, 471]\n",
            "sampling step size:  tensor(0.0021, device='cuda:0')\n",
            "sampling number:  2311\n",
            "pos_pe 6 view_pe 0 fea_pe 0\n",
            "Downloading: \"https://download.pytorch.org/models/vgg19-dcbb9e9d.pth\" to /root/.cache/torch/hub/checkpoints/vgg19-dcbb9e9d.pth\n",
            "100% 548M/548M [00:04<00:00, 118MB/s] \n",
            "7it [05:27, 46.78s/it]\n",
            "WARNING:imageio_ffmpeg:IMAGEIO FFMPEG_WRITER WARNING: input image is not divisible by macro_block_size=16, resizing from (1008, 756) to (1008, 768) to ensure video compatibility with most codecs and players. To prevent resizing, make your input image divisible by the macro_block_size or set the macro_block_size to 1 (risking incompatibility).\n",
            "WARNING:imageio_ffmpeg:IMAGEIO FFMPEG_WRITER WARNING: input image is not divisible by macro_block_size=16, resizing from (1008, 756) to (1008, 768) to ensure video compatibility with most codecs and players. To prevent resizing, make your input image divisible by the macro_block_size or set the macro_block_size to 1 (risking incompatibility).\n",
            "21it [15:51, 45.33s/it]\n",
            "Traceback (most recent call last):\n",
            "  File \"/content/StyleTransfer/train_style.py\", line 294, in <module>\n",
            "    render_test(args)\n",
            "  File \"/usr/local/lib/python3.11/dist-packages/torch/utils/_contextlib.py\", line 115, in decorate_context\n",
            "    return func(*args, **kwargs)\n",
            "           ^^^^^^^^^^^^^^^^^^^^^\n",
            "  File \"/content/StyleTransfer/train_style.py\", line 110, in render_test\n",
            "    evaluation_feature_path(test_dataset, tensorf, c2ws, renderer, args.chunk_size, f'{logfolder}/{args.expname}/imgs_path_all/{style_name}',\n",
            "  File \"/usr/local/lib/python3.11/dist-packages/torch/utils/_contextlib.py\", line 115, in decorate_context\n",
            "    return func(*args, **kwargs)\n",
            "           ^^^^^^^^^^^^^^^^^^^^^\n",
            "  File \"/content/StyleTransfer/renderer.py\", line 166, in evaluation_feature_path\n",
            "    feature_map, _, _ = renderer(rays, tensorf, chunk=chunk_size, N_samples=N_samples, ndc_ray=ndc_ray, \n",
            "                        ^^^^^^^^^^^^^^^^^^^^^^^^^^^^^^^^^^^^^^^^^^^^^^^^^^^^^^^^^^^^^^^^^^^^^^^^^^^^^^^\n",
            "  File \"/content/StyleTransfer/renderer.py\", line 25, in OctreeRender_trilinear_fast\n",
            "    feature_map, acc_map = tensorf.render_feature_map(rays_chunk, s_mean_std_mat=s_mean_std_mat, is_train=is_train, ndc_ray=ndc_ray, N_samples=N_samples)\n",
            "                           ^^^^^^^^^^^^^^^^^^^^^^^^^^^^^^^^^^^^^^^^^^^^^^^^^^^^^^^^^^^^^^^^^^^^^^^^^^^^^^^^^^^^^^^^^^^^^^^^^^^^^^^^^^^^^^^^^^^^^^^^^^^^^^\n",
            "  File \"/content/StyleTransfer/models/tensoRF.py\", line 217, in render_feature_map\n",
            "    sigma_feature = self.compute_densityfeature(xyz_sampled[ray_valid])\n",
            "                    ^^^^^^^^^^^^^^^^^^^^^^^^^^^^^^^^^^^^^^^^^^^^^^^^^^^\n",
            "  File \"/content/StyleTransfer/models/tensoRF.py\", line 143, in compute_densityfeature\n",
            "    line_coef_point = F.grid_sample(self.density_line[idx_plane], coordinate_line[[idx_plane]],\n",
            "                      ^^^^^^^^^^^^^^^^^^^^^^^^^^^^^^^^^^^^^^^^^^^^^^^^^^^^^^^^^^^^^^^^^^^^^^^^^\n",
            "  File \"/usr/local/lib/python3.11/dist-packages/torch/nn/functional.py\", line 4244, in grid_sample\n",
            "    return torch.grid_sampler(input, grid, mode_enum, padding_mode_enum, align_corners)\n",
            "           ^^^^^^^^^^^^^^^^^^^^^^^^^^^^^^^^^^^^^^^^^^^^^^^^^^^^^^^^^^^^^^^^^^^^^^^^^^^^\n",
            "KeyboardInterrupt\n",
            "^C\n"
          ]
        }
      ],
      "source": [
        "!python train_style.py \\\n",
        "  --config configs/llff_style.txt \\\n",
        "  --datadir /content/drive/MyDrive/data/nerf_llff_data/trex \\\n",
        "  --expname trex_style_landscape \\\n",
        "  --ckpt /content/drive/MyDrive/log_style/trex_style_landscape2/trex_style_landscape2.th \\\n",
        "  --render_only 1 \\\n",
        "  --render_train 0 \\\n",
        "  --render_test 1 \\\n",
        "  --render_path 1 \\\n",
        "  --chunk_size 1024 \\\n",
        "  --rm_weight_mask_thre 0.0001 \\\n",
        "  --style_img /content/drive/MyDrive/data/WikiArt/images/landscape/10d57f303904c2352a7410ce7c2dfb9fc.jpg\n"
      ]
    },
    {
      "cell_type": "code",
      "execution_count": null,
      "metadata": {
        "colab": {
          "base_uri": "https://localhost:8080/"
        },
        "id": "bLuHj2e6kvu0",
        "outputId": "d6088874-248e-43f6-f320-a29ff4ad2de1"
      },
      "outputs": [
        {
          "name": "stdout",
          "output_type": "stream",
          "text": [
            "Namespace(config='configs/llff_style.txt', expname='trex_style_landscape3', basedir='./log_style', add_timestamp=0, datadir='/content/drive/MyDrive/data/nerf_llff_data/trex', wikiartdir='./data/WikiArt', progress_refresh_rate=10, with_depth=False, downsample_train=4.0, downsample_test=1.0, model_name='TensorVMSplit', batch_size=4096, n_iters=10000, dataset_name='llff', patch_size=256, chunk_size=1024, lr_init=0.02, lr_basis=0.0001, lr_finetune=1e-05, lr_decay_iters=-1, lr_decay_target_ratio=0.1, lr_upsample_reset=1, L1_weight_inital=0.0, L1_weight_rest=0, Ortho_weight=0.0, TV_weight_density=0.0, TV_weight_app=0.0, TV_weight_feature=0.0, style_weight=20.0, content_weight=1.0, image_tv_weight=0.0, featuremap_tv_weight=0.0, n_lamb_sigma=[16, 4, 4], n_lamb_sh=[48, 12, 12], data_dim_color=27, rm_weight_mask_thre=0.0001, alpha_mask_thre=0.0001, distance_scale=25, density_shift=-10, shadingMode='MLP_Fea', pos_pe=6, view_pe=6, fea_pe=6, featureC=128, ckpt='/content/drive/MyDrive/log_style/trex_style_landscape2/trex_style_landscape2.th', render_only=1, render_test=1, render_train=0, render_path=1, export_mesh=0, style_img='/content/drive/MyDrive/data/WikiArt/images/marina/0020ab920f097f6f604aafcc557c42ebc.jpg', lindisp=False, perturb=1.0, accumulate_decay=0.998, fea2denseAct='relu', ndc_ray=1, nSamples=300, step_ratio=0.5, white_bkgd=False, N_voxel_init=2097156, N_voxel_final=262144000, upsamp_list=None, update_AlphaMask_list=None, idx_view=0, N_vis=5, vis_every=10000)\n",
            "aabb tensor([-1.5000, -1.6700, -1.0000,  1.5000,  1.6700,  1.0000], device='cuda:0')\n",
            "grid size [706, 786, 471]\n",
            "sampling step size:  tensor(0.0021, device='cuda:0')\n",
            "sampling number:  2311\n",
            "pos_pe 6 view_pe 0 fea_pe 0\n",
            "7it [04:47, 41.00s/it]\n",
            "WARNING:imageio_ffmpeg:IMAGEIO FFMPEG_WRITER WARNING: input image is not divisible by macro_block_size=16, resizing from (1008, 756) to (1008, 768) to ensure video compatibility with most codecs and players. To prevent resizing, make your input image divisible by the macro_block_size or set the macro_block_size to 1 (risking incompatibility).\n",
            "WARNING:imageio_ffmpeg:IMAGEIO FFMPEG_WRITER WARNING: input image is not divisible by macro_block_size=16, resizing from (1008, 756) to (1008, 768) to ensure video compatibility with most codecs and players. To prevent resizing, make your input image divisible by the macro_block_size or set the macro_block_size to 1 (risking incompatibility).\n",
            "120it [1:23:46, 41.89s/it]\n",
            "WARNING:imageio_ffmpeg:IMAGEIO FFMPEG_WRITER WARNING: input image is not divisible by macro_block_size=16, resizing from (1008, 756) to (1008, 768) to ensure video compatibility with most codecs and players. To prevent resizing, make your input image divisible by the macro_block_size or set the macro_block_size to 1 (risking incompatibility).\n",
            "WARNING:imageio_ffmpeg:IMAGEIO FFMPEG_WRITER WARNING: input image is not divisible by macro_block_size=16, resizing from (1008, 756) to (1008, 768) to ensure video compatibility with most codecs and players. To prevent resizing, make your input image divisible by the macro_block_size or set the macro_block_size to 1 (risking incompatibility).\n"
          ]
        }
      ],
      "source": [
        "!python train_style.py \\\n",
        "  --config configs/llff_style.txt \\\n",
        "  --datadir /content/drive/MyDrive/data/nerf_llff_data/trex \\\n",
        "  --expname trex_style_landscape3 \\\n",
        "  --ckpt /content/drive/MyDrive/log_style/trex_style_landscape2/trex_style_landscape2.th \\\n",
        "  --render_only 1 \\\n",
        "  --render_train 0 \\\n",
        "  --render_test 1 \\\n",
        "  --render_path 1 \\\n",
        "  --chunk_size 1024 \\\n",
        "  --rm_weight_mask_thre 0.0001 \\\n",
        "  --style_img /content/drive/MyDrive/data/WikiArt/images/marina/0020ab920f097f6f604aafcc557c42ebc.jpg\n"
      ]
    }
  ],
  "metadata": {
    "accelerator": "GPU",
    "colab": {
      "gpuType": "T4",
      "provenance": [],
      "authorship_tag": "ABX9TyMmRrpwmQlfrbNqPHnRYcpT",
      "include_colab_link": true
    },
    "kernelspec": {
      "display_name": "Python 3",
      "name": "python3"
    },
    "language_info": {
      "name": "python"
    }
  },
  "nbformat": 4,
  "nbformat_minor": 0
}